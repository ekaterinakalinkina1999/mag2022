{
  "cells": [
    {
      "cell_type": "markdown",
      "id": "e0d15bce-e0f8-4bde-82c8-ac9abfb7b497",
      "metadata": {
        "id": "e0d15bce-e0f8-4bde-82c8-ac9abfb7b497"
      },
      "source": [
        "## Dataset & Dataloader"
      ]
    },
    {
      "cell_type": "markdown",
      "id": "d2333acd-699e-46a3-82e4-3cc7fe4463f3",
      "metadata": {
        "id": "d2333acd-699e-46a3-82e4-3cc7fe4463f3"
      },
      "source": [
        "Датасет хранит все данные, а даталоудер может по ним итерироваться, управлять созданием батчей, трансформировать данные и т.д."
      ]
    },
    {
      "cell_type": "code",
      "execution_count": null,
      "id": "b69b722c-5fa9-4552-bd6c-af3f256daeae",
      "metadata": {
        "id": "b69b722c-5fa9-4552-bd6c-af3f256daeae"
      },
      "outputs": [],
      "source": [
        "!pip install torchmetrics"
      ]
    },
    {
      "cell_type": "code",
      "execution_count": null,
      "id": "aaa9b718-f1aa-40ea-864d-65d8812727fc",
      "metadata": {
        "id": "aaa9b718-f1aa-40ea-864d-65d8812727fc"
      },
      "outputs": [],
      "source": [
        "import pandas as pd\n",
        "import numpy as np\n",
        "import torch\n",
        "import torch.nn as nn\n",
        "from torch.utils.data import Dataset, DataLoader, TensorDataset\n",
        "import torch.nn.functional as F\n",
        "import torch.optim as optim\n",
        "from torchmetrics import Accuracy\n",
        "from sklearn.model_selection import train_test_split"
      ]
    },
    {
      "cell_type": "markdown",
      "id": "a5dfbc3a-dc4b-42e5-ad5c-2ae05f3d46e4",
      "metadata": {
        "id": "a5dfbc3a-dc4b-42e5-ad5c-2ae05f3d46e4"
      },
      "source": [
        "Pandas для нас необязателен, но его удобно использовать.\n",
        "\n",
        "У нас есть датасет из прошлого семестра про качество вина. Подгрузим его."
      ]
    },
    {
      "cell_type": "code",
      "execution_count": null,
      "id": "bc30c416-4fd3-48d0-b862-91aed3703fe8",
      "metadata": {
        "id": "bc30c416-4fd3-48d0-b862-91aed3703fe8"
      },
      "outputs": [],
      "source": [
        "!wget https://raw.githubusercontent.com/rsuh-python/mag2022/main/CL/term02/04-ClassificationTrees/winequalityN.csv"
      ]
    },
    {
      "cell_type": "code",
      "execution_count": null,
      "id": "96ed55ce-78d1-496b-bb87-672e2186f378",
      "metadata": {
        "id": "96ed55ce-78d1-496b-bb87-672e2186f378",
        "outputId": "18bb90ab-4b8f-4dde-9d25-995bd738fb07",
        "colab": {
          "base_uri": "https://localhost:8080/",
          "height": 260
        }
      },
      "outputs": [
        {
          "output_type": "execute_result",
          "data": {
            "text/plain": [
              "    type  fixed acidity  volatile acidity  citric acid  residual sugar  \\\n",
              "0  white            7.0              0.27         0.36            20.7   \n",
              "1  white            6.3              0.30         0.34             1.6   \n",
              "2  white            8.1              0.28         0.40             6.9   \n",
              "3  white            7.2              0.23         0.32             8.5   \n",
              "4  white            7.2              0.23         0.32             8.5   \n",
              "\n",
              "   chlorides  free sulfur dioxide  total sulfur dioxide  density    pH  \\\n",
              "0      0.045                 45.0                 170.0   1.0010  3.00   \n",
              "1      0.049                 14.0                 132.0   0.9940  3.30   \n",
              "2      0.050                 30.0                  97.0   0.9951  3.26   \n",
              "3      0.058                 47.0                 186.0   0.9956  3.19   \n",
              "4      0.058                 47.0                 186.0   0.9956  3.19   \n",
              "\n",
              "   sulphates  alcohol  quality  \n",
              "0       0.45      8.8        6  \n",
              "1       0.49      9.5        6  \n",
              "2       0.44     10.1        6  \n",
              "3       0.40      9.9        6  \n",
              "4       0.40      9.9        6  "
            ],
            "text/html": [
              "\n",
              "  <div id=\"df-eeceeeb1-e3d7-43cc-87ca-9aa427acfd01\" class=\"colab-df-container\">\n",
              "    <div>\n",
              "<style scoped>\n",
              "    .dataframe tbody tr th:only-of-type {\n",
              "        vertical-align: middle;\n",
              "    }\n",
              "\n",
              "    .dataframe tbody tr th {\n",
              "        vertical-align: top;\n",
              "    }\n",
              "\n",
              "    .dataframe thead th {\n",
              "        text-align: right;\n",
              "    }\n",
              "</style>\n",
              "<table border=\"1\" class=\"dataframe\">\n",
              "  <thead>\n",
              "    <tr style=\"text-align: right;\">\n",
              "      <th></th>\n",
              "      <th>type</th>\n",
              "      <th>fixed acidity</th>\n",
              "      <th>volatile acidity</th>\n",
              "      <th>citric acid</th>\n",
              "      <th>residual sugar</th>\n",
              "      <th>chlorides</th>\n",
              "      <th>free sulfur dioxide</th>\n",
              "      <th>total sulfur dioxide</th>\n",
              "      <th>density</th>\n",
              "      <th>pH</th>\n",
              "      <th>sulphates</th>\n",
              "      <th>alcohol</th>\n",
              "      <th>quality</th>\n",
              "    </tr>\n",
              "  </thead>\n",
              "  <tbody>\n",
              "    <tr>\n",
              "      <th>0</th>\n",
              "      <td>white</td>\n",
              "      <td>7.0</td>\n",
              "      <td>0.27</td>\n",
              "      <td>0.36</td>\n",
              "      <td>20.7</td>\n",
              "      <td>0.045</td>\n",
              "      <td>45.0</td>\n",
              "      <td>170.0</td>\n",
              "      <td>1.0010</td>\n",
              "      <td>3.00</td>\n",
              "      <td>0.45</td>\n",
              "      <td>8.8</td>\n",
              "      <td>6</td>\n",
              "    </tr>\n",
              "    <tr>\n",
              "      <th>1</th>\n",
              "      <td>white</td>\n",
              "      <td>6.3</td>\n",
              "      <td>0.30</td>\n",
              "      <td>0.34</td>\n",
              "      <td>1.6</td>\n",
              "      <td>0.049</td>\n",
              "      <td>14.0</td>\n",
              "      <td>132.0</td>\n",
              "      <td>0.9940</td>\n",
              "      <td>3.30</td>\n",
              "      <td>0.49</td>\n",
              "      <td>9.5</td>\n",
              "      <td>6</td>\n",
              "    </tr>\n",
              "    <tr>\n",
              "      <th>2</th>\n",
              "      <td>white</td>\n",
              "      <td>8.1</td>\n",
              "      <td>0.28</td>\n",
              "      <td>0.40</td>\n",
              "      <td>6.9</td>\n",
              "      <td>0.050</td>\n",
              "      <td>30.0</td>\n",
              "      <td>97.0</td>\n",
              "      <td>0.9951</td>\n",
              "      <td>3.26</td>\n",
              "      <td>0.44</td>\n",
              "      <td>10.1</td>\n",
              "      <td>6</td>\n",
              "    </tr>\n",
              "    <tr>\n",
              "      <th>3</th>\n",
              "      <td>white</td>\n",
              "      <td>7.2</td>\n",
              "      <td>0.23</td>\n",
              "      <td>0.32</td>\n",
              "      <td>8.5</td>\n",
              "      <td>0.058</td>\n",
              "      <td>47.0</td>\n",
              "      <td>186.0</td>\n",
              "      <td>0.9956</td>\n",
              "      <td>3.19</td>\n",
              "      <td>0.40</td>\n",
              "      <td>9.9</td>\n",
              "      <td>6</td>\n",
              "    </tr>\n",
              "    <tr>\n",
              "      <th>4</th>\n",
              "      <td>white</td>\n",
              "      <td>7.2</td>\n",
              "      <td>0.23</td>\n",
              "      <td>0.32</td>\n",
              "      <td>8.5</td>\n",
              "      <td>0.058</td>\n",
              "      <td>47.0</td>\n",
              "      <td>186.0</td>\n",
              "      <td>0.9956</td>\n",
              "      <td>3.19</td>\n",
              "      <td>0.40</td>\n",
              "      <td>9.9</td>\n",
              "      <td>6</td>\n",
              "    </tr>\n",
              "  </tbody>\n",
              "</table>\n",
              "</div>\n",
              "    <div class=\"colab-df-buttons\">\n",
              "\n",
              "  <div class=\"colab-df-container\">\n",
              "    <button class=\"colab-df-convert\" onclick=\"convertToInteractive('df-eeceeeb1-e3d7-43cc-87ca-9aa427acfd01')\"\n",
              "            title=\"Convert this dataframe to an interactive table.\"\n",
              "            style=\"display:none;\">\n",
              "\n",
              "  <svg xmlns=\"http://www.w3.org/2000/svg\" height=\"24px\" viewBox=\"0 -960 960 960\">\n",
              "    <path d=\"M120-120v-720h720v720H120Zm60-500h600v-160H180v160Zm220 220h160v-160H400v160Zm0 220h160v-160H400v160ZM180-400h160v-160H180v160Zm440 0h160v-160H620v160ZM180-180h160v-160H180v160Zm440 0h160v-160H620v160Z\"/>\n",
              "  </svg>\n",
              "    </button>\n",
              "\n",
              "  <style>\n",
              "    .colab-df-container {\n",
              "      display:flex;\n",
              "      gap: 12px;\n",
              "    }\n",
              "\n",
              "    .colab-df-convert {\n",
              "      background-color: #E8F0FE;\n",
              "      border: none;\n",
              "      border-radius: 50%;\n",
              "      cursor: pointer;\n",
              "      display: none;\n",
              "      fill: #1967D2;\n",
              "      height: 32px;\n",
              "      padding: 0 0 0 0;\n",
              "      width: 32px;\n",
              "    }\n",
              "\n",
              "    .colab-df-convert:hover {\n",
              "      background-color: #E2EBFA;\n",
              "      box-shadow: 0px 1px 2px rgba(60, 64, 67, 0.3), 0px 1px 3px 1px rgba(60, 64, 67, 0.15);\n",
              "      fill: #174EA6;\n",
              "    }\n",
              "\n",
              "    .colab-df-buttons div {\n",
              "      margin-bottom: 4px;\n",
              "    }\n",
              "\n",
              "    [theme=dark] .colab-df-convert {\n",
              "      background-color: #3B4455;\n",
              "      fill: #D2E3FC;\n",
              "    }\n",
              "\n",
              "    [theme=dark] .colab-df-convert:hover {\n",
              "      background-color: #434B5C;\n",
              "      box-shadow: 0px 1px 3px 1px rgba(0, 0, 0, 0.15);\n",
              "      filter: drop-shadow(0px 1px 2px rgba(0, 0, 0, 0.3));\n",
              "      fill: #FFFFFF;\n",
              "    }\n",
              "  </style>\n",
              "\n",
              "    <script>\n",
              "      const buttonEl =\n",
              "        document.querySelector('#df-eeceeeb1-e3d7-43cc-87ca-9aa427acfd01 button.colab-df-convert');\n",
              "      buttonEl.style.display =\n",
              "        google.colab.kernel.accessAllowed ? 'block' : 'none';\n",
              "\n",
              "      async function convertToInteractive(key) {\n",
              "        const element = document.querySelector('#df-eeceeeb1-e3d7-43cc-87ca-9aa427acfd01');\n",
              "        const dataTable =\n",
              "          await google.colab.kernel.invokeFunction('convertToInteractive',\n",
              "                                                    [key], {});\n",
              "        if (!dataTable) return;\n",
              "\n",
              "        const docLinkHtml = 'Like what you see? Visit the ' +\n",
              "          '<a target=\"_blank\" href=https://colab.research.google.com/notebooks/data_table.ipynb>data table notebook</a>'\n",
              "          + ' to learn more about interactive tables.';\n",
              "        element.innerHTML = '';\n",
              "        dataTable['output_type'] = 'display_data';\n",
              "        await google.colab.output.renderOutput(dataTable, element);\n",
              "        const docLink = document.createElement('div');\n",
              "        docLink.innerHTML = docLinkHtml;\n",
              "        element.appendChild(docLink);\n",
              "      }\n",
              "    </script>\n",
              "  </div>\n",
              "\n",
              "\n",
              "<div id=\"df-9a5ada37-6a79-45f7-9313-02e05e05474d\">\n",
              "  <button class=\"colab-df-quickchart\" onclick=\"quickchart('df-9a5ada37-6a79-45f7-9313-02e05e05474d')\"\n",
              "            title=\"Suggest charts.\"\n",
              "            style=\"display:none;\">\n",
              "\n",
              "<svg xmlns=\"http://www.w3.org/2000/svg\" height=\"24px\"viewBox=\"0 0 24 24\"\n",
              "     width=\"24px\">\n",
              "    <g>\n",
              "        <path d=\"M19 3H5c-1.1 0-2 .9-2 2v14c0 1.1.9 2 2 2h14c1.1 0 2-.9 2-2V5c0-1.1-.9-2-2-2zM9 17H7v-7h2v7zm4 0h-2V7h2v10zm4 0h-2v-4h2v4z\"/>\n",
              "    </g>\n",
              "</svg>\n",
              "  </button>\n",
              "\n",
              "<style>\n",
              "  .colab-df-quickchart {\n",
              "      --bg-color: #E8F0FE;\n",
              "      --fill-color: #1967D2;\n",
              "      --hover-bg-color: #E2EBFA;\n",
              "      --hover-fill-color: #174EA6;\n",
              "      --disabled-fill-color: #AAA;\n",
              "      --disabled-bg-color: #DDD;\n",
              "  }\n",
              "\n",
              "  [theme=dark] .colab-df-quickchart {\n",
              "      --bg-color: #3B4455;\n",
              "      --fill-color: #D2E3FC;\n",
              "      --hover-bg-color: #434B5C;\n",
              "      --hover-fill-color: #FFFFFF;\n",
              "      --disabled-bg-color: #3B4455;\n",
              "      --disabled-fill-color: #666;\n",
              "  }\n",
              "\n",
              "  .colab-df-quickchart {\n",
              "    background-color: var(--bg-color);\n",
              "    border: none;\n",
              "    border-radius: 50%;\n",
              "    cursor: pointer;\n",
              "    display: none;\n",
              "    fill: var(--fill-color);\n",
              "    height: 32px;\n",
              "    padding: 0;\n",
              "    width: 32px;\n",
              "  }\n",
              "\n",
              "  .colab-df-quickchart:hover {\n",
              "    background-color: var(--hover-bg-color);\n",
              "    box-shadow: 0 1px 2px rgba(60, 64, 67, 0.3), 0 1px 3px 1px rgba(60, 64, 67, 0.15);\n",
              "    fill: var(--button-hover-fill-color);\n",
              "  }\n",
              "\n",
              "  .colab-df-quickchart-complete:disabled,\n",
              "  .colab-df-quickchart-complete:disabled:hover {\n",
              "    background-color: var(--disabled-bg-color);\n",
              "    fill: var(--disabled-fill-color);\n",
              "    box-shadow: none;\n",
              "  }\n",
              "\n",
              "  .colab-df-spinner {\n",
              "    border: 2px solid var(--fill-color);\n",
              "    border-color: transparent;\n",
              "    border-bottom-color: var(--fill-color);\n",
              "    animation:\n",
              "      spin 1s steps(1) infinite;\n",
              "  }\n",
              "\n",
              "  @keyframes spin {\n",
              "    0% {\n",
              "      border-color: transparent;\n",
              "      border-bottom-color: var(--fill-color);\n",
              "      border-left-color: var(--fill-color);\n",
              "    }\n",
              "    20% {\n",
              "      border-color: transparent;\n",
              "      border-left-color: var(--fill-color);\n",
              "      border-top-color: var(--fill-color);\n",
              "    }\n",
              "    30% {\n",
              "      border-color: transparent;\n",
              "      border-left-color: var(--fill-color);\n",
              "      border-top-color: var(--fill-color);\n",
              "      border-right-color: var(--fill-color);\n",
              "    }\n",
              "    40% {\n",
              "      border-color: transparent;\n",
              "      border-right-color: var(--fill-color);\n",
              "      border-top-color: var(--fill-color);\n",
              "    }\n",
              "    60% {\n",
              "      border-color: transparent;\n",
              "      border-right-color: var(--fill-color);\n",
              "    }\n",
              "    80% {\n",
              "      border-color: transparent;\n",
              "      border-right-color: var(--fill-color);\n",
              "      border-bottom-color: var(--fill-color);\n",
              "    }\n",
              "    90% {\n",
              "      border-color: transparent;\n",
              "      border-bottom-color: var(--fill-color);\n",
              "    }\n",
              "  }\n",
              "</style>\n",
              "\n",
              "  <script>\n",
              "    async function quickchart(key) {\n",
              "      const quickchartButtonEl =\n",
              "        document.querySelector('#' + key + ' button');\n",
              "      quickchartButtonEl.disabled = true;  // To prevent multiple clicks.\n",
              "      quickchartButtonEl.classList.add('colab-df-spinner');\n",
              "      try {\n",
              "        const charts = await google.colab.kernel.invokeFunction(\n",
              "            'suggestCharts', [key], {});\n",
              "      } catch (error) {\n",
              "        console.error('Error during call to suggestCharts:', error);\n",
              "      }\n",
              "      quickchartButtonEl.classList.remove('colab-df-spinner');\n",
              "      quickchartButtonEl.classList.add('colab-df-quickchart-complete');\n",
              "    }\n",
              "    (() => {\n",
              "      let quickchartButtonEl =\n",
              "        document.querySelector('#df-9a5ada37-6a79-45f7-9313-02e05e05474d button');\n",
              "      quickchartButtonEl.style.display =\n",
              "        google.colab.kernel.accessAllowed ? 'block' : 'none';\n",
              "    })();\n",
              "  </script>\n",
              "</div>\n",
              "    </div>\n",
              "  </div>\n"
            ]
          },
          "metadata": {},
          "execution_count": 4
        }
      ],
      "source": [
        "data = pd.read_csv('winequalityN.csv')\n",
        "data.head()"
      ]
    },
    {
      "cell_type": "code",
      "execution_count": null,
      "id": "38298019-6ce2-4124-8cc4-7fc285d7d733",
      "metadata": {
        "id": "38298019-6ce2-4124-8cc4-7fc285d7d733",
        "outputId": "f3ac6083-8839-4f39-848c-0b329b335287",
        "colab": {
          "base_uri": "https://localhost:8080/"
        }
      },
      "outputs": [
        {
          "output_type": "stream",
          "name": "stdout",
          "text": [
            "<class 'pandas.core.frame.DataFrame'>\n",
            "RangeIndex: 6497 entries, 0 to 6496\n",
            "Data columns (total 13 columns):\n",
            " #   Column                Non-Null Count  Dtype  \n",
            "---  ------                --------------  -----  \n",
            " 0   type                  6497 non-null   object \n",
            " 1   fixed acidity         6487 non-null   float64\n",
            " 2   volatile acidity      6489 non-null   float64\n",
            " 3   citric acid           6494 non-null   float64\n",
            " 4   residual sugar        6495 non-null   float64\n",
            " 5   chlorides             6495 non-null   float64\n",
            " 6   free sulfur dioxide   6497 non-null   float64\n",
            " 7   total sulfur dioxide  6497 non-null   float64\n",
            " 8   density               6497 non-null   float64\n",
            " 9   pH                    6488 non-null   float64\n",
            " 10  sulphates             6493 non-null   float64\n",
            " 11  alcohol               6497 non-null   float64\n",
            " 12  quality               6497 non-null   int64  \n",
            "dtypes: float64(11), int64(1), object(1)\n",
            "memory usage: 660.0+ KB\n"
          ]
        }
      ],
      "source": [
        "data.info()"
      ]
    },
    {
      "cell_type": "markdown",
      "id": "8572897f-48c7-4157-9081-4bcfd9fd90f8",
      "metadata": {
        "id": "8572897f-48c7-4157-9081-4bcfd9fd90f8"
      },
      "source": [
        "В датасете есть пропуски: дропнем их, иначе торчу будет плохо."
      ]
    },
    {
      "cell_type": "code",
      "execution_count": null,
      "id": "acfbe884-5a54-4e6c-87de-a677b8c106fc",
      "metadata": {
        "id": "acfbe884-5a54-4e6c-87de-a677b8c106fc"
      },
      "outputs": [],
      "source": [
        "data.dropna(inplace=True)"
      ]
    },
    {
      "cell_type": "markdown",
      "id": "e725fd2a-fc82-48c1-ae4c-8ac77182e7e5",
      "metadata": {
        "id": "e725fd2a-fc82-48c1-ae4c-8ac77182e7e5"
      },
      "source": [
        "Для простоты сейчас оставим только числовые данные."
      ]
    },
    {
      "cell_type": "code",
      "execution_count": null,
      "id": "a9e68ab2-89d2-435b-8b2f-1996164b15ca",
      "metadata": {
        "id": "a9e68ab2-89d2-435b-8b2f-1996164b15ca"
      },
      "outputs": [],
      "source": [
        "data.drop('type', axis=1, inplace=True)"
      ]
    },
    {
      "cell_type": "markdown",
      "id": "cb037104-44a5-46d9-8223-6b6b486dce36",
      "metadata": {
        "id": "cb037104-44a5-46d9-8223-6b6b486dce36"
      },
      "source": [
        "Допустим, мы хотим обучить простенькую нейронку на этих данных. Посмотрим распределение классов и их количество:"
      ]
    },
    {
      "cell_type": "code",
      "execution_count": null,
      "id": "03c82bd8-68da-480f-96b9-fc0a7ed25b00",
      "metadata": {
        "id": "03c82bd8-68da-480f-96b9-fc0a7ed25b00",
        "outputId": "108f0cf5-810b-4601-d73e-053b1ec5d495",
        "colab": {
          "base_uri": "https://localhost:8080/"
        }
      },
      "outputs": [
        {
          "output_type": "execute_result",
          "data": {
            "text/plain": [
              "6    2820\n",
              "5    2128\n",
              "7    1074\n",
              "4     214\n",
              "8     192\n",
              "3      30\n",
              "9       5\n",
              "Name: quality, dtype: int64"
            ]
          },
          "metadata": {},
          "execution_count": 9
        }
      ],
      "source": [
        "data.quality.value_counts()"
      ]
    },
    {
      "cell_type": "markdown",
      "id": "414c3baf-ff75-44db-93c1-822235eef3d0",
      "metadata": {
        "id": "414c3baf-ff75-44db-93c1-822235eef3d0"
      },
      "source": [
        "Давайте укрупним классы: сольем 3, 4 с 5 и 8, 9 с 7 (это, конечно, не дело, но нам пока побаловаться сойдет)."
      ]
    },
    {
      "cell_type": "code",
      "execution_count": null,
      "id": "fed1040b-7d4e-42dd-9627-d04a3c92a44d",
      "metadata": {
        "id": "fed1040b-7d4e-42dd-9627-d04a3c92a44d"
      },
      "outputs": [],
      "source": [
        "data.loc[data['quality'] == 8, 'quality'] = 7\n",
        "data.loc[data['quality'] == 9, 'quality'] = 7\n",
        "data.loc[data['quality'] == 3, 'quality'] = 5\n",
        "data.loc[data['quality'] == 4, 'quality'] = 5"
      ]
    },
    {
      "cell_type": "markdown",
      "id": "344b5e84-c748-4ff0-ab4d-1ba1dd8cb82d",
      "metadata": {
        "id": "344b5e84-c748-4ff0-ab4d-1ba1dd8cb82d"
      },
      "source": [
        "Отделим мухи от котлет, нормализуем данные и для красоты перекодируем классы в 0, 1, 2 (хотя в целом пофиг вроде бы)."
      ]
    },
    {
      "cell_type": "code",
      "execution_count": null,
      "id": "ac34ba70-959e-4f50-87a0-1221c8831fdc",
      "metadata": {
        "id": "ac34ba70-959e-4f50-87a0-1221c8831fdc"
      },
      "outputs": [],
      "source": [
        "X = data.drop('quality', axis=1)\n",
        "y = data.quality"
      ]
    },
    {
      "cell_type": "code",
      "execution_count": null,
      "id": "0b6d185f-caba-47aa-a535-876ebbf87659",
      "metadata": {
        "id": "0b6d185f-caba-47aa-a535-876ebbf87659"
      },
      "outputs": [],
      "source": [
        "from sklearn.preprocessing import StandardScaler\n",
        "ss = StandardScaler()\n",
        "\n",
        "X_train = ss.fit_transform(X_train)\n",
        "X_test = ss.transform(X_test)"
      ]
    },
    {
      "cell_type": "code",
      "execution_count": null,
      "id": "b9a37c1b-e93d-46ee-8501-6a748ec9c1a7",
      "metadata": {
        "id": "b9a37c1b-e93d-46ee-8501-6a748ec9c1a7",
        "outputId": "9a7db2db-dec0-43bf-c560-a1749449870c",
        "colab": {
          "base_uri": "https://localhost:8080/"
        }
      },
      "outputs": [
        {
          "output_type": "execute_result",
          "data": {
            "text/plain": [
              "array([1, 1, 1, ..., 1, 0, 1])"
            ]
          },
          "metadata": {},
          "execution_count": 14
        }
      ],
      "source": [
        "from sklearn.preprocessing import LabelEncoder\n",
        "le = LabelEncoder()\n",
        "y = le.fit_transform(y)\n",
        "y"
      ]
    },
    {
      "cell_type": "markdown",
      "id": "c8824378-af06-4681-9c46-3783a51854c2",
      "metadata": {
        "id": "c8824378-af06-4681-9c46-3783a51854c2"
      },
      "source": [
        "Для таких простых табличных данных можно использовать стандартные Dataset & DataLoader, но мы посмотрим, как можно написать собственный класс Dataset.\n",
        "\n",
        "Поделим на трейн и тест обычным sklearn'ом."
      ]
    },
    {
      "cell_type": "code",
      "execution_count": null,
      "id": "100aaefa-8b97-4a17-b2cf-aeafdab5a239",
      "metadata": {
        "id": "100aaefa-8b97-4a17-b2cf-aeafdab5a239"
      },
      "outputs": [],
      "source": [
        "X_train, X_test, y_train, y_test = train_test_split(X, y, test_size=0.2, stratify=y, random_state=42)"
      ]
    },
    {
      "cell_type": "markdown",
      "id": "e824b7c5-69fd-4a22-8053-9c05563390f2",
      "metadata": {
        "id": "e824b7c5-69fd-4a22-8053-9c05563390f2"
      },
      "source": [
        "В классе для датасета необходимо перегрузить два метода (помимо init): чтобы экземпляр возвращал свою длину и выдавал пару фичи - ytrue."
      ]
    },
    {
      "cell_type": "code",
      "execution_count": null,
      "id": "171421ef-1073-40de-994f-f7b45a9b41a0",
      "metadata": {
        "id": "171421ef-1073-40de-994f-f7b45a9b41a0"
      },
      "outputs": [],
      "source": [
        "class MyDataset(Dataset):\n",
        "\n",
        "    def __init__(self, x, y):\n",
        "        self.x = torch.tensor(x, dtype=torch.float32)\n",
        "        self.y = torch.tensor(y, dtype=torch.long)\n",
        "\n",
        "    def __len__(self):\n",
        "        return len(self.y)\n",
        "\n",
        "    def __getitem__(self, idx):\n",
        "        return self.x[idx], self.y[idx]"
      ]
    },
    {
      "cell_type": "markdown",
      "id": "155534fd-3ece-48a2-834f-7dfdf7436720",
      "metadata": {
        "id": "155534fd-3ece-48a2-834f-7dfdf7436720"
      },
      "source": [
        "Проверим, как это будет выглядеть:"
      ]
    },
    {
      "cell_type": "code",
      "execution_count": null,
      "id": "91628de6-a7e6-407d-8999-afc57a78507b",
      "metadata": {
        "id": "91628de6-a7e6-407d-8999-afc57a78507b"
      },
      "outputs": [],
      "source": [
        "test = DataLoader(dataset=MyDataset(X_train, y_train), batch_size=5, shuffle=True)"
      ]
    },
    {
      "cell_type": "code",
      "execution_count": null,
      "id": "a3488da8-b905-4d3c-b4ad-a5b226c0a57e",
      "metadata": {
        "id": "a3488da8-b905-4d3c-b4ad-a5b226c0a57e"
      },
      "outputs": [],
      "source": [
        "next(iter(test))"
      ]
    },
    {
      "cell_type": "markdown",
      "id": "7507b9e7-5b71-4b44-b503-8647e850dc22",
      "metadata": {
        "id": "7507b9e7-5b71-4b44-b503-8647e850dc22"
      },
      "source": [
        "Теперь можно собрать трейн и тест. На трейне хотим шаффлить, чтобы было как можно больше вариаций в батчах, а на тесте скорее нет - для детерминированности результата."
      ]
    },
    {
      "cell_type": "code",
      "execution_count": null,
      "id": "5ec0e874-78a6-42a8-87bc-4bd04284c930",
      "metadata": {
        "id": "5ec0e874-78a6-42a8-87bc-4bd04284c930"
      },
      "outputs": [],
      "source": [
        "INPUT_SIZE = 11\n",
        "HIDDEN_SIZE = 35\n",
        "OUTPUT_SIZE = 3\n",
        "LEARNING_RATE = 1e-3\n",
        "EPOCHS = 100\n",
        "BATCH_SIZE = 1024 # у нас очень маленький датасет с маленьким набором фич, можем хоть весь целиком в батч запихнуть"
      ]
    },
    {
      "cell_type": "code",
      "execution_count": null,
      "id": "d63e7b1d-3d63-442a-9658-1720630a1e2c",
      "metadata": {
        "id": "d63e7b1d-3d63-442a-9658-1720630a1e2c"
      },
      "outputs": [],
      "source": [
        "train_loader = DataLoader(dataset=MyDataset(X_train, y_train), batch_size=BATCH_SIZE, shuffle=True)\n",
        "test_loader = DataLoader(dataset=MyDataset(X_test, y_test), batch_size=BATCH_SIZE, shuffle=False)"
      ]
    },
    {
      "cell_type": "markdown",
      "id": "4ae2af38-cdbb-42e4-8c00-e9bb260270cb",
      "metadata": {
        "id": "4ae2af38-cdbb-42e4-8c00-e9bb260270cb"
      },
      "source": [
        "Зададим параметры и напишем класс с моделью."
      ]
    },
    {
      "cell_type": "code",
      "execution_count": null,
      "id": "78a6644c-9b8f-4630-a000-e74d91b34005",
      "metadata": {
        "id": "78a6644c-9b8f-4630-a000-e74d91b34005"
      },
      "outputs": [],
      "source": [
        "class TorchModel(nn.Module):\n",
        "    def __init__(self):\n",
        "        super().__init__()\n",
        "        self.fc1 = nn.Linear(in_features=INPUT_SIZE, out_features=HIDDEN_SIZE)\n",
        "        self.fc2 = nn.Linear(in_features=HIDDEN_SIZE, out_features=HIDDEN_SIZE)\n",
        "        self.out = nn.Linear(in_features=HIDDEN_SIZE, out_features=OUTPUT_SIZE)\n",
        "\n",
        "    def forward(self, x):\n",
        "        x = nn.LeakyReLU()(self.fc1(x)) # побалуемся с функциями активации\n",
        "        x = nn.LeakyReLU()(self.fc2(x))\n",
        "        x = self.out(x)\n",
        "        return x"
      ]
    },
    {
      "cell_type": "markdown",
      "id": "6446d97a-3942-43da-9a8c-f46b13d59bc9",
      "metadata": {
        "id": "6446d97a-3942-43da-9a8c-f46b13d59bc9"
      },
      "source": [
        "Соберем нужные штуки и инициализируем модель"
      ]
    },
    {
      "cell_type": "code",
      "execution_count": null,
      "id": "cd7eebcf-9bf8-4c69-a61e-85396b792dab",
      "metadata": {
        "tags": [],
        "id": "cd7eebcf-9bf8-4c69-a61e-85396b792dab"
      },
      "outputs": [],
      "source": [
        "criterion = nn.CrossEntropyLoss()\n",
        "accuracy = Accuracy(task='multiclass', num_classes=3)\n",
        "\n",
        "torch.manual_seed(42)\n",
        "model = TorchModel()\n",
        "optimizer = optim.Adam(model.parameters(), lr=LEARNING_RATE)"
      ]
    },
    {
      "cell_type": "markdown",
      "id": "927bc348-42ff-4a38-ba5b-94bddff6dd70",
      "metadata": {
        "id": "927bc348-42ff-4a38-ba5b-94bddff6dd70"
      },
      "source": [
        "Скопипастим из прошлых тетрадок трейнлуп..."
      ]
    },
    {
      "cell_type": "code",
      "execution_count": null,
      "id": "b75cf271-2075-4387-a753-934bf18e6308",
      "metadata": {
        "tags": [],
        "id": "b75cf271-2075-4387-a753-934bf18e6308"
      },
      "outputs": [],
      "source": [
        "train_loss_values = []\n",
        "train_accuracy_values = []\n",
        "valid_loss_values = []\n",
        "valid_accuracy = []\n",
        "\n",
        "def run_train():\n",
        "    step = 0\n",
        "    for epoch in range(EPOCHS):\n",
        "        running_loss = []\n",
        "        running_acc = []\n",
        "        for features, label in train_loader:\n",
        "            # Reset gradients\n",
        "\n",
        "            output = model(features)\n",
        "            # Calculate error and backpropagate\n",
        "            loss = criterion(output, label)\n",
        "            loss.backward()\n",
        "            acc = accuracy(output, label).item()\n",
        "\n",
        "            # Update weights with gradients\n",
        "            optimizer.step()\n",
        "            optimizer.zero_grad()\n",
        "\n",
        "            running_loss.append(loss.item())\n",
        "            running_acc.append(acc)\n",
        "\n",
        "        train_loss_values.append(np.mean(running_loss))\n",
        "        train_accuracy_values.append(np.mean(running_acc))\n",
        "        if epoch % 20 == 0:\n",
        "            print(f'EPOCH {epoch}: train_loss: {train_loss_values[-1]}')# train_accuracy_values[-1]))\n",
        "\n",
        "\n",
        "        # Run validation\n",
        "        running_loss = []\n",
        "        running_acc = []\n",
        "        for features, label in test_loader:\n",
        "            output = model(features)\n",
        "            # Calculate error and backpropagate\n",
        "            loss = criterion(output, label)\n",
        "            acc = accuracy(output, label).item()\n",
        "\n",
        "            running_loss.append(loss.item())\n",
        "            running_acc.append(acc)\n",
        "\n",
        "        valid_loss_values.append(np.mean(running_loss))\n",
        "        valid_accuracy.append(np.mean(running_acc))\n",
        "        if epoch % 20 == 0:\n",
        "            print(f'EPOCH {epoch}: valid_loss: {valid_loss_values[-1]}, valid_accuracy: {valid_accuracy[-1]}')\n",
        "\n",
        "    return train_loss_values, train_accuracy_values, valid_loss_values, valid_accuracy"
      ]
    },
    {
      "cell_type": "code",
      "execution_count": null,
      "id": "22c4c2c2-dbed-40af-b76f-9d01dfab0d3c",
      "metadata": {
        "id": "22c4c2c2-dbed-40af-b76f-9d01dfab0d3c",
        "outputId": "87b74b89-9147-4cca-db90-834d69f6a675",
        "colab": {
          "base_uri": "https://localhost:8080/"
        }
      },
      "outputs": [
        {
          "output_type": "stream",
          "name": "stdout",
          "text": [
            "EPOCH 0: train_loss: 1.0902628501256306\n",
            "EPOCH 0: valid_loss: 1.080726683139801, valid_accuracy: 0.41939911246299744\n",
            "EPOCH 20: train_loss: 0.8548597296079\n",
            "EPOCH 20: valid_loss: 0.8437989354133606, valid_accuracy: 0.5913267433643341\n",
            "EPOCH 40: train_loss: 0.8250352839628855\n",
            "EPOCH 40: valid_loss: 0.8254418671131134, valid_accuracy: 0.5988560914993286\n",
            "EPOCH 60: train_loss: 0.799499491850535\n",
            "EPOCH 60: valid_loss: 0.8185004889965057, valid_accuracy: 0.5970917344093323\n",
            "EPOCH 80: train_loss: 0.7919277449448904\n",
            "EPOCH 80: valid_loss: 0.8120263814926147, valid_accuracy: 0.5890741050243378\n"
          ]
        }
      ],
      "source": [
        "train_loss_values, train_accuracy_values, valid_loss_values, valid_accuracy = run_train()"
      ]
    }
  ],
  "metadata": {
    "kernelspec": {
      "display_name": "mlearn",
      "language": "python",
      "name": "mlearn"
    },
    "language_info": {
      "codemirror_mode": {
        "name": "ipython",
        "version": 3
      },
      "file_extension": ".py",
      "mimetype": "text/x-python",
      "name": "python",
      "nbconvert_exporter": "python",
      "pygments_lexer": "ipython3",
      "version": "3.9.15"
    },
    "colab": {
      "provenance": []
    }
  },
  "nbformat": 4,
  "nbformat_minor": 5
}