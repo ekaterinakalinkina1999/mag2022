{
 "cells": [
  {
   "cell_type": "markdown",
   "metadata": {},
   "source": [
    "# Как научить компьютер читать? \n",
    "\n",
    "В этой тетрадке мы обучим свой собственный word2vec. Делать мы это будем на каком-нибудь не очень большом тексте, который вам предстоит выбрать самому. На выбор есть [несколько сказок](https://github.com/nevmenandr/word2vec-russian-novels/tree/master/vector-school) и других [литературных штук](https://github.com/nevmenandr/word2vec-russian-novels/tree/master/books_before) из школьной программы. "
   ]
  },
  {
   "cell_type": "code",
   "execution_count": 1,
   "metadata": {},
   "outputs": [],
   "source": [
    "# Ссылка на выбранное вами произведение\n",
    "# Я взял преступление и наказание\n",
    "url = 'https://raw.githubusercontent.com/nevmenandr/word2vec-russian-novels/master/books_before/CrimeAndPunishment.txt'\n"
   ]
  },
  {
   "cell_type": "markdown",
   "metadata": {},
   "source": [
    "Спарсим текст из файлика."
   ]
  },
  {
   "cell_type": "code",
   "execution_count": 2,
   "metadata": {},
   "outputs": [
    {
     "name": "stdout",
     "output_type": "stream",
     "text": [
      "смотреть на эти семь лет, как на семь\n",
      "дней. Он даже и не знал того, что новая жизнь не даром же ему достается, что ее надо еще дорого купить, заплатить за нее великим, будущим подвигом...\n",
      "Но тут уж начинается новая история, история постепенного обновления человека, история постепенного перерождения его, постепенного перехода из одного мира в другой, знакомства с новою, доселе совершенно неведомою действительностью. Это могло бы составить тему нового рассказа, - но теперешний рассказ наш окончен.\n"
     ]
    }
   ],
   "source": [
    "import requests\n",
    "\n",
    "resp = requests.get(url)\n",
    "text = resp.text \n",
    "\n",
    "# Последние 500 символов. Аккуратно! Спойлеры!\n",
    "print(text[-500:])"
   ]
  },
  {
   "cell_type": "markdown",
   "metadata": {},
   "source": [
    "## 1. Предобработка\n",
    "\n",
    "Теперь нам надо его немного предобработать.  Пусть все слова пишутся с маленькой буквы. "
   ]
  },
  {
   "cell_type": "code",
   "execution_count": 3,
   "metadata": {},
   "outputs": [],
   "source": [
    "text = text.lower()"
   ]
  },
  {
   "cell_type": "markdown",
   "metadata": {},
   "source": [
    "Разобьём весь текст на предложения. "
   ]
  },
  {
   "cell_type": "code",
   "execution_count": 4,
   "metadata": {},
   "outputs": [
    {
     "data": {
      "text/plain": [
       "13565"
      ]
     },
     "execution_count": 4,
     "metadata": {},
     "output_type": "execute_result"
    }
   ],
   "source": [
    "from nltk.tokenize import sent_tokenize\n",
    "\n",
    "sents = sent_tokenize(text)\n",
    "len(sents)"
   ]
  },
  {
   "cell_type": "code",
   "execution_count": 5,
   "metadata": {},
   "outputs": [
    {
     "data": {
      "text/plain": [
       "'действительно, на его платье и даже в волосах кое-где виднелись прилипшие былинки сена.'"
      ]
     },
     "execution_count": 5,
     "metadata": {},
     "output_type": "execute_result"
    }
   ],
   "source": [
    "sents[220]"
   ]
  },
  {
   "cell_type": "markdown",
   "metadata": {},
   "source": [
    "Разобьём каждое предложение на отдельные слова."
   ]
  },
  {
   "cell_type": "code",
   "execution_count": 6,
   "metadata": {},
   "outputs": [
    {
     "data": {
      "text/plain": [
       "['действительно',\n",
       " 'на',\n",
       " 'его',\n",
       " 'платье',\n",
       " 'и',\n",
       " 'даже',\n",
       " 'в',\n",
       " 'волосах',\n",
       " 'кое',\n",
       " 'где',\n",
       " 'виднелись',\n",
       " 'прилипшие',\n",
       " 'былинки',\n",
       " 'сена']"
      ]
     },
     "execution_count": 6,
     "metadata": {},
     "output_type": "execute_result"
    }
   ],
   "source": [
    "from nltk.tokenize import RegexpTokenizer\n",
    "\n",
    "tokenizer = RegexpTokenizer('\\w+')\n",
    "tokenizer.tokenize(sents[220])"
   ]
  },
  {
   "cell_type": "code",
   "execution_count": 7,
   "metadata": {},
   "outputs": [
    {
     "data": {
      "text/plain": [
       "[['и',\n",
       "  'каждый',\n",
       "  'раз',\n",
       "  'молодой',\n",
       "  'человек',\n",
       "  'проходя',\n",
       "  'мимо',\n",
       "  'чувствовал',\n",
       "  'какое',\n",
       "  'то',\n",
       "  'болезненное',\n",
       "  'и',\n",
       "  'трусливое',\n",
       "  'ощущение',\n",
       "  'которого',\n",
       "  'стыдился',\n",
       "  'и',\n",
       "  'от',\n",
       "  'которого',\n",
       "  'морщился'],\n",
       " ['он',\n",
       "  'был',\n",
       "  'должен',\n",
       "  'кругом',\n",
       "  'хозяйке',\n",
       "  'и',\n",
       "  'боялся',\n",
       "  'с',\n",
       "  'нею',\n",
       "  'встретиться']]"
      ]
     },
     "execution_count": 7,
     "metadata": {},
     "output_type": "execute_result"
    }
   ],
   "source": [
    "sents_tokenize = [tokenizer.tokenize(sent) for sent in sents]\n",
    "sents_tokenize[4:6]"
   ]
  },
  {
   "cell_type": "code",
   "execution_count": 8,
   "metadata": {},
   "outputs": [],
   "source": [
    "# Flatten без numpy :) \n",
    "words = [item for sent in  sents_tokenize for item in sent]"
   ]
  },
  {
   "cell_type": "code",
   "execution_count": 9,
   "metadata": {},
   "outputs": [
    {
     "data": {
      "text/plain": [
       "173403"
      ]
     },
     "execution_count": 9,
     "metadata": {},
     "output_type": "execute_result"
    }
   ],
   "source": [
    "len(words) # всего слов"
   ]
  },
  {
   "cell_type": "code",
   "execution_count": 10,
   "metadata": {},
   "outputs": [
    {
     "data": {
      "text/plain": [
       "24925"
      ]
     },
     "execution_count": 10,
     "metadata": {},
     "output_type": "execute_result"
    }
   ],
   "source": [
    "len(set(words)) # уникальных слов"
   ]
  },
  {
   "cell_type": "markdown",
   "metadata": {},
   "source": [
    "Можно выбросить все стоп-слова. "
   ]
  },
  {
   "cell_type": "code",
   "execution_count": 11,
   "metadata": {},
   "outputs": [
    {
     "data": {
      "text/plain": [
       "['и', 'в', 'во', 'не', 'что', 'он', 'на', 'я', 'с', 'со']"
      ]
     },
     "execution_count": 11,
     "metadata": {},
     "output_type": "execute_result"
    }
   ],
   "source": [
    "from nltk.corpus import stopwords\n",
    "\n",
    "stopwords_ru = stopwords.words('russian') \n",
    "stopwords_ru[:10]"
   ]
  },
  {
   "cell_type": "code",
   "execution_count": 12,
   "metadata": {},
   "outputs": [],
   "source": [
    "sents_tokenize = [[word for word in text_cur if word not in stopwords_ru] for text_cur in sents_tokenize]"
   ]
  },
  {
   "cell_type": "markdown",
   "metadata": {},
   "source": [
    "Слов в корпусе не очень много. Давайте лемматизируем их.  В этом нам поможет библиотека **pymorphy2.**\n",
    "\n",
    "**pymorphy2** — это полноценный морфологический анализатор, целиком написанный на Python. Он также умеет ставить слова в нужную форму (спрягать и склонять). [Документация по pymorphy2.](https://pymorphy2.readthedocs.io/en/latest/)"
   ]
  },
  {
   "cell_type": "code",
   "execution_count": 14,
   "metadata": {},
   "outputs": [
    {
     "data": {
      "text/plain": [
       "'каждый должный знать основа нейронный сеть'"
      ]
     },
     "execution_count": 14,
     "metadata": {},
     "output_type": "execute_result"
    }
   ],
   "source": [
    "import pymorphy2\n",
    "morph = pymorphy2.MorphAnalyzer()\n",
    "\n",
    "text = \"Каждый должен знать основы нейронных сетей!\"\n",
    "tokens = tokenizer.tokenize(text)\n",
    "\n",
    "\" \".join(morph.normal_forms(token)[0] for token in tokens)"
   ]
  },
  {
   "cell_type": "code",
   "execution_count": 15,
   "metadata": {},
   "outputs": [
    {
     "data": {
      "text/plain": [
       "[Parse(word='стали', tag=OpencorporaTag('VERB,perf,intr plur,past,indc'), normal_form='стать', score=0.975342, methods_stack=((DictionaryAnalyzer(), 'стали', 945, 4),)),\n",
       " Parse(word='стали', tag=OpencorporaTag('NOUN,inan,femn sing,gent'), normal_form='сталь', score=0.010958, methods_stack=((DictionaryAnalyzer(), 'стали', 13, 1),)),\n",
       " Parse(word='стали', tag=OpencorporaTag('NOUN,inan,femn plur,nomn'), normal_form='сталь', score=0.005479, methods_stack=((DictionaryAnalyzer(), 'стали', 13, 6),)),\n",
       " Parse(word='стали', tag=OpencorporaTag('NOUN,inan,femn sing,datv'), normal_form='сталь', score=0.002739, methods_stack=((DictionaryAnalyzer(), 'стали', 13, 2),)),\n",
       " Parse(word='стали', tag=OpencorporaTag('NOUN,inan,femn sing,loct'), normal_form='сталь', score=0.002739, methods_stack=((DictionaryAnalyzer(), 'стали', 13, 5),)),\n",
       " Parse(word='стали', tag=OpencorporaTag('NOUN,inan,femn plur,accs'), normal_form='сталь', score=0.002739, methods_stack=((DictionaryAnalyzer(), 'стали', 13, 9),))]"
      ]
     },
     "execution_count": 15,
     "metadata": {},
     "output_type": "execute_result"
    }
   ],
   "source": [
    "p = morph.parse('стали')\n",
    "p"
   ]
  },
  {
   "cell_type": "markdown",
   "metadata": {},
   "source": [
    "Обработаем все слова из датасета. "
   ]
  },
  {
   "cell_type": "code",
   "execution_count": 17,
   "metadata": {},
   "outputs": [],
   "source": [
    "sents_tokenize = [[morph.normal_forms(word)[0] for word in text_cur] for text_cur in sents_tokenize]"
   ]
  },
  {
   "cell_type": "code",
   "execution_count": 18,
   "metadata": {},
   "outputs": [],
   "source": [
    "# Flatten без numpy :) \n",
    "words = [item for sent in  sents_tokenize for item in sent]"
   ]
  },
  {
   "cell_type": "code",
   "execution_count": 19,
   "metadata": {},
   "outputs": [
    {
     "data": {
      "text/plain": [
       "93069"
      ]
     },
     "execution_count": 19,
     "metadata": {},
     "output_type": "execute_result"
    }
   ],
   "source": [
    "len(words) # всего слов"
   ]
  },
  {
   "cell_type": "code",
   "execution_count": 20,
   "metadata": {},
   "outputs": [
    {
     "data": {
      "text/plain": [
       "11084"
      ]
     },
     "execution_count": 20,
     "metadata": {},
     "output_type": "execute_result"
    }
   ],
   "source": [
    "len(set(words)) # уникальных слов"
   ]
  },
  {
   "cell_type": "markdown",
   "metadata": {},
   "source": [
    "Хватит обработок! Мы тут не анализом текстов занимаемся, а нейросетками. Если хочешь больше предобработки, [читай мой мануал](https://nbviewer.jupyter.org/github/FUlyankin/hse_texts_do/blob/master/sem_1/texts_sem1.ipynb) об этом.  Давайте построим словарик с частотностями и перейдём к моделированию. "
   ]
  },
  {
   "cell_type": "code",
   "execution_count": 21,
   "metadata": {},
   "outputs": [
    {
     "data": {
      "text/plain": [
       "[('это', 1449),\n",
       " ('всё', 963),\n",
       " ('знать', 630),\n",
       " ('раскольник', 567),\n",
       " ('свой', 549),\n",
       " ('один', 548),\n",
       " ('сказать', 544),\n",
       " ('говорить', 536),\n",
       " ('человек', 501),\n",
       " ('весь', 442),\n",
       " ('стать', 441),\n",
       " ('мочь', 441),\n",
       " ('который', 430),\n",
       " ('сам', 430),\n",
       " ('такой', 395),\n",
       " ('очень', 387),\n",
       " ('какой', 379),\n",
       " ('соня', 379),\n",
       " ('рука', 369),\n",
       " ('петрович', 369)]"
      ]
     },
     "execution_count": 21,
     "metadata": {},
     "output_type": "execute_result"
    }
   ],
   "source": [
    "from collections import Counter\n",
    "\n",
    "word_dict = Counter(words)\n",
    "word_dict.most_common()[:20]"
   ]
  },
  {
   "cell_type": "code",
   "execution_count": 23,
   "metadata": {},
   "outputs": [
    {
     "data": {
      "text/plain": [
       "4768"
      ]
     },
     "execution_count": 23,
     "metadata": {},
     "output_type": "execute_result"
    }
   ],
   "source": [
    "words = word_dict.most_common()\n",
    "len([item for item in words if item[1] >= 3])  # совсем мало :) "
   ]
  },
  {
   "cell_type": "markdown",
   "metadata": {},
   "source": [
    "## 2. Моделирование\n",
    "\n",
    "__Основные параметры:__\n",
    "\n",
    "* данные должны быть итерируемым объектом \n",
    "* `vector_size` — размер вектора, \n",
    "* `window` — размер окна наблюдения,\n",
    "* `min_count` — мин. частотность слова в корпусе,\n",
    "* `sg` — используемый алгоритм обучения (0 — CBOW, 1 — Skip-gram),\n",
    "* `workers` — количество потоков,\n",
    "* `alpha` — learning rate,\n",
    "* `iter` — количество итераций,\n",
    "* `max_vocab_size` — позволяет выставить ограничение по памяти при создании словаря (т.е. если ограничение привышается, то низкочастотные слова будут выбрасываться). Для сравнения: 10 млн слов = 1Гб RAM."
   ]
  },
  {
   "cell_type": "code",
   "execution_count": 25,
   "metadata": {},
   "outputs": [
    {
     "name": "stdout",
     "output_type": "stream",
     "text": [
      "CPU times: user 11.7 s, sys: 124 ms, total: 11.8 s\n",
      "Wall time: 4.28 s\n"
     ]
    },
    {
     "data": {
      "text/plain": [
       "(7945071, 9306900)"
      ]
     },
     "execution_count": 25,
     "metadata": {},
     "output_type": "execute_result"
    }
   ],
   "source": [
    "%%time \n",
    "from gensim.models.word2vec import Word2Vec\n",
    "\n",
    "# size - размерность векторов, которые мы хотим обучить\n",
    "# window - ширина окна контекста\n",
    "# min_count - если слово встречается реже, для него не учим модель\n",
    "model = Word2Vec(vector_size=100, window=2, min_count=3, workers=4)\n",
    "\n",
    "# строительство словаря, чтобы обучение шло быстрее\n",
    "model.build_vocab(sents_tokenize)\n",
    "\n",
    "# обучение модели \n",
    "# первый аргумент - наша выборка, генератор будет вкидывать в модель наши тексты, пока они не кончатся\n",
    "# второй аргумент - число примеров в выборке \n",
    "# третий аргумент - количество эпох обучения: сколько раз модель пройдётся по всему корпусу текстов\n",
    "model.train(sents_tokenize, total_examples=model.corpus_count, epochs=100)\n",
    "\n",
    "# !NB в ситуации, когда у нас огромный корпус, 100 эпох это слишком много! "
   ]
  },
  {
   "cell_type": "code",
   "execution_count": 26,
   "metadata": {},
   "outputs": [
    {
     "data": {
      "text/plain": [
       "13565"
      ]
     },
     "execution_count": 26,
     "metadata": {},
     "output_type": "execute_result"
    }
   ],
   "source": [
    "model.corpus_count # число примеров в обучающей выборке"
   ]
  },
  {
   "cell_type": "markdown",
   "metadata": {},
   "source": [
    "## 3. Свойства модели"
   ]
  },
  {
   "cell_type": "code",
   "execution_count": 33,
   "metadata": {},
   "outputs": [
    {
     "data": {
      "text/plain": [
       "array([ 0.4280811 ,  1.0806488 , -0.3607423 , -1.104609  ,  0.3137776 ,\n",
       "       -1.6037107 , -2.846244  , -0.9434775 , -0.7211046 ,  0.17917341],\n",
       "      dtype=float32)"
      ]
     },
     "execution_count": 33,
     "metadata": {},
     "output_type": "execute_result"
    }
   ],
   "source": [
    "# вектор слова\n",
    "model.wv['старуха'][:10]"
   ]
  },
  {
   "cell_type": "code",
   "execution_count": 34,
   "metadata": {},
   "outputs": [
    {
     "data": {
      "text/plain": [
       "(100,)"
      ]
     },
     "execution_count": 34,
     "metadata": {},
     "output_type": "execute_result"
    }
   ],
   "source": [
    "# размерность вектора\n",
    "model.wv['старуха'].shape"
   ]
  },
  {
   "cell_type": "code",
   "execution_count": 35,
   "metadata": {},
   "outputs": [
    {
     "data": {
      "text/plain": [
       "0.06303523"
      ]
     },
     "execution_count": 35,
     "metadata": {},
     "output_type": "execute_result"
    }
   ],
   "source": [
    "# похожести слов \n",
    "model.wv.similarity('тварь', 'право')"
   ]
  },
  {
   "cell_type": "code",
   "execution_count": 36,
   "metadata": {},
   "outputs": [
    {
     "data": {
      "text/plain": [
       "0.3821662"
      ]
     },
     "execution_count": 36,
     "metadata": {},
     "output_type": "execute_result"
    }
   ],
   "source": [
    "model.wv.similarity('старуха', 'топор')"
   ]
  },
  {
   "cell_type": "code",
   "execution_count": 37,
   "metadata": {},
   "outputs": [
    {
     "data": {
      "text/plain": [
       "0.99999994"
      ]
     },
     "execution_count": 37,
     "metadata": {},
     "output_type": "execute_result"
    }
   ],
   "source": [
    "model.wv.similarity('тварь', 'тварь')"
   ]
  },
  {
   "cell_type": "code",
   "execution_count": 38,
   "metadata": {},
   "outputs": [
    {
     "data": {
      "text/plain": [
       "[('лизавета', 0.49433615803718567),\n",
       " ('чиновница', 0.4205626845359802),\n",
       " ('близко', 0.4189166724681854),\n",
       " ('наклепать', 0.4070381224155426),\n",
       " ('разыскать', 0.4046613276004791),\n",
       " ('ограбить', 0.38955026865005493),\n",
       " ('обратно', 0.38676783442497253),\n",
       " ('топор', 0.38216617703437805),\n",
       " ('обух', 0.3689005672931671),\n",
       " ('серьга', 0.36871662735939026)]"
      ]
     },
     "execution_count": 38,
     "metadata": {},
     "output_type": "execute_result"
    }
   ],
   "source": [
    "# самые похожие\n",
    "model.wv.most_similar('старуха')"
   ]
  },
  {
   "cell_type": "code",
   "execution_count": 39,
   "metadata": {},
   "outputs": [
    {
     "data": {
      "text/plain": [
       "[('ступенька', 0.528121292591095),\n",
       " ('всходить', 0.5243401527404785),\n",
       " ('прихожая', 0.5034546852111816),\n",
       " ('передний', 0.47807765007019043),\n",
       " ('вниз', 0.46348679065704346),\n",
       " ('ступень', 0.4568527936935425),\n",
       " ('узенький', 0.4504789113998413),\n",
       " ('спускаться', 0.450210839509964),\n",
       " ('цыпочки', 0.44844818115234375),\n",
       " ('прислуга', 0.42274972796440125)]"
      ]
     },
     "execution_count": 39,
     "metadata": {},
     "output_type": "execute_result"
    }
   ],
   "source": [
    "model.wv.most_similar('лестница')"
   ]
  },
  {
   "cell_type": "code",
   "execution_count": 41,
   "metadata": {},
   "outputs": [
    {
     "data": {
      "text/plain": [
       "[('хорошенько', 0.3037472069263458),\n",
       " ('городов', 0.2816304862499237),\n",
       " ('папироска', 0.279782235622406),\n",
       " ('великолепно', 0.2763938009738922),\n",
       " ('несколько', 0.26956114172935486),\n",
       " ('затем', 0.26229575276374817),\n",
       " ('скрываться', 0.255309522151947),\n",
       " ('приятно', 0.2508450746536255),\n",
       " ('приближаться', 0.24801000952720642),\n",
       " ('казённый', 0.24088609218597412)]"
      ]
     },
     "execution_count": 41,
     "metadata": {},
     "output_type": "execute_result"
    }
   ],
   "source": [
    "# арифметика\n",
    "model.wv.most_similar(positive=['раскольников'], negative=['тварь'])[:10]"
   ]
  },
  {
   "cell_type": "markdown",
   "metadata": {},
   "source": [
    "## 4. Как дообучить модель? \n",
    "\n",
    "Ради чистоты эксперимента сохраним текущую модель и заново подгрузим её. "
   ]
  },
  {
   "cell_type": "code",
   "execution_count": 42,
   "metadata": {},
   "outputs": [],
   "source": [
    "model_path = \"./our_w2v.model\"\n",
    "model.save(model_path)"
   ]
  },
  {
   "cell_type": "code",
   "execution_count": 43,
   "metadata": {},
   "outputs": [],
   "source": [
    "our_model = Word2Vec.load(model_path)"
   ]
  },
  {
   "cell_type": "markdown",
   "metadata": {},
   "source": [
    "Подгрузим другое произведение и сделаем для него предобработку. "
   ]
  },
  {
   "cell_type": "code",
   "execution_count": 44,
   "metadata": {},
   "outputs": [
    {
     "name": "stdout",
     "output_type": "stream",
     "text": [
      " узнает...\n",
      "В нем взыграло ретивое!\n",
      "\"Что я вижу? что такое?\n",
      "Как!\" - и дух в нем занялся...\n",
      "Царь слезами залился,\n",
      "Обнимает он царицу,\n",
      "И сынка, и молодицу,\n",
      "\n",
      "\n",
      "\n",
      "И садятся все за стол;\n",
      "И веселый пир пошел.\n",
      "А ткачиха с поварихой,\n",
      "С сватьей бабой Бабарихой\n",
      "Разбежались по углам;\n",
      "Их нашли насилу там.\n",
      "Тут во всем они признались,\n",
      "Повинились, разрыдались;\n",
      "Царь для радости такой\n",
      "Отпустил всех трех домой.\n",
      "День прошел - царя Салтана\n",
      "Уложили спать вполпьяна.\n",
      "Я там был; мед, пиво пил -\n",
      "И усы лишь обмочил.\n",
      "\n",
      "1831\n",
      "\n",
      "\n"
     ]
    }
   ],
   "source": [
    "url = 'https://raw.githubusercontent.com/nevmenandr/word2vec-russian-novels/master/vector-school/SkazkaOCareSaltane.txt'\n",
    "\n",
    "resp = requests.get(url)\n",
    "text2 = resp.text \n",
    "\n",
    "# Последние 500 символов. Аккуратно! Спойлеры!\n",
    "print(text2[-500:])"
   ]
  },
  {
   "cell_type": "markdown",
   "metadata": {},
   "source": [
    "Предобработка."
   ]
  },
  {
   "cell_type": "code",
   "execution_count": 45,
   "metadata": {},
   "outputs": [],
   "source": [
    "text2 = text2.lower()\n",
    "sents2 = sent_tokenize(text2)\n",
    "\n",
    "sents_tokenize2 = [tokenizer.tokenize(sent) for sent in sents2]\n",
    "sents_tokenize2 = [[morph.normal_forms(word)[0] for word in text_cur if word not in stopwords_ru]\n",
    "                      for text_cur in sents_tokenize2]\n"
   ]
  },
  {
   "cell_type": "code",
   "execution_count": 46,
   "metadata": {},
   "outputs": [
    {
     "data": {
      "text/plain": [
       "['сени', 'выйти', 'царь', 'отец']"
      ]
     },
     "execution_count": 46,
     "metadata": {},
     "output_type": "execute_result"
    }
   ],
   "source": [
    "sents_tokenize2[10]"
   ]
  },
  {
   "cell_type": "code",
   "execution_count": 47,
   "metadata": {},
   "outputs": [
    {
     "data": {
      "text/plain": [
       "254"
      ]
     },
     "execution_count": 47,
     "metadata": {},
     "output_type": "execute_result"
    }
   ],
   "source": [
    "len(sents_tokenize2)"
   ]
  },
  {
   "cell_type": "markdown",
   "metadata": {},
   "source": [
    "Дополняем модель."
   ]
  },
  {
   "cell_type": "code",
   "execution_count": 48,
   "metadata": {},
   "outputs": [
    {
     "data": {
      "text/plain": [
       "(177193, 269000)"
      ]
     },
     "execution_count": 48,
     "metadata": {},
     "output_type": "execute_result"
    }
   ],
   "source": [
    "# обновили словарь\n",
    "our_model.build_vocab(sents_tokenize2, update=True)\n",
    "\n",
    "# дообучили\n",
    "our_model.train(sents_tokenize2, total_examples=our_model.corpus_count, epochs=100)"
   ]
  },
  {
   "cell_type": "code",
   "execution_count": 50,
   "metadata": {},
   "outputs": [
    {
     "data": {
      "text/plain": [
       "[('изумруд', 0.681205689907074),\n",
       " ('скатерть', 0.629682183265686),\n",
       " ('грызть', 0.5863677263259888),\n",
       " ('чистый', 0.5801365971565247),\n",
       " ('журчать', 0.5591646432876587),\n",
       " ('орешек', 0.5571174621582031),\n",
       " ('пристань', 0.551948606967926),\n",
       " ('золотой', 0.5428691506385803),\n",
       " ('научить', 0.5405980944633484),\n",
       " ('злато', 0.529037356376648)]"
      ]
     },
     "execution_count": 50,
     "metadata": {},
     "output_type": "execute_result"
    }
   ],
   "source": [
    "our_model.wv.most_similar('ядро')"
   ]
  },
  {
   "cell_type": "markdown",
   "metadata": {},
   "source": [
    "Пример со старым словом."
   ]
  },
  {
   "cell_type": "code",
   "execution_count": 51,
   "metadata": {},
   "outputs": [
    {
     "data": {
      "text/plain": [
       "[('губерния', 0.5759544372558594),\n",
       " ('обеспечить', 0.497567355632782),\n",
       " ('благословить', 0.4963618516921997),\n",
       " ('расспрос', 0.49000808596611023),\n",
       " ('уезд', 0.48182547092437744),\n",
       " ('враньё', 0.4693182408809662),\n",
       " ('особо', 0.4667699337005615),\n",
       " ('родственница', 0.46160581707954407),\n",
       " ('наущение', 0.4599708914756775),\n",
       " ('адвокатский', 0.45724308490753174)]"
      ]
     },
     "execution_count": 51,
     "metadata": {},
     "output_type": "execute_result"
    }
   ],
   "source": [
    "our_model.wv.most_similar('сын')"
   ]
  },
  {
   "cell_type": "code",
   "execution_count": 52,
   "metadata": {},
   "outputs": [
    {
     "data": {
      "text/plain": [
       "[('детство', 0.49924013018608093),\n",
       " ('расспрос', 0.47770294547080994),\n",
       " ('поступок', 0.4652251601219177),\n",
       " ('губерния', 0.46455374360084534),\n",
       " ('наущение', 0.45484694838523865),\n",
       " ('секрет', 0.44692593812942505),\n",
       " ('приём', 0.4465712606906891),\n",
       " ('джентльмен', 0.434931218624115),\n",
       " ('обеспечить', 0.4348464012145996),\n",
       " ('раздражать', 0.4335572421550751)]"
      ]
     },
     "execution_count": 52,
     "metadata": {},
     "output_type": "execute_result"
    }
   ],
   "source": [
    "model.wv.most_similar('сын')"
   ]
  },
  {
   "cell_type": "markdown",
   "metadata": {},
   "source": [
    "  "
   ]
  }
 ],
 "metadata": {
  "kernelspec": {
   "display_name": "Python 3",
   "language": "python",
   "name": "python3"
  },
  "language_info": {
   "codemirror_mode": {
    "name": "ipython",
    "version": 3
   },
   "file_extension": ".py",
   "mimetype": "text/x-python",
   "name": "python",
   "nbconvert_exporter": "python",
   "pygments_lexer": "ipython3",
   "version": "3.8.8"
  }
 },
 "nbformat": 4,
 "nbformat_minor": 2
}
