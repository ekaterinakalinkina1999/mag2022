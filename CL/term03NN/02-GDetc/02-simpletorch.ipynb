{
 "cells": [
  {
   "cell_type": "code",
   "execution_count": null,
   "metadata": {
    "colab": {
     "base_uri": "https://localhost:8080/"
    },
    "id": "DZpKIQpSEhT4",
    "outputId": "e033c25c-58e2-4efd-b8c2-cd40d373c230"
   },
   "outputs": [],
   "source": [
    "# FOR GOOGLE COLAB TO GET DATA\n",
    "# !git clone https://github.com/rsuh-python/mag2022.git\n",
    "# %cd /content/mag2022/CL/term03NN/02-GDetc"
   ]
  },
  {
   "cell_type": "code",
   "execution_count": null,
   "metadata": {
    "id": "nt9UklRnMTHZ"
   },
   "outputs": [],
   "source": [
    "from IPython import display"
   ]
  },
  {
   "cell_type": "code",
   "execution_count": null,
   "metadata": {
    "id": "IlJBTZB-6JzF"
   },
   "outputs": [],
   "source": [
    "import warnings\n",
    "warnings.filterwarnings(\"ignore\")"
   ]
  },
  {
   "cell_type": "code",
   "execution_count": null,
   "metadata": {
    "colab": {
     "base_uri": "https://localhost:8080/"
    },
    "id": "l_uvoVq96JzH",
    "outputId": "43740e36-6c6f-4dd7-8d7d-74d023b502d0"
   },
   "outputs": [],
   "source": [
    "# Подгружаем pytorch \n",
    "import torch\n",
    "\n",
    "print(torch.__version__)"
   ]
  },
  {
   "cell_type": "code",
   "execution_count": null,
   "metadata": {
    "id": "TZ_nW1Pf6JzJ"
   },
   "outputs": [],
   "source": [
    "# Подгрузим ещё немного пакетов \n",
    "import numpy as np\n",
    "import pandas as pd\n",
    "\n",
    "import seaborn as sns\n",
    "import matplotlib.pyplot as plt\n",
    "plt.style.use('ggplot')\n",
    "\n",
    "from sklearn.model_selection import train_test_split\n",
    "\n",
    "%matplotlib inline"
   ]
  },
  {
   "cell_type": "markdown",
   "metadata": {
    "id": "1Pejg3fm6JzJ"
   },
   "source": [
    "## 1. О данных и бейзлайнах\n",
    "\n",
    "Наша главная цель - разобраться с процессом создания простой нейронной сети и ее обучения.\n",
    "\n",
    "__Делать всё это мы будем на животных.__ Ежегодно около 7.6 миллионов бедных животных в США оказываются в приютах. Часть из них находит себе новую семью, часть возвращается к старому (бывает, что питомец потерялся и его нашли на улице), а часть погибает. Ужегодно усыпляется около 2.7 млн. собак и кошек.  \n",
    "\n",
    "Используя датасет с входной информацией (цвет, пол, возраст и т.п.) из одного из приютов, мы попытаемся спрогнозировать что произойдёт с новыми животными, которые попадут в этот приют. Данные, используемые в тетрадке уже были предварительно обработаны и приведены в удобную для построения моделей форму. "
   ]
  },
  {
   "cell_type": "code",
   "execution_count": null,
   "metadata": {
    "colab": {
     "base_uri": "https://localhost:8080/",
     "height": 317
    },
    "id": "VnAi3Sdo6JzK",
    "outputId": "b44487a0-247f-49e9-ebec-fcdd9b5f877c"
   },
   "outputs": [],
   "source": [
    "X = pd.read_csv('./data/X_cat.csv', sep = '\\t', index_col=0)\n",
    "target = pd.read_csv('./data/y_cat.csv', sep = '\\t', index_col=0, names=['status'])\n",
    "\n",
    "print(X.shape)\n",
    "X.head()"
   ]
  },
  {
   "cell_type": "code",
   "execution_count": null,
   "metadata": {
    "colab": {
     "base_uri": "https://localhost:8080/",
     "height": 424
    },
    "id": "vFXBngtO6JzK",
    "outputId": "013de237-fcc1-4749-da1a-ca81642516e5"
   },
   "outputs": [],
   "source": [
    "target.iloc[:, :]"
   ]
  },
  {
   "cell_type": "markdown",
   "metadata": {
    "id": "LAxIA5D26JzL"
   },
   "source": [
    "В датасете находится около 27 тысяч наблюдений и 39 регрессоров. Посмотрим на то как выглядит распределение того, что произошло со зверятами по особям."
   ]
  },
  {
   "cell_type": "code",
   "execution_count": null,
   "metadata": {
    "colab": {
     "base_uri": "https://localhost:8080/"
    },
    "id": "IREfWzCF6JzL",
    "outputId": "1423583f-fba5-4c7f-bc1d-4c953f0801fd"
   },
   "outputs": [],
   "source": [
    "target.status.value_counts()"
   ]
  },
  {
   "cell_type": "markdown",
   "metadata": {
    "id": "kM6D53s-6JzM"
   },
   "source": [
    "Видим, что классы несбалансированы. Попробуем оставить четыре класса и объединить класс умерших животных с классом животных, которых усыпили. "
   ]
  },
  {
   "cell_type": "code",
   "execution_count": null,
   "metadata": {
    "id": "eDubyVG96JzM"
   },
   "outputs": [],
   "source": [
    "target = target.iloc[:, :]\n",
    "target[target == 'Died'] = 'Euthanasia'"
   ]
  },
  {
   "cell_type": "markdown",
   "metadata": {
    "id": "KsXBGTYy6JzM"
   },
   "source": [
    "Закодируем классы."
   ]
  },
  {
   "cell_type": "code",
   "execution_count": null,
   "metadata": {
    "colab": {
     "base_uri": "https://localhost:8080/"
    },
    "id": "h2Oje0qZ6JzN",
    "outputId": "92da2ff9-f7f8-4b92-c7ed-49021effb2be"
   },
   "outputs": [],
   "source": [
    "from sklearn.preprocessing import LabelEncoder\n",
    "le = LabelEncoder()\n",
    "y = le.fit_transform(target)\n",
    "y"
   ]
  },
  {
   "cell_type": "code",
   "execution_count": null,
   "metadata": {
    "colab": {
     "base_uri": "https://localhost:8080/"
    },
    "id": "iGTChUSc6JzN",
    "outputId": "43d263fd-8392-4937-a945-ed399efc3d0a"
   },
   "outputs": [],
   "source": [
    "len(y)"
   ]
  },
  {
   "cell_type": "code",
   "execution_count": null,
   "metadata": {
    "colab": {
     "base_uri": "https://localhost:8080/"
    },
    "id": "3mXJVZlw6JzN",
    "outputId": "8adceec4-f513-439a-a3be-34e80808a73d"
   },
   "outputs": [],
   "source": [
    "X.shape"
   ]
  },
  {
   "cell_type": "markdown",
   "metadata": {
    "id": "0N1GXWx96JzO"
   },
   "source": [
    "Разобьём выборку на тренировочную и тестовую. "
   ]
  },
  {
   "cell_type": "code",
   "execution_count": null,
   "metadata": {
    "colab": {
     "base_uri": "https://localhost:8080/"
    },
    "id": "MD6UTyPr6JzP",
    "outputId": "16354ee6-b1be-4adb-f262-7ce720089590"
   },
   "outputs": [],
   "source": [
    "X_train, X_test, y_train, y_test = train_test_split(X, y, test_size=0.2, stratify = y, random_state = 42)\n",
    "\n",
    "print(X_train.shape)\n",
    "print(X_test.shape)"
   ]
  },
  {
   "cell_type": "markdown",
   "metadata": {
    "id": "v0d4gsJu6JzP"
   },
   "source": [
    "Прежде, чем учить 228-слойных монстров, давайте построим какие-нибудь простые прогнозы, чтобы было с чем сравнить. Давайте построим наивный прогноз, а также обучим линейную регрессию и случайный лес.\n",
    "\n",
    "### Константный прогноз\n",
    "\n",
    "Построим константный прогноз, чтобы было с чем сравнивать и прогноз по какой-нибудь модели. "
   ]
  },
  {
   "cell_type": "code",
   "execution_count": null,
   "metadata": {
    "colab": {
     "base_uri": "https://localhost:8080/"
    },
    "id": "aIaoXW-V6JzP",
    "outputId": "78bc60db-76d5-42fb-8340-9fc3e2577b8e"
   },
   "outputs": [],
   "source": [
    "y_train"
   ]
  },
  {
   "cell_type": "code",
   "execution_count": null,
   "metadata": {
    "colab": {
     "base_uri": "https://localhost:8080/"
    },
    "id": "Y7gEIrqd6JzQ",
    "outputId": "44403568-ca0a-4f7e-b550-f5d8181e52ef"
   },
   "outputs": [],
   "source": [
    "from sklearn.metrics import log_loss\n",
    "\n",
    "probas = np.array(pd.Series(y_train).value_counts(normalize=True).sort_index().tolist())\n",
    "probas"
   ]
  },
  {
   "cell_type": "code",
   "execution_count": null,
   "metadata": {
    "colab": {
     "base_uri": "https://localhost:8080/"
    },
    "id": "SAxFZ0O16JzQ",
    "outputId": "94e6fced-038b-4d50-cbc7-2e154baced8f"
   },
   "outputs": [],
   "source": [
    "np.tile(probas, X_test.shape[0]).reshape(X_test.shape[0], 4)"
   ]
  },
  {
   "cell_type": "code",
   "execution_count": null,
   "metadata": {
    "colab": {
     "base_uri": "https://localhost:8080/"
    },
    "id": "NOsPgDih6JzR",
    "outputId": "8da853b0-b489-4e83-9708-b4617cc9c595"
   },
   "outputs": [],
   "source": [
    "log_loss(y_test, np.tile(probas, X_test.shape[0]).reshape(X_test.shape[0], 4))"
   ]
  },
  {
   "cell_type": "markdown",
   "metadata": {
    "id": "NXJ1gaep6JzR"
   },
   "source": [
    "### Логистическая регрессия"
   ]
  },
  {
   "cell_type": "code",
   "execution_count": null,
   "metadata": {
    "colab": {
     "base_uri": "https://localhost:8080/"
    },
    "id": "ab6j_dAY6JzR",
    "outputId": "1739ad2a-7ded-4970-f6be-a40eb10d793f"
   },
   "outputs": [],
   "source": [
    "from sklearn.linear_model import LogisticRegression\n",
    "\n",
    "logreg = LogisticRegression()\n",
    "logreg.fit(X_train, y_train)\n",
    "log_loss(y_test, logreg.predict_proba(X_test))"
   ]
  },
  {
   "cell_type": "code",
   "execution_count": null,
   "metadata": {
    "colab": {
     "base_uri": "https://localhost:8080/"
    },
    "id": "jHcENRw96JzS",
    "outputId": "85654632-e0bb-4a80-ebfd-1631ffdf0c25"
   },
   "outputs": [],
   "source": [
    "logreg.predict_proba(X_test) # 4 колонки, по одной на каждый класс"
   ]
  },
  {
   "cell_type": "markdown",
   "metadata": {
    "id": "ahhGgtfR6JzS"
   },
   "source": [
    "### Случайный лес "
   ]
  },
  {
   "cell_type": "code",
   "execution_count": null,
   "metadata": {
    "colab": {
     "base_uri": "https://localhost:8080/"
    },
    "id": "_a9fsnLz6JzT",
    "outputId": "aae7ecdb-1df2-46a3-bf29-58ffbc91d10b",
    "scrolled": true
   },
   "outputs": [],
   "source": [
    "from sklearn.ensemble import RandomForestClassifier\n",
    "\n",
    "rf = RandomForestClassifier(n_estimators=1000, n_jobs=-1)\n",
    "rf.fit(X_train, y_train)\n",
    "log_loss(y_test, rf.predict_proba(X_test))"
   ]
  },
  {
   "cell_type": "code",
   "execution_count": null,
   "metadata": {
    "colab": {
     "base_uri": "https://localhost:8080/"
    },
    "id": "ssFQI8dsTOc_",
    "outputId": "cd3cf67d-a045-4f39-bb42-08de594275ab"
   },
   "outputs": [],
   "source": [
    "log_loss(y_train, rf.predict_proba(X_train))"
   ]
  },
  {
   "cell_type": "markdown",
   "metadata": {
    "id": "vXW18vGj6JzT"
   },
   "source": [
    "Неплохой результат. Попробуем улучшить его с помощью нейросеток. "
   ]
  },
  {
   "cell_type": "markdown",
   "metadata": {
    "id": "a8TNgd296JzT"
   },
   "source": [
    "## 2. Собираем свою нейросеть"
   ]
  },
  {
   "cell_type": "code",
   "execution_count": null,
   "metadata": {
    "id": "n4zl9uuz6JzU"
   },
   "outputs": [],
   "source": [
    "INPUT_SIZE = 37\n",
    "HIDDEN_SIZE = 25\n",
    "OUTPUT_SIZE = 4\n",
    "LEARNING_RATE = 1e-3\n",
    "EPOCHS = 100\n",
    "BATCH_SIZE = 128"
   ]
  },
  {
   "cell_type": "markdown",
   "metadata": {
    "id": "GPRtf26j6Jze"
   },
   "source": [
    "# Vanilla PyTorch"
   ]
  },
  {
   "cell_type": "markdown",
   "metadata": {
    "id": "GdfH9bul6Jze"
   },
   "source": [
    "Для начала разберем все этапы работы с нейронной сетью в упрощенной форме. \n",
    "\n",
    "<img src=\"images/Pipeline.png\" />"
   ]
  },
  {
   "cell_type": "code",
   "execution_count": null,
   "metadata": {
    "colab": {
     "base_uri": "https://localhost:8080/"
    },
    "id": "o0fCVysZBaIf",
    "outputId": "b30e6505-0720-4973-fa3a-d587bb55397b",
    "scrolled": true
   },
   "outputs": [],
   "source": [
    "!pip install torchmetrics"
   ]
  },
  {
   "cell_type": "code",
   "execution_count": null,
   "metadata": {
    "id": "NI3ChY9xEfPw"
   },
   "outputs": [],
   "source": [
    "from torchmetrics import Accuracy"
   ]
  },
  {
   "cell_type": "code",
   "execution_count": null,
   "metadata": {
    "id": "cOcCDlVZ6Jze"
   },
   "outputs": [],
   "source": [
    "import torch.nn as nn # содержит функции для реалзации архитектуры нейронных сетей\n",
    "import torch.nn.functional as F # содержит различные функции активации и не только\n",
    "import torch.optim as optim\n",
    "import torch.utils.data as data_utils\n",
    "\n",
    "# from pytorch_lightning.metrics import Accuracy\n"
   ]
  },
  {
   "cell_type": "markdown",
   "metadata": {
    "id": "7rYf64bW6Jzf"
   },
   "source": [
    "Для того чтобы подавать данные в нейронную сеть, создадим `DataLoader`, который предоставляет гибкий API для работы с входными данными."
   ]
  },
  {
   "cell_type": "code",
   "execution_count": null,
   "metadata": {
    "id": "aqdT0hXi6Jzf"
   },
   "outputs": [],
   "source": [
    "X_train, X_test, y_train, y_test = train_test_split(X.iloc[:, :].values, y,\n",
    "                                                    test_size=0.2, stratify=y, random_state=42)"
   ]
  },
  {
   "cell_type": "code",
   "execution_count": null,
   "metadata": {
    "colab": {
     "base_uri": "https://localhost:8080/"
    },
    "id": "C2hh_tro6Jzf",
    "outputId": "39d3d064-809c-45c7-f258-bc657f0676c5"
   },
   "outputs": [],
   "source": [
    "pd.Series(y).value_counts()"
   ]
  },
  {
   "cell_type": "markdown",
   "metadata": {
    "id": "oMhW0kzo6Jzg"
   },
   "source": [
    "Создание __DataLoader__ для обучения сети"
   ]
  },
  {
   "cell_type": "code",
   "execution_count": null,
   "metadata": {
    "id": "v8RaCCBv6Jzg"
   },
   "outputs": [],
   "source": [
    "def create_data_loader(X_train, y_train, X_test, y_test):\n",
    "    train_tensor = data_utils.TensorDataset(torch.tensor(X_train.astype(np.float32)), torch.tensor(y_train))\n",
    "    train_loader = data_utils.DataLoader(dataset=train_tensor,\n",
    "                                         batch_size=BATCH_SIZE,\n",
    "                                         shuffle=True)\n",
    "\n",
    "    test_tensor = data_utils.TensorDataset(torch.tensor(X_test.astype(np.float32)), torch.tensor(y_test))\n",
    "    test_loader = data_utils.DataLoader(dataset=test_tensor,\n",
    "                                        batch_size=BATCH_SIZE,\n",
    "                                        shuffle=False)\n",
    "    return train_loader, test_loader"
   ]
  },
  {
   "cell_type": "code",
   "execution_count": null,
   "metadata": {
    "id": "Ju0UJHiW6Jzg"
   },
   "outputs": [],
   "source": [
    "train_loader, test_loader = create_data_loader(X_train, y_train, X_test, y_test)"
   ]
  },
  {
   "cell_type": "markdown",
   "metadata": {
    "id": "cFcTYgm56Jzg"
   },
   "source": [
    "__Архитектура модели__"
   ]
  },
  {
   "cell_type": "markdown",
   "metadata": {
    "id": "KBfDZ2U46Jzh"
   },
   "source": [
    "Архитектуру нейронной сети в PyTorch можно описать нескольками способами, в дальнейшем мы рассмотрим их более подробно. Сейчас предлагается сделать это, используя `Sequential`.\n",
    "`Sequential` -- это последовательный способ объявления каждого компонента архитектуры нейронной сети."
   ]
  },
  {
   "cell_type": "code",
   "execution_count": null,
   "metadata": {
    "id": "OVAm1ZfD6Jzh"
   },
   "outputs": [],
   "source": [
    "def build_model():\n",
    "    model = nn.Sequential(\n",
    "        \n",
    "        # Добавляем в нашу модель первый слой из 25 нейронов\n",
    "        nn.Linear(in_features=INPUT_SIZE, out_features=HIDDEN_SIZE),\n",
    "        nn.Sigmoid(),\n",
    "        \n",
    "        # Добавляем ещё один слой из 25 нейронов\n",
    "        nn.Linear(in_features=HIDDEN_SIZE, out_features=HIDDEN_SIZE),\n",
    "        nn.Sigmoid(),\n",
    "        \n",
    "        # Выходной вектор на количество классов, получаем с помощью такого же линейного приеобразования,\n",
    "        # как и предыдущие слои, но уже на нужное количество выходных нейронов (т.е. классов)\n",
    "        nn.Linear(in_features=HIDDEN_SIZE, out_features=OUTPUT_SIZE),\n",
    "        nn.Softmax()\n",
    "    )\n",
    "\n",
    "    return model"
   ]
  },
  {
   "cell_type": "markdown",
   "metadata": {
    "id": "dOjWhngL6Jzh"
   },
   "source": [
    "Функция `Linear` представляет собой полносвязный слой, где присутствуют обучаемая матрица и обучаемый bias.\n",
    "\n",
    "<img src=\"images/FClayer.png\" />"
   ]
  },
  {
   "cell_type": "code",
   "execution_count": null,
   "metadata": {
    "id": "axI039kI6Jzh"
   },
   "outputs": [],
   "source": [
    "model = build_model()"
   ]
  },
  {
   "cell_type": "code",
   "execution_count": null,
   "metadata": {
    "colab": {
     "base_uri": "https://localhost:8080/"
    },
    "id": "QW1EI0EY6Jzh",
    "outputId": "9ae7da08-a897-4017-bdc8-25b44af0e393"
   },
   "outputs": [],
   "source": [
    "print(model)"
   ]
  },
  {
   "cell_type": "markdown",
   "metadata": {
    "id": "m1ohmCoH6Jzi"
   },
   "source": [
    "Сейчас мы собрали свою сеть с одним скрытым слоем.\n",
    "\n",
    "<img src=\"images/MLP2.jpg\" />"
   ]
  },
  {
   "cell_type": "markdown",
   "metadata": {
    "id": "GMmYRLN_6Jzi"
   },
   "source": [
    "Обратите внимание, что последняя функция в в архитектуре сети -- это `Softmax`. `Softamx` используется для задачи классификации, чтобы получить значение уверенности сети по каждому классу. Получается вектор на заданное количество классов, где наибольшее значение в какой-либо координате говорит о том, что сеть считает данный класс наиболее подходящим для данного наблюдения.\n",
    "\n",
    "<img src=\"images/Softmax.png\" />"
   ]
  },
  {
   "cell_type": "markdown",
   "metadata": {
    "id": "ZTXc-2J76Jzi"
   },
   "source": [
    "Отлично! Только что мы собрали свою первую нейросеть со скрытым слоем. Осталось ее обучить."
   ]
  },
  {
   "cell_type": "markdown",
   "metadata": {
    "id": "mCjQgvDH6Jzi"
   },
   "source": [
    "__Обучение модели__"
   ]
  },
  {
   "cell_type": "markdown",
   "metadata": {
    "id": "wDkmZ7jJ6Jzi"
   },
   "source": [
    "Перед тем как обучать нашу нейросеть, нужно задать параметры обучения. \n",
    "- Во-первых, метод оптимизации. \n",
    "- Во-вторых, функцию потерь. \n",
    "- В-третьих, парочку метрик, на которые нам хотелось бы смотреть в процессе обучения.  "
   ]
  },
  {
   "cell_type": "code",
   "execution_count": null,
   "metadata": {
    "id": "J6tFlM4I6Jzi"
   },
   "outputs": [],
   "source": [
    "criterion = nn.CrossEntropyLoss()\n",
    "accuracy = Accuracy()\n",
    "\n",
    "optimizer = optim.SGD(model.parameters(), lr=LEARNING_RATE)"
   ]
  },
  {
   "cell_type": "markdown",
   "metadata": {
    "id": "UEThm8GG6Jzj"
   },
   "source": [
    "Создадим массивы, куда будем складывать значение целевой функции на обучающей и валиационной выборках, а также точность."
   ]
  },
  {
   "cell_type": "markdown",
   "metadata": {
    "id": "LDM5FIID6Jzj"
   },
   "source": [
    "Ниже представлен код __обучения__ сети. Нужно обратить внимание на несколько моментов:\n",
    "1. Обучение ведется в течение нескольких эпох -- что значит несколько проходов по выборке.\n",
    "2. `train_loader` позволяет итеративно проходится по выборке и на каждой итерации получать батч заранее заданного размера.\n",
    "3. На каждом шаге обнуляем градиенты `optimizer.zero_grad()`, чтобы не накапливать их, тем самым неккоректно обновлять веса.\n",
    "4. Вызывать явно `loss.backward()` для вычисления градиентов.\n",
    "5. Вызывать явно `optimizer.step()` для обновления весов."
   ]
  },
  {
   "cell_type": "code",
   "execution_count": null,
   "metadata": {
    "id": "lelztung6Jzj"
   },
   "outputs": [],
   "source": [
    "step = 0\n",
    "train_loss_values = []\n",
    "train_accuracy_values = []\n",
    "valid_loss_values = []\n",
    "valid_accuracy = []\n",
    "\n",
    "def run_train():\n",
    "    step = 0\n",
    "    for epoch in range(EPOCHS):\n",
    "        running_loss = []\n",
    "        running_acc = []\n",
    "        for features, label in train_loader:\n",
    "            # Reset gradients\n",
    "            optimizer.zero_grad()\n",
    "\n",
    "            output = model(features)\n",
    "            # Calculate error and backpropagate\n",
    "            loss = criterion(output, label)\n",
    "            loss.backward()\n",
    "            acc = accuracy(output, label).item()\n",
    "\n",
    "            # Update weights with gradients\n",
    "            optimizer.step()\n",
    "\n",
    "            running_loss.append(loss.item())\n",
    "            running_acc.append(acc)\n",
    "\n",
    "            step += 1\n",
    "\n",
    "        train_loss_values.append(np.mean(running_loss))\n",
    "        train_accuracy_values.append(np.mean(running_acc))\n",
    "        if epoch % 20 == 0:\n",
    "            print(f'EPOCH {epoch}: train_loss: {train_loss_values[-1]}')# train_accuracy_values[-1]))\n",
    "\n",
    "\n",
    "        # Run validation\n",
    "        running_loss = []\n",
    "        running_acc = []\n",
    "        for features, label in test_loader:\n",
    "            output = model(features)\n",
    "            # Calculate error and backpropagate\n",
    "            loss = criterion(output, label)\n",
    "            acc = accuracy(output, label).item()\n",
    "\n",
    "            running_loss.append(loss.item())\n",
    "            running_acc.append(acc)\n",
    "\n",
    "        valid_loss_values.append(np.mean(running_loss))\n",
    "        valid_accuracy.append(np.mean(running_acc))\n",
    "        if epoch % 20 == 0:\n",
    "            print(f'EPOCH {epoch}: valid_loss: {valid_loss_values[-1]}')\n",
    "        \n",
    "    return train_loss_values, train_accuracy_values, valid_loss_values, valid_accuracy"
   ]
  },
  {
   "cell_type": "code",
   "execution_count": null,
   "metadata": {
    "colab": {
     "base_uri": "https://localhost:8080/"
    },
    "id": "gTqfdcRY6Jzj",
    "outputId": "7792af07-4045-4e65-fb52-cc080d955fe9"
   },
   "outputs": [],
   "source": [
    "train_loss_values, train_accuracy_values, valid_loss_values, valid_accuracy = run_train()"
   ]
  },
  {
   "cell_type": "markdown",
   "metadata": {
    "id": "Ev7BrhOX6Jzj"
   },
   "source": [
    " Посмотрим на динамику ошибки и значение точности нашей модели во времени."
   ]
  },
  {
   "cell_type": "code",
   "execution_count": null,
   "metadata": {
    "colab": {
     "base_uri": "https://localhost:8080/",
     "height": 282
    },
    "id": "0V_eO-086Jzk",
    "outputId": "9c47cf32-3d93-4d0d-e079-dac948fa7633"
   },
   "outputs": [],
   "source": [
    "start = 1\n",
    "plt.plot(train_loss_values[start:])\n",
    "plt.legend('Train loss')"
   ]
  },
  {
   "cell_type": "code",
   "execution_count": null,
   "metadata": {
    "colab": {
     "base_uri": "https://localhost:8080/",
     "height": 282
    },
    "id": "OBXnGZcw6Jzk",
    "outputId": "729dcd6e-703b-43fb-a650-38b7f663f036"
   },
   "outputs": [],
   "source": [
    "start = 1\n",
    "plt.plot(train_accuracy_values[start:])\n",
    "plt.legend('Train accuracy')"
   ]
  },
  {
   "cell_type": "code",
   "execution_count": null,
   "metadata": {
    "colab": {
     "base_uri": "https://localhost:8080/",
     "height": 282
    },
    "id": "7MpgEeTI6Jzk",
    "outputId": "1c366c26-ff9d-490b-b93c-a694f4c088ab"
   },
   "outputs": [],
   "source": [
    "plt.plot(valid_loss_values[start:])\n",
    "plt.legend('Validation loss')"
   ]
  },
  {
   "cell_type": "code",
   "execution_count": null,
   "metadata": {
    "colab": {
     "base_uri": "https://localhost:8080/",
     "height": 282
    },
    "id": "lsPN_Oz16Jzk",
    "outputId": "cf00d13a-ba17-46df-d663-a6e7dea0d7ea"
   },
   "outputs": [],
   "source": [
    "plt.plot(valid_accuracy[start:])\n",
    "plt.legend('Validation accuracy')"
   ]
  },
  {
   "cell_type": "markdown",
   "metadata": {
    "id": "ivYlbiPv6Jzl"
   },
   "source": [
    "Сохраним модель. Файл может иметь два расширения, как .pt, так и .pth. "
   ]
  },
  {
   "cell_type": "code",
   "execution_count": null,
   "metadata": {
    "id": "YpzcO_1U6Jzl"
   },
   "outputs": [],
   "source": [
    "torch.save(model, 'simple_nn.pth')"
   ]
  },
  {
   "cell_type": "markdown",
   "metadata": {
    "id": "PvUkWKQv6Jzl"
   },
   "source": [
    "Теперь загрузим сохраненную модель и посмотрим на ее предсказания. Важно! Когда идет этап inference модели, то нужно явно вызвать `model.eval()`, так как в случае если есть droupout или batch norm, то они не дложны работать как в процессе обучения, иначе они продолжат обучаться. "
   ]
  },
  {
   "cell_type": "code",
   "execution_count": null,
   "metadata": {
    "colab": {
     "base_uri": "https://localhost:8080/"
    },
    "id": "-T-2q5HW6Jzl",
    "outputId": "1ec452ad-fc19-4dc1-fe7e-e50fdccd019f"
   },
   "outputs": [],
   "source": [
    "model = torch.load('simple_nn.pth')\n",
    "model.eval()"
   ]
  },
  {
   "cell_type": "code",
   "execution_count": null,
   "metadata": {
    "colab": {
     "base_uri": "https://localhost:8080/"
    },
    "id": "za9jUazk6Jzl",
    "outputId": "0c597312-0974-4036-a67c-e46ffb0910ef"
   },
   "outputs": [],
   "source": [
    "# Выход модели (вероятность) на тестовой выборке\n",
    "with torch.no_grad():\n",
    "    test_scores = model(torch.tensor(X_test.astype(np.float32)))\n",
    "print(accuracy(test_scores, torch.tensor(y_test.astype(np.int))).item())\n",
    "print(test_scores.numpy())"
   ]
  },
  {
   "cell_type": "code",
   "execution_count": null,
   "metadata": {
    "colab": {
     "base_uri": "https://localhost:8080/"
    },
    "id": "go8eH5nx6Jzm",
    "outputId": "ce558d51-99f8-48a8-ec8e-c2a7a7f60fb7"
   },
   "outputs": [],
   "source": [
    "# Предсказание классов на тестовой выборке\n",
    "with torch.no_grad():\n",
    "    test_scores = model(torch.tensor(X_test.astype(np.float32)))\n",
    "predicted_classes = torch.argmax(test_scores, dim=1)\n",
    "print(predicted_classes)"
   ]
  },
  {
   "cell_type": "markdown",
   "metadata": {
    "id": "LwUjIsL26Jzm"
   },
   "source": [
    " Если `loss` еще падает, то точность не растет. __Как думаете, с чем это может быть связано?__"
   ]
  }
 ],
 "metadata": {
  "colab": {
   "collapsed_sections": [],
   "name": "sem1_intro_classification_pytorch.ipynb",
   "provenance": []
  },
  "kernelspec": {
   "display_name": "Python 3 (ipykernel)",
   "language": "python",
   "name": "python3"
  },
  "language_info": {
   "codemirror_mode": {
    "name": "ipython",
    "version": 3
   },
   "file_extension": ".py",
   "mimetype": "text/x-python",
   "name": "python",
   "nbconvert_exporter": "python",
   "pygments_lexer": "ipython3",
   "version": "3.9.12"
  }
 },
 "nbformat": 4,
 "nbformat_minor": 4
}
