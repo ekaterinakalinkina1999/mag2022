{
 "cells": [
  {
   "cell_type": "markdown",
   "id": "7668c72c-33ec-41e1-a5d6-18240b00ec11",
   "metadata": {},
   "source": [
    "Напишите программу, которая будет на массиве текстовых данных вычислять эмбеддинги слов по контексту. Что это должно быть:\n",
    "\n",
    "1. Есть функция обучения: программа считывает тексты из файлов корпуса и на их основе вычисляет эмбеддинги, а потом сохраняет получившиеся эмбеддинги в машиночитаемом формате (pickle вам в помощь)\n",
    "2. Есть функция поиска слова: пользователь вводит слово, программа выводит n наиболее похожих слов, если оно есть в словаре. \n",
    "\n",
    "Как организовать обучение:\n",
    "\n",
    "- должны быть параметры: ширина окна контекста, количество слов в словаре (оставляем только наиболее частотные)\n",
    "- тексты, очевидно, нужно предобработать: токенизировать, удалить пунктуацию и мусор, лемматизировать (spacy, stanza, RNNMorph вам в помощь)\n",
    "- нам интересны только NOUN, VERB, ADJ, ADV\n",
    "- Функции для вычисления косинусной близости есть в модуле scipy (либо можно с помощью numpy)\n",
    "\n",
    "Сам процесс должен выглядеть так:\n",
    "\n",
    "1. Считываем текстовые данные\n",
    "2. Обрабатываем: нормализуем, токенизируем, лемматизируем, собираем словарь V наиболее частотных слов интересующих нас частей речи для того, чтобы потом для них вычислить их эмбеддинги, и словарь D всех слов, по которым будем считать. Длина словаря D - это длина эмбеддинга. (V и D могут совпадать, на ваше усмотрение)\n",
    "3. Для каждого из слов x в V проходимся по всем текстам и считаем частоты встретившихся в окне контекста слов для x. \n",
    "4. Для получившихся эмбеддингов можем заранее рассчитать все косинусные расстояния и сохранить их в словаре, где ключи - наши слова, а значения - упорядоченные списки m наиболее похожих на них слов. \n",
    "\n",
    "Какие-то детали можете менять по своему усмотрению. Корпус текстов можно брать на любом языке, если можете произвести его морфоразборы (модуль spacy поддерживает несколько языков, + есть модуль corpy, который поддерживает еще больше языков...).\n",
    "\n",
    "Рекомендуется писать в классах - заодно потренируетесь. Если писать в классах, то возможный вариант вашего кода:"
   ]
  },
  {
   "cell_type": "code",
   "execution_count": null,
   "id": "70b45fd4-bb92-4c20-8108-b815e2da297d",
   "metadata": {},
   "outputs": [],
   "source": [
    "class Corpus:\n",
    "    def __init__(self, path, preprocessor):\n",
    "        self.V = {}\n",
    "        # your code here\n",
    "    def read(self):\n",
    "        # your code here\n",
    "    \n",
    "    def prepare(self, V_size, D_size):\n",
    "        # your code here\n",
    "        \n",
    "    def create_embeddings(self, width):\n",
    "        # your code here\n",
    "        \n",
    "    def cosine_distances(self):\n",
    "        for word in self.V:\n",
    "            # your code here\n",
    "        \n",
    "class Preprocessor:\n",
    "    def __init__(self):\n",
    "        # your code here\n",
    "        \n",
    "    def normalize(self):\n",
    "        # your code here\n",
    "        \n",
    "    def tokenize(self):\n",
    "        # your code here\n",
    "        \n",
    "    def lemmatize(self):\n",
    "        # your code here\n",
    "        \n",
    "def learn(path):\n",
    "    # your code here\n",
    "    \n",
    "def search(corpus, n_samples):\n",
    "    #your code here\n",
    "    \n",
    "if __name__ == '__main__':\n",
    "    if os.path.exists('learned_embeddings.bin'):\n",
    "        corpus = pickle.load(open('learned_embeddings.bin', 'rb'))\n",
    "    else:\n",
    "        # your code here\n",
    "    # your code here"
   ]
  }
 ],
 "metadata": {
  "kernelspec": {
   "display_name": "Python 3 (ipykernel)",
   "language": "python",
   "name": "python3"
  },
  "language_info": {
   "codemirror_mode": {
    "name": "ipython",
    "version": 3
   },
   "file_extension": ".py",
   "mimetype": "text/x-python",
   "name": "python",
   "nbconvert_exporter": "python",
   "pygments_lexer": "ipython3",
   "version": "3.9.12"
  }
 },
 "nbformat": 4,
 "nbformat_minor": 5
}
