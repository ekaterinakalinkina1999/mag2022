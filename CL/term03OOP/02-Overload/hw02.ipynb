{
 "cells": [
  {
   "cell_type": "markdown",
   "id": "521c0845-4c9a-45f5-9079-5b795f0356ec",
   "metadata": {},
   "source": [
    "#### Задача 1 (10 баллов)\n",
    "\n",
    "Самостоятельно изучите библиотеку pyqt5 и напишите программу - графический интерфейс для морфопарсинга: можно использовать любой морфопарсер. В программе должно быть окно, куда пользователь может вставлять свой собственный текст, кнопка \"parse\" и второе окно, в котором будет появляться морфоразбор. В каком виде он будет появляться, не принципиально, но можно сделать таблички. "
   ]
  },
  {
   "cell_type": "markdown",
   "id": "a6fbddfa-9044-41f6-9b72-49cd56906aee",
   "metadata": {},
   "source": [
    "    код для этой задачи удобнее будет писать в py. "
   ]
  }
 ],
 "metadata": {
  "kernelspec": {
   "display_name": "Python 3 (ipykernel)",
   "language": "python",
   "name": "python3"
  },
  "language_info": {
   "codemirror_mode": {
    "name": "ipython",
    "version": 3
   },
   "file_extension": ".py",
   "mimetype": "text/x-python",
   "name": "python",
   "nbconvert_exporter": "python",
   "pygments_lexer": "ipython3",
   "version": "3.9.12"
  }
 },
 "nbformat": 4,
 "nbformat_minor": 5
}
