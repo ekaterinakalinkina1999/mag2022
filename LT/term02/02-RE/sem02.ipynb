{
 "cells": [
  {
   "cell_type": "markdown",
   "id": "e872d658-5996-49ec-99a0-e736754d3144",
   "metadata": {},
   "source": [
    "Для решения всех задач этого семинара питон *не* нужен! Достаточно сайта regex101.com. Тексты, приведенные в задачах - только для тестирования, предполагается, что регулярное выражение будет выполнять условие задачи, а не подгоняться под текст. \n",
    "\n",
    "You don't need Python to solve these tasks! Just use the site regex101.com.The exemplary texts in the tasks are for testing purposes, your regular expressions should comply with the conditions of the task, not only with the text in it. "
   ]
  },
  {
   "cell_type": "markdown",
   "id": "8a056d8b-d8a1-4b86-99ba-45dcce84ff7c",
   "metadata": {},
   "source": [
    "#### Задача 1. \n",
    "\n",
    "Найдите все цифры в тексте, но такие, чтобы их окружали только пробелы, запятые и точки уже не подойдут. Текст для тестирования:\n",
    "\n",
    "    El área del glaciar Universidad es de 29,2 km² con una longitud de 10,6 km y un rango altitudinal que va desde los 2463 a los 4543 m s. n. m.. El glaciar tiene una zona de acumulación dividida en dos cuencas, que convergen a una altitud de 2900 m. Por debajo de esta elevación, el glaciar tiene una lengua bien definida. El glaciar Universidad es un valle glaciar que forma parte de un complejo glaciar más extenso, que incluye el glaciar Cipreses que fluye hacia el norte (originando el río Cipreses, en la cuenca del Cachapoal), el glaciar Palomo que fluye hacia el noreste, el glaciar Cortaderal que fluye hacia el este y otros pequeños glaciares que fluyen hacia el oeste. Otra característica de la cuenca es la presencia de pequeños lagos asociados principalmente con glaciares terminales (lagos proglaciares) y glaciares cubiertos de detritos (lagos supraglaciales).\n",
    "    \n",
    "В этом тексте должны найтись:\n",
    "\n",
    "    2463\n",
    "    4543\n",
    "    2900\n",
    "    \n",
    "Find all numbers in a text, but only such that they are surrounded by spaces. No commas allowed!"
   ]
  },
  {
   "cell_type": "markdown",
   "id": "4971bfc4-24ac-4ab5-a7c7-68e8e62c1de9",
   "metadata": {},
   "source": [
    "#### Задача 2. \n",
    "\n",
    "Найдите все словоформы слова \"игра\" в тексте. Слова \"игрок\" и \"играть\" не должны находиться!\n",
    "\n",
    "    В начале 1950-х годов среди вратарей стала распространяться новая манера игры на выходах, по всей штрафной площадке, которую развил Яшин. Одним из первых вратарей, освоивших игру за пределами вратарской, стал игрок сборной Болгарии Апостол Соколов[167]. По замечанию биографа Виктора Асаулова, Яшину удалось сломать стереотип о том, что наиболее яркими и влияющими на исход матча игроками в футболе становятся прежде всего нападающие, реже — полузащитники и защитники. Он получал признание от болельщиков независимо от их идеологических, религиозных пристрастий, а также национальности[168]. Напротив, в отличие от других советских спортсменов, Яшин стал известен по всему миру в лучшем свете невзирая на политическую обстановку холодной войны между СССР и странами Запада[169]. Несмотря на критику в начале карьеры, которую Яшин получал из-за новаторской манеры игры (например от первого вице-президента ФИФА Валентина Гранаткина), с проведёнными удачными сезонами в «Динамо» публика оценила его игру[170]. Во всём мире Яшина называли либо «Чёрная пантера» (за его чёрную вратарскую форму, подвижность и акробатические прыжки), либо «Чёрный паук» (за его длинные, всё достающие руки)[171][172][2]. Сам Яшин не питал приятных эмоций в отношении подобных прозвищ[40]. На протяжении части карьеры он выступал в кепке, как и некоторые другие вратари того времени. Головной убор помогал вратарю лучше ориентироваться на солнце, однако во время выступления на Евро-1960 кепка была утеряна (или украдена), после чего Яшин стал играть без неё.\n",
    "    \n",
    "В этом тексте должны найтись:\n",
    "\n",
    "    игры\n",
    "    игру\n",
    "    игры\n",
    "    игру\n",
    "    \n",
    "Find all forms of the Russian word 'игра' in a text. You may look up its forms [here](https://ru.wiktionary.org/wiki/%D0%B8%D0%B3%D1%80%D0%B0). The words 'играть' and 'игрок' are not allowed!"
   ]
  },
  {
   "cell_type": "markdown",
   "id": "e90f88ee-76b8-4327-b5bb-9a3bf2e3d44b",
   "metadata": {},
   "source": [
    "#### Задача 3.\n",
    "\n",
    "Найдите в тексте все года, записанные четырьмя цифрами, но только по 2000 год: 2001 нас уже не устраивает, а 2000 - да. \n",
    "\n",
    "    Halldór byrjaði að skrifa sem barn og fékk ungur áhuga á íslenskri tungu og beitti sér fyrir málrækt í Mosfellsdalnum. Hann gaf út fyrstu bók sína, Barn náttúrunnar, 1919 þá aðeins 17 ára gamall. Hann skrifaði bókina þegar hann var 16 ára og sat þá frekar á Landsbókasafninu að skrifa en að mæta í skólann. Barn náttúrunnar gaf glöggum bókarýnum fyrirheit um það sem koma skyldi.[11]\n",
    "    Þegar Halldór var ungur maður fór hann að ferðast og dvaldi meðal annars í Vesturheimi á árunum 1927–1929. Hann var í klaustri í Lúxemborg frá desember 1922 fram til haustsins 1923. Í klaustrinu tók hann kaþólska trú og var skírður og fermdur til kaþólskrar kirkju 6. janúar 1923.[12]\n",
    "    Frumburð sinn, Maríu (10. apríl 1923 - 19. mars 2016[13]), eignaðist Halldór með Málfríði Jónsdóttur (29. ágúst 1896 - 7. nóvember 2000[14]) sem hann hafði kynnst sumarið 1922 í Rönne á Borgundarhólmi; þau giftust samt ekki. Í lok ævi sinnar var Málfríður elsti lifandi Íslendingurinn.\n",
    "    Halldór var tvíkvæntur. Árið 1930 giftist hann Ingibjörgu Einarsdóttur (3. maí 1908 - 22. janúar 1994[15]) og með henni átti hann soninn Einar (9. ágúst 1931 - 23. maí 2016[16]). Þau slitu samvistir 1940. Halldór kynntist seinni konu sinni, Auði Sveinsdóttur (30. júní 1918 - 29. október 2012[17]), á Laugarvatni 1939. Samkvæmt frásögn ævisöguritara Halldórs Laxness, Halldóri Guðmundssyni, vildi Halldór fara rólega í sakirnar, og fyrstu árin eftir að þau byrjuðu að vera saman þurfti Auður að bíða þolinmóð eftir honum.[18] Halldór Guðmundsson segir svo frá að Auður hafi verið tilbúin til þess að færa fórnir fyrir Halldór og getað létt áhyggjum af skáldinu, hún var konan sem Halldór dreymdi um.[19] Auður og Halldór giftu sig hjá borgarfógeta 24. desember 1945. Þau fluttu að Gljúfrasteini í Mosfellssveit árið 1945, en það hús létu hjónin byggja. Það var draumur Halldórs að eignast heimili á sínum bernskuslóðum og þau fengu arkitektinn Ágúst Pálsson(en) til þess að teikna húsið[20]. Auður sá að mestu um að fylgjast með húsasmíðunum á meðan Halldór einbeitti sér að skrifum.[21] Halldór og Auður eignuðust tvær dætur - Sigríði (*26. maí 1951) og Guðnýju (*23. janúar 1954).\n",
    "    \n",
    "В этом тексте должны найтись:\n",
    "\n",
    "    1919\n",
    "    1927\n",
    "    1929\n",
    "    1922\n",
    "    1923\n",
    "    1923\n",
    "    1923\n",
    "    1896\n",
    "    2000\n",
    "    1922\n",
    "    1930\n",
    "    1908\n",
    "    1994\n",
    "    1931\n",
    "    1940\n",
    "    1918\n",
    "    1939\n",
    "    1945\n",
    "    1945\n",
    "    1951\n",
    "    1954\n",
    "\n",
    "Find all years in a text which are written as four numbers: 1981, 1700 etc. We are interested in all years except for those over 2000: 2000 is okay, but 2001 shouldn't be found. "
   ]
  },
  {
   "cell_type": "markdown",
   "id": "4a05ca18-ac16-4b5f-933d-a4cf15ce80ff",
   "metadata": {},
   "source": [
    "#### Задача 4. \n",
    "\n",
    "В турецком языке морфологические показатели могут приписываться и к именам собственным, и к некоторым другим вещам через апостроф, например, суффикс локатива dV (дом: ev, в доме: evde) может приписываться к году: 1946'da - \"в 1946\" или к имени собственному: Britanya'da \"в Британии\". Найдите все имена собственные в турецком тексте, имеющие такие показатели. Годы и прочие числа нас не интересуют. \n",
    "\n",
    "    Yeni Cami, Lefkoşa'nın kuzey kesiminde yer alan bir camidir. İçinde bulunduğu Yenicami Mahallesi'ne adını verir. Mevcut cami 1898-1899 yılında tamamlanmış olup, yanında bulunan ve günümüze kalıntıları ulaşan eski cami ise kiliseden çevrilmişti.\n",
    "    Günümüzde caminin yer aldığı alandaki ilk ibadethane, 14. yüzyılda inşa edilen ve Gotik mimari özelliklerini taşıyan bir kiliseydi. Bu kilisenin 1350'li veya 1360'lı yıllarda inşa edildiği, Eleusa'ya (Merhametli Meryem Ana) adanmış olduğu yönünde bulgular vardır. Şehrin 1570 yılında Osmanlı İmparatorluğu hakimiyetine geçmesiyle camiye çevrilen bu kilise, \"Cami-i Cedid\" veya \"Yeni Cami\" olarak anılmaya başlandı. 1740-41 yılına dek ayakta kalan bu yapı, bu tarihte geriye minaresi ve güneybatı köşesi kalacak şekilde yıkılarak Menteşzade Hacı İsmail Ağa tarafından 20 metre uzağına yeni bir cami inşa edildi. Rivayete göre Menteşzade Hacı İsmail Ağa, define bulmak için caminin altını kazdırarak yıkılmasına sebep oldu ve bundan dolayı idam edildi. Bu caminin yerine 1898-1899 yıllarında, günümüze ulaşan cami yapıldı. Eski caminin minaresi 1974'te Kıbrıs Harekâtı sırasında isabet eden bir havan topuyla zarar gördüğünden 1977'de yıktırıldı ve 1979'da yeni bir minare inşa edildi.\n",
    "    14. yüzyılda inşa edilen Gotik yapı, öncesinde inşa edilen Azize Katerina Kilisesi'yle (günümüzde Haydarpaşa Camii) benzer özellikler taşıyan, süslemeler ve mimari plan açısından Kıbrıs mimarisinde bu kilisenin bir sonraki aşamasını temsil eden bir yapı olarak değerlendirilir. Günümüzde kullanılan cami binası ise, dikdörtgen harim etrafına inşa edilen L şeklindeki son cemaat yeri ile 19. yüzyılda adada inşa edilen diğer Osmanlı camileriyle benzer bir mimari plan ortaya koymaktadır. Caminin etrafında Osmanlı döneminde kurulan mezarlık, 1950'lerde ortadan kaldırılmıştır. Benzer bir şekilde 1959'da yıkılan caminin şadırvanı, 2003 yılında özgün özelliklerini yansıtacak şekilde baştan yapılmıştır. Caminin yanında aralarında Menteşzade Hacı İsmail Ağa ve şair Hasan Hilmi Efendi'ninkiler de olmak üzere dört türbe günümüze ulaşmıştır.\n",
    "    \n",
    "В этом тексте должно найтись: \n",
    "\n",
    "    Lefkoşa'nın\n",
    "    Mahallesi'ne\n",
    "    Eleusa'ya\n",
    "    Kilisesi'yle\n",
    "    Efendi'ninkiler\n",
    "\n",
    "In Turkish morphological markers can join to named entities and some other things with an apostrophe sign, e.g., locative suffix 'dV' (house: ev, in a house: evde - there is vowel harmony) can join like 1946'da = in 1946 or to a name: Britanya'da = in Great Britain. Find all names with such markers (but do not find years and other numbers). "
   ]
  },
  {
   "cell_type": "markdown",
   "id": "fe0535fa-07b1-446c-9ee5-dc2c163824e2",
   "metadata": {},
   "source": [
    "#### Задача 5. \n",
    "\n",
    "Телефонный номер может быть записан в самых различных форматах, например: +7 900 123 45 67, или 8 900 123 45 67, или +7 (900) 1234567... попробуйте учесть в регулярном выражении как можно больше возможных вариантов. \n",
    "\n",
    "A phone number can be written in diverse formats, e.g. those above. Try to write a regular expression which takes into account as many formats as you can think of. "
   ]
  },
  {
   "cell_type": "markdown",
   "id": "54575fdc-4fe7-458c-94da-84af899356e0",
   "metadata": {},
   "source": [
    "#### Задача 6. \n",
    "\n",
    "Раз уж мы с вами практикуемся на Википедии, давайте заодно напишем регулярку, которая будет извлекать все ссылки в википедийном формате: \\[1\\]. Ссылка заключается в квадратные скобки и внутри может содержать сколь угодно длинное число. \n",
    "\n",
    "    El 15 de juliol de 2019 va arribar a un acord amb el Futbol Club Barcelona per 1,1 milions d'euros, signant per 4 temporades. La seva clàusula de rescissió es va fixar en 40 milions d'euros mentre sigui jugador del Barça B i de 100 milions si passa a jugar al primer equip. A la segona jornada va debutar per primer cop amb la samarreta del Barça contra el Gimnàstic de Tarragona.[2] El 2019, va renunciar temporalment a la selecció Japonesa sub 21 per accelerar el seu procés d'adaptació al Barça.[3] La seva renúncia també va ser deguda a una lesió.[2] Al Barça B ocupa la posició d'extrem, mentre que a la selecció japonesa juga de migcampista. Com assegura el seu entrenador a una roda de premsa “el jugador rendeix millor en aquesta posició”.[3]\n",
    "    \n",
    "Найдется:\n",
    "\n",
    "    [2]\n",
    "    [2]\n",
    "    [3]\n",
    "    [3]\n",
    "    \n",
    "Extract all Wikipedia links from a text. A link looks like a number of any length in square brackets: \\[1\\]. "
   ]
  },
  {
   "cell_type": "markdown",
   "id": "4e5ec47f-12d0-49e0-834a-93f6479d754b",
   "metadata": {},
   "source": [
    "#### Задача 7. \n",
    "\n",
    "Напишите регулярное выражение, которое будет точно выделять отдельное слово русского языка. Мы считаем, что в слове могут быть только кириллические буквы и дефисы, причем а) двух дефисов подряд быть не может б) слово не должно начинаться или заканчиваться на дефис (да, бывают слова, которые на него заканчиваются, но мы не будем их здесь учитывать). \n",
    "\n",
    "Write a regular expression to extract Russian words from text. We consider that a word contains only cyrillic letters and hyphens, besides, there cannot be two hypens next to each other and a word cannot start or end with a hyphen. "
   ]
  },
  {
   "cell_type": "markdown",
   "id": "07683728-241e-4f1c-ba4f-fa8be04e8bd4",
   "metadata": {},
   "source": [
    "#### Задача 8. \n",
    "\n",
    "В папке с музыкой файлы называются следующим образом: сперва идет название группы, потом через дефис номер песни, а потом название песни (и расширение). Напишите такую регулярку, которая будет возвращать отдельной группой название исполнителя, отдельной группой - номер песни и отдельной группой - название песни. \n",
    "\n",
    "In a folder with music files the files are named conventionally so that the first part is the name of the band, the second part is the number of the song and the third part is the name of the song, like this: `Clanadonia - 01 - Hamster Heid.mp3`. Write such an expression which would capture all three parts as three different capturing groups. "
   ]
  },
  {
   "cell_type": "markdown",
   "id": "c09fad86-290a-4bad-bbe9-49c634c18003",
   "metadata": {},
   "source": [
    "#### Задача 9. \n",
    "\n",
    "Поможем редактору найти тавтологию в тексте. Напишите такое выражение, которое будет находить повторяющиеся слова, если между ними от 0 до 5 других слов. \n",
    "\n",
    "Let's help an editor find tautologisms (repeated words) in a text. Write a regular expression which would find repeated words if there are from 0 to 8 other words between. "
   ]
  }
 ],
 "metadata": {
  "kernelspec": {
   "display_name": "Python 3 (ipykernel)",
   "language": "python",
   "name": "python3"
  },
  "language_info": {
   "codemirror_mode": {
    "name": "ipython",
    "version": 3
   },
   "file_extension": ".py",
   "mimetype": "text/x-python",
   "name": "python",
   "nbconvert_exporter": "python",
   "pygments_lexer": "ipython3",
   "version": "3.9.12"
  }
 },
 "nbformat": 4,
 "nbformat_minor": 5
}
