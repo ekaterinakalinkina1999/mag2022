{
 "cells": [
  {
   "cell_type": "markdown",
   "id": "56b376ca-c713-47eb-a4fc-9926a0007eab",
   "metadata": {},
   "source": [
    "Задачи 1-12 можно делать не в питоне и прислать их мне просто в письме. \n",
    "\n",
    "You can just write your regex for tasks 1-12 and send them in a letter (reminder: my email is jahil.kematian@gmail.com)"
   ]
  },
  {
   "cell_type": "markdown",
   "id": "56f79cde-19e5-436a-b215-8717cedc3548",
   "metadata": {
    "tags": []
   },
   "source": [
    "### Задача 1. \n",
    "\n",
    "Найдите в тексте все вхождения слова Python в любом регистре (и заборчиком тоже). Ответьте на вопрос: нужна ли для этого вообще регулярка?\n",
    "\n",
    "Find all variants of the word Python in any case (variants like PyThOn must be found as well). Answer the question: do we need regex for this?"
   ]
  },
  {
   "cell_type": "markdown",
   "id": "39e1a4a9-1599-4155-bb05-0f38c5941725",
   "metadata": {},
   "source": [
    "### Задача 2.\n",
    "\n",
    "Найдите в тексте все вхождения слов \"мама\" и \"папа\" с помощью одного регулярного выражения.\n",
    "\n",
    "Find all 'мама' and 'папа' in a text with the help of one regular expression."
   ]
  },
  {
   "cell_type": "markdown",
   "id": "4310735e-1ba5-4be6-b19c-57e4c8ce4f10",
   "metadata": {},
   "source": [
    "### Задача 3.\n",
    "\n",
    "Найдите в тексте все словоформы для леммы \"кошка\" (кошку, кошек, кошками...)\n",
    "\n",
    "Find all word form of a lexeme 'кошка' (paradigm [here](https://ru.wiktionary.org/wiki/%D0%BA%D0%BE%D1%88%D0%BA%D0%B0))"
   ]
  },
  {
   "cell_type": "markdown",
   "id": "39c51d83-8e76-400a-ad14-c393663703e1",
   "metadata": {},
   "source": [
    "### Задача 4.\n",
    "\n",
    "Найдите в тексте все арабские числа (цифр может быть сколько угодно)\n",
    "\n",
    "Find all numbers from 0 to 9 (it doesn't matter how many digits there is in one number)"
   ]
  },
  {
   "cell_type": "markdown",
   "id": "b448f853-d33e-4b4f-aaf2-dea9ceb42e54",
   "metadata": {
    "tags": []
   },
   "source": [
    "### Задача 5.\n",
    "\n",
    "Найдите в тексте все смайлики вида :), :(, :-), :-(.\n",
    "\n",
    "Find all smileys :), :(, :-), :-(."
   ]
  },
  {
   "cell_type": "markdown",
   "id": "11ecfef6-e167-47b1-a51b-27a918550858",
   "metadata": {},
   "source": [
    "### Задача 6.\n",
    "\n",
    "Найдите в тексте все вхождения слова \"тоже\", но такие, чтобы не попались контексты \"тоже мне...\". \n",
    "\n",
    "Find all occurrences of the word 'тоже', but it can't be followed by the word 'мне'. "
   ]
  },
  {
   "cell_type": "markdown",
   "id": "2acf61a8-5918-4397-a42b-56dd8e037279",
   "metadata": {},
   "source": [
    "### Задача 7.\n",
    "\n",
    "Найдите в тексте все словоформы для леммы \"точка\", но таким образом, чтобы \"цветочек\" и \"деточка\" нас не устраивали.\n",
    "\n",
    "Find all word forms of lexeme 'точка' ([paradigm](https://ru.wiktionary.org/wiki/%D1%82%D0%BE%D1%87%D0%BA%D0%B0)), but your regex shouldn't also find them as parts of other words (like 'цветочек' or 'деточка'). "
   ]
  },
  {
   "cell_type": "markdown",
   "id": "fbfb7a71-8ff5-40be-8950-1adbd65a1265",
   "metadata": {},
   "source": [
    "### Задача 8.\n",
    "\n",
    "Найдите в тексте все вариации мема \"ну ... и ...\" (то есть, вместо ... любое повторяющееся слово: ну питон и питон, ну регулярка и регулярка)\n",
    "\n",
    "Find all variations of a meme 'ну ... и ...' (instead of ... there may be any Russian word, the only restriction is that it should be repeated as in examples above)."
   ]
  },
  {
   "cell_type": "markdown",
   "id": "24b792d0-ec52-418d-8234-565bd3072e1d",
   "metadata": {},
   "source": [
    "### Задача 9.\n",
    "\n",
    "Найдите в тексте все содержимое скобок. В тексте могут быть вложенные скобки. В таком случае мы ищем только содержимое внутренних скобок. \n",
    "\n",
    "Find all words that are included in round brackets (as in the seminar tasks), but there can be nested brackets. In that case we are interested only in the contents of the inner brackets."
   ]
  },
  {
   "cell_type": "markdown",
   "id": "d4def4aa-3e07-407f-9366-c3cdbfcde9ba",
   "metadata": {},
   "source": [
    "### Задача 10.\n",
    "\n",
    "Найдите в тексте все слова, которые начинаются с заглавной буквы и состоят при этом из строчных, но не находятся в начале строки.\n",
    "\n",
    "Find all words that start with a capital letter and contain only small letters, but are not in the beginning of the string. (In this very text the word \"Find\" won't do, but the word \"In\" is okay)."
   ]
  },
  {
   "cell_type": "markdown",
   "id": "76e8f233-8f0f-405f-9176-615c656c5d0b",
   "metadata": {},
   "source": [
    "### Задача 11.\n",
    "\n",
    "Найти в тексте все смайлики вида ^\\_^, \\*\\_\\*, T\\_T. Осторожнее: смайлики вида ^\\_\\* нам не нужны!\n",
    "\n",
    "Find all smileys such as ^\\_^, \\*\\_\\*, T\\_T (the symbol used for 'eyes' is repeated). Beware, we don't want a smiley face like ^\\_\\*."
   ]
  },
  {
   "cell_type": "markdown",
   "id": "f16b7553-c2fa-4f5e-87fe-81f473d2f9e8",
   "metadata": {},
   "source": [
    "### Задача 12.\n",
    "\n",
    "Найти в тексте все употребления слов \"понравилось\" и \"впечатлило\" такие, что непосредственно перед ними НЕ стоит \"не\". Время прошедшее, но род/число могут быть любыми.\n",
    "\n",
    "Find all occurences of verbs \"понравилось\" and \"впечатлило\", but only such that there is no \"не\" in front of them. The verbs are in past tense, but there can be any gender or number (\"понравились\", \"впечатлил\"). "
   ]
  },
  {
   "cell_type": "markdown",
   "id": "1f59373a-1503-42b3-ac80-25831311ae85",
   "metadata": {},
   "source": [
    " "
   ]
  },
  {
   "cell_type": "markdown",
   "id": "e45ec729-272a-4239-8c47-6ea6b98efcb8",
   "metadata": {},
   "source": [
    "Задачи ниже нужно сделать в Python. "
   ]
  },
  {
   "cell_type": "markdown",
   "id": "74cb5041-bb68-47c9-93aa-2d3a0ba129e8",
   "metadata": {},
   "source": [
    "#### Задача 13.\n",
    "\n",
    "У нас есть (любой) текст, в котором встречаются целые числа. Числа могут быть отрицательными, тогда между минусом и числом нет никакого другого знака. Напишите программу, которая все числа увеличит на единицу (причем 34 должно превратиться в 35, а -34 - в -33). Нельзя пользоваться циклами!\n",
    "\n",
    "We have a text with integer numbers. These numbers can be negative, then there is no other sign between the number and its minus sign. Write a program that will increase all numbers by 1 (34 must become 35, and -34 must become -33). You are not allowed to use Python cycles *for* or *while*!"
   ]
  },
  {
   "cell_type": "code",
   "execution_count": null,
   "id": "19b8ff5f-b1bb-433e-9e73-d27772ec932d",
   "metadata": {},
   "outputs": [],
   "source": [
    "# your code here"
   ]
  },
  {
   "cell_type": "markdown",
   "id": "19b8ad95-34d8-4200-a0ac-be086185e2f7",
   "metadata": {},
   "source": [
    "#### Задача 14.\n",
    "\n",
    "Напишите самый простой токенизатор: он должен захватывать стандартные знаки препинания, русские и английские слова (символы с диакритиками не берем в расчет), причем таким образом, чтобы каждому токену еще приписывалась его категория: пунктуация, кириллическое или английское слово. Дополнительные два балла можно получить, если напишете этот токенизатор в классах (один класс для самого токенизатора, у которого будет метод tokenize, и еще один вспомогательный класс для токенов). \n",
    "\n",
    "Create the simplest tokenizer: it should find standard punctuation marks, cyrillic and latin words (we sippose that there are no letters with diacritics). Each token should automatically get a category: punct, cyr or lat. You may earn two additional points for this task if you write this tokenizer in classes (one class Tokenizer with a method tokenize and another class Token). "
   ]
  },
  {
   "cell_type": "code",
   "execution_count": null,
   "id": "690d832d-fc8b-4256-9700-07e5fff3600d",
   "metadata": {},
   "outputs": [],
   "source": [
    "# your code here\n",
    "\n",
    "'''Optional class realisation'''\n",
    "class Tokenizer:\n",
    "    def __init__(self):\n",
    "        ...\n",
    "        \n",
    "    def tokenize(self, text):\n",
    "        ...\n",
    "        \n",
    "class Token:\n",
    "    def __init__(self):\n",
    "        ... \n",
    "    \n",
    "    def __str__(self):\n",
    "        ... \n",
    "        \n",
    "    def __repr__(self):\n",
    "        ..."
   ]
  },
  {
   "cell_type": "code",
   "execution_count": null,
   "id": "87aad737-af31-41ba-bacb-f7c60798538a",
   "metadata": {},
   "outputs": [],
   "source": [
    "# your code here"
   ]
  }
 ],
 "metadata": {
  "kernelspec": {
   "display_name": "Python 3 (ipykernel)",
   "language": "python",
   "name": "python3"
  },
  "language_info": {
   "codemirror_mode": {
    "name": "ipython",
    "version": 3
   },
   "file_extension": ".py",
   "mimetype": "text/x-python",
   "name": "python",
   "nbconvert_exporter": "python",
   "pygments_lexer": "ipython3",
   "version": "3.9.12"
  }
 },
 "nbformat": 4,
 "nbformat_minor": 5
}
