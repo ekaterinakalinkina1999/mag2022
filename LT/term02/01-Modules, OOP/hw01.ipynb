{
 "cells": [
  {
   "cell_type": "markdown",
   "id": "6005a970-418e-4e88-aabf-e5f19a59e9e3",
   "metadata": {},
   "source": [
    "*A note for Razan*: please title your scripts with the numbers of the tasks, it's sometimes a bit difficult to understand what task you're doing. :) You may create text cells in Colab and write your notes there, or use Python comments (#). Writing comments to your code is very useful, as a matter of fact. You can also rename your Colab notebook by clicking on its name."
   ]
  },
  {
   "cell_type": "markdown",
   "id": "6656a6ae-26b4-46cd-886c-bee4f0f64a6d",
   "metadata": {},
   "source": [
    "#### Задача 1. \n",
    "\n",
    "Напишите программу, которая будет проверять тексты на попытки обмануть антиплагиат с помощью подмены некоторых символов на такие же, но латинские. Программа должна открывать текст в формате .txt, разделять его на токены любым способом и проверять каждый токен. Если токен содержит только латинские или кириллические символы, то с ним все хорошо, а если в нем есть 1-2 латинских символа и все остальные - кириллические, то программа должна печатать этот токен и номер его строки с указанием латинских букв. Строки можно нумеровать с помощью счетчика, когда читаете файл. Лучше всего считывать файл построчно, очевидно. \n",
    "\n",
    "Write a program which would check texts for attempts to deceive anti-plagiarism systems with the help of the change of some cyrillic symbols to similar-looking latin ones (lazy students used to do this: you print English 'c' instead of Russian 'c' and the text becomes 'unique'). This script should open a text file in .txt format (you may create one yourself for testing purposes), divide it in words anyhow and check every word. If the word contains only cyrillic or only latin letters, it's okay, but if the word contains 1-2 latin letters while the other letters are cyrillic, the script should type this word and the number of the line it is in. You may count the lines with the help of a variable by incrementing it with each line. Of course it is better to read the file line by line (`for line in file` structure). "
   ]
  },
  {
   "cell_type": "code",
   "execution_count": null,
   "id": "155811d1-850f-4570-9ab7-dc75ff5a15d2",
   "metadata": {},
   "outputs": [],
   "source": [
    "class Checker:
    latin = "abcdefghijklmnopqrstuvwxyz"
    kirilitsa = "абвгдеёжзийклмнопрстуфхцчшщъыьэюя"

    def latin_only(self, token):
        for elem in token:
            if not elem.isdigit():
                if elem not in self.latin:
                    return False
        return True

    def kirilitsa_only(self, token):
        for elem in token:
            if not elem.isdigit():
                if elem not in self.kirilitsa:
                    return False
        return True


checker = Checker()

with open('task_11', 'r', encoding='utf-8') as infile:
    for num, elem in enumerate(infile.readlines(), 1):
        elem = elem.strip().lower()
        if not (checker.latin_only(elem) or checker.kirilitsa_only(elem)):
            print(num, elem)"
   ]
  },
  {
   "cell_type": "markdown",
   "id": "0b7a8cac-1ac4-427a-a1ca-36c3e08f8a10",
   "metadata": {},
   "source": [
    "#### Задача 2 (3 балла).\n",
    "\n",
    "Напишите программу для игры в города. При загрузке программа должна подгружать файл с названиями городов (вам придется его составить, можно поискать готовые списки). Сама игра происходит следующим образом: начинает игрок-человек и вводит любое название города. Программа проверяет, на какую букву заканчивается это название, и случайным образом выбирает подходящий город на эту букву в своем списке (для случайного выбора можно использовать библиотеку random и функцию choice). Если город заканчивается на 'ь', берем предпоследнюю букву (или можно играть по-английски). Когда человек вводит следующий ответ, программа должна проверить, начинается ли введенный город на правильную букву, и если нет, то потребовать ввести заново. Чтобы остановить игру, человек должен просто нажать Enter. Не забудьте создать множество для уже введенных городов, ведь повторяться нельзя! (Список городов у программы тоже на самом деле может быть множеством или даже словарем, чтобы удобнее было по буквам отсеивать). \n",
    "\n",
    "+1 дополнительный балл, если напишете в классах. \n",
    "\n",
    "Write a game \"Cities\": this game supposes that two players (in our case, that would be a human and a computer) name cities in turns, and each city should begin with the last letter of the previous one. For example:\n",
    "\n",
    "    Human: Москва\n",
    "    Computer: Астана\n",
    "    Human: Архангельск\n",
    "    Computer: Кабул\n",
    "    Human: Лондон\n",
    "    ...\n",
    "    \n",
    "You will have to create a file with the list of the cities for the computer. The city names you use can be in Russian or in any other language, you may search for such lists in the Internet. The program should read this file on start and store the cities in a set or in a dictionary. Then the game starts: the human player enters the first city name, the computer must choose another city name which starts with the last letter of the previous city. If you use Russian names, mind that there are no cities starting with 'ь' or 'ъ', so you use the second last letter in this case ('Ярославль' - the last letter would be 'л'). When the human enters the city in response, the computer should check if the first letter of this city is correct, and ask the player to enter another city if it is not. The city names cannot be repeated, so you should create a set of already used cities for checking. In order to stop the game, the player should just press Enter. For choosing a city name randomly, you can use `random` library and its function `choice`. \n",
    "\n",
    "You can get 3 points for this task and 1 additional point if you use Python classes in it. "
   ]
  },
  {
   "cell_type": "code",
   "execution_count": null,
   "id": "8905b146-0310-4f19-badc-8c3b7a14e64a",
   "metadata": {},
   "outputs": [],
   "source": [
    "from random import choice\n",
    "\n",
    "import random
class Game:
    def __init__(self):
        self.dct_of_cities = {}
        self.set_of_used_cities = set()
        self.create_dct_of_cities()
        self.last_symbol = ''

    def create_dct_of_cities(self):
        with open('cities.txt', 'r', encoding='utf-8') as infile:
            for line in infile:
                line = line.strip().lower()
                if line[0] not in self.dct_of_cities:
                    self.dct_of_cities[line[0]] = []
                self.dct_of_cities[line[0]].append(line.capitalize())

    def find_word(self, last_symbol):
        if last_symbol in self.dct_of_cities:
            if self.dct_of_cities[last_symbol]:
                city = random.choice(self.dct_of_cities[last_symbol])
                self.dct_of_cities[last_symbol].remove(city)
                self.set_of_used_cities.add(city)
                return city
        return None

    def start_game(self):
        while True:
            city_of_user = input("Human: ").lower()

            if city_of_user == '':
                print('Игра закончилась')
                break

            if self.last_symbol != '' and city_of_user[0] != self.last_symbol:
                print(f'Игра закончилась, Human проиграл - город {city_of_user.capitalize()} '
                      f'не начинается на букву {self.last_symbol}')
                break

            if city_of_user in self.set_of_used_cities:
                print(f'{city_of_user.capitalize()} уже был использован')
                continue

            symbol = city_of_user[-1]
            if symbol == 'ь':
                symbol = city_of_user[-2]

            city_of_computer = self.find_word(symbol)
            if city_of_computer is None:
                print(f'Игра закончилась, Computer проиграл - закончились названия городов на букву {symbol}')
                break

            print("Computer:", city_of_computer)
            self.set_of_used_cities.add(city_of_user)
            self.last_symbol = city_of_computer[-1]
            if self.last_symbol == 'ь':
                self.last_symbol = city_of_computer[-2]


game = Game()
game.start_game()"
   ]
  },
  {
   "cell_type": "markdown",
   "id": "9ad1de21-fead-45ef-90b0-383e40325533",
   "metadata": {},
   "source": [
    "#### Задача 3.\n",
    "\n",
    "Представим себе, что мы планируем написать игру \"Тамагочи\". Напишите класс Cat для этой игры. \n",
    "\n",
    "Imagine that we're planning to write a game Tamagochi. Define a Cat class for this game."
   ]
  },
  {
   "cell_type": "code",
   "execution_count": null,
   "id": "4d9b4005-c9a1-4fee-964e-8139533e74de",
   "metadata": {},
   "outputs": [],
   "source": [
    "from time import sleep\n",
    "\n",
    "class Cat:
    def __init__(self, name, age=0, health=100, stamina=10, lvl_relationship=0):
        self.name = name
        self.age = age
        self.health = health
        self.stamina = stamina
        self.lvl_relationship = lvl_relationship

    def set_name(self, name):
        self.name = name

    def __str__(self):
        rep = "Объект класса Cat\n"
        rep += "имя: " + self.name + "\n"
        rep += "возраст: " + str(self.age) + "\n"
        rep += "здоровье: " + str(self.health) + "\n"
        rep += "выносливость: " + str(self.stamina) + "\n"
        rep += "уровень взаимоотношений с питомцем: " + str(self.lvl_relationship) + "\n"
        return rep

    def __repr__(self):
        pass

    def __pass_time(self):
        self.stamina -= 1
        if self.stamina <= 0:
            self.sleep()

    def speak(self):
        print("Привет, я", self.name, "\n")
        self.__pass_time()

    def sleep(self):
        print(f"{self.name} устал. Ему нужно поспать")
        time.sleep(5)
        print(f"{self.name} выспался, он снова готов играть")
        self.stamina = 10

    def feed(self):
        while True:
            try:
                food = int(input("Сколько корма вы хотите дать питомцу (1-5): "))
            except ValueError:
                print("Вы ввели неверное значение")
                continue
            if 0 < food <= 5:
                print("Здоровье питомца улучшилось")
                self.health += food
                if self.health > 100:
                    self.health = 100
                self.__pass_time()
            else:
                print("Вы ввели неверное значение")

    def play(self):
        while True:
            try:
                fun = int(input("Сколько времени вы потратите на игру с питомцем (1-5): "))
            except ValueError:
                print("Вы ввели неверное значение")
                continue
            if 0 < fun <= 5:
                print("Ваши отношения с питомцем улучшились")
                self.lvl_relationship += 1
                self.__pass_time()
            else:
                print("Вы ввели неверное значение")

    def _grow(self):
        self.age += 1
        if self.age > 18:
            print("Тамагочи стал слишком старым и умер...")


def main():
    choice = None

    pet_name = input("Дайте имя вашему питомцу: ")
    my_cat = Cat(pet_name)

    while choice != "0":
        print("""
                Тамагочи
                111 - Поговорить с питомцем
                222 - Покормить питомца
                333 - Поиграть с питомцем
                555 - Переименовать питомца
                0 - Выйти
                """)
        choice = input("Ваш выбор:")
        print()

        if choice == "0":
            print("До свидания!")

        elif choice == "111":
            my_cat.speak()

        elif choice == "222":
            my_cat.feed()

        elif choice == "333":
            my_cat.play()

        elif choice == "555":
            pet_name = input("Дайте новое имя вашему питомцу: ")
            my_cat.set_name(pet_name)


main()
input("Press the enter key to exit.")"
   ]
  }
 ],
 "metadata": {
  "kernelspec": {
   "display_name": "Python 3 (ipykernel)",
   "language": "python",
   "name": "python3"
  },
  "language_info": {
   "codemirror_mode": {
    "name": "ipython",
    "version": 3
   },
   "file_extension": ".py",
   "mimetype": "text/x-python",
   "name": "python",
   "nbconvert_exporter": "python",
   "pygments_lexer": "ipython3",
   "version": "3.9.12"
  }
 },
 "nbformat": 4,
 "nbformat_minor": 5
}
