{
 "cells": [
  {
   "cell_type": "markdown",
   "id": "6005a970-418e-4e88-aabf-e5f19a59e9e3",
   "metadata": {},
   "source": [
    "*A note for Razan*: please title your scripts with the numbers of the tasks, it's sometimes a bit difficult to understand what task you're doing. :) You may create text cells in Colab and write your notes there, or use Python comments (#). Writing comments to your code is very useful, as a matter of fact. You can also rename your Colab notebook by clicking on its name."
   ]
  },
  {
   "cell_type": "markdown",
   "id": "6656a6ae-26b4-46cd-886c-bee4f0f64a6d",
   "metadata": {},
   "source": [
    "#### Задача 1. \n",
    "\n",
    "Напишите программу, которая будет проверять тексты на попытки обмануть антиплагиат с помощью подмены некоторых символов на такие же, но латинские. Программа должна открывать текст в формате .txt, разделять его на токены любым способом и проверять каждый токен. Если токен содержит только латинские или кириллические символы, то с ним все хорошо, а если в нем есть 1-2 латинских символа и все остальные - кириллические, то программа должна печатать этот токен и номер его строки с указанием латинских букв. Строки можно нумеровать с помощью счетчика, когда читаете файл. Лучше всего считывать файл построчно, очевидно. \n",
    "\n",
    "Write a program which would check texts for attempts to deceive anti-plagiarism systems with the help of the change of some cyrillic symbols to similar-looking latin ones (lazy students used to do this: you print English 'c' instead of Russian 'c' and the text becomes 'unique'). This script should open a text file in .txt format (you may create one yourself for testing purposes), divide it in words anyhow and check every word. If the word contains only cyrillic or only latin letters, it's okay, but if the word contains 1-2 latin letters while the other letters are cyrillic, the script should type this word and the number of the line it is in. You may count the lines with the help of a variable by incrementing it with each line. Of course it is better to read the file line by line (`for line in file` structure). "
   ]
  },
  {
   "cell_type": "code",
   "execution_count": null,
   "id": "155811d1-850f-4570-9ab7-dc75ff5a15d2",
   "metadata": {},
   "outputs": [],
   "source": [
    "# your code here"
   ]
  },
  {
   "cell_type": "markdown",
   "id": "0b7a8cac-1ac4-427a-a1ca-36c3e08f8a10",
   "metadata": {},
   "source": [
    "#### Задача 2 (3 балла).\n",
    "\n",
    "Напишите программу для игры в города. При загрузке программа должна подгружать файл с названиями городов (вам придется его составить, можно поискать готовые списки). Сама игра происходит следующим образом: начинает игрок-человек и вводит любое название города. Программа проверяет, на какую букву заканчивается это название, и случайным образом выбирает подходящий город на эту букву в своем списке (для случайного выбора можно использовать библиотеку random и функцию choice). Если город заканчивается на 'ь', берем предпоследнюю букву (или можно играть по-английски). Когда человек вводит следующий ответ, программа должна проверить, начинается ли введенный город на правильную букву, и если нет, то потребовать ввести заново. Чтобы остановить игру, человек должен просто нажать Enter. Не забудьте создать множество для уже введенных городов, ведь повторяться нельзя! (Список городов у программы тоже на самом деле может быть множеством или даже словарем, чтобы удобнее было по буквам отсеивать). \n",
    "\n",
    "+1 дополнительный балл, если напишете в классах. \n",
    "\n",
    "Write a game \"Cities\": this game supposes that two players (in our case, that would be a human and a computer) name cities in turns, and each city should begin with the last letter of the previous one. For example:\n",
    "\n",
    "    Human: Москва\n",
    "    Computer: Астана\n",
    "    Human: Архангельск\n",
    "    Computer: Кабул\n",
    "    Human: Лондон\n",
    "    ...\n",
    "    \n",
    "You will have to create a file with the list of the cities for the computer. The city names you use can be in Russian or in any other language, you may search for such lists in the Internet. The program should read this file on start and store the cities in a set or in a dictionary. Then the game starts: the human player enters the first city name, the computer must choose another city name which starts with the last letter of the previous city. If you use Russian names, mind that there are no cities starting with 'ь' or 'ъ', so you use the second last letter in this case ('Ярославль' - the last letter would be 'л'). When the human enters the city in response, the computer should check if the first letter of this city is correct, and ask the player to enter another city if it is not. The city names cannot be repeated, so you should create a set of already used cities for checking. In order to stop the game, the player should just press Enter. For choosing a city name randomly, you can use `random` library and its function `choice`. \n",
    "\n",
    "You can get 3 points for this task and 1 additional point if you use Python classes in it. "
   ]
  },
  {
   "cell_type": "code",
   "execution_count": null,
   "id": "8905b146-0310-4f19-badc-8c3b7a14e64a",
   "metadata": {},
   "outputs": [],
   "source": [
    "from random import choice\n",
    "\n",
    "# your code here"
   ]
  },
  {
   "cell_type": "markdown",
   "id": "9ad1de21-fead-45ef-90b0-383e40325533",
   "metadata": {},
   "source": [
    "#### Задача 3.\n",
    "\n",
    "Представим себе, что мы планируем написать игру \"Тамагочи\". Напишите класс Cat для этой игры. \n",
    "\n",
    "Imagine that we're planning to write a game Tamagochi. Define a Cat class for this game."
   ]
  },
  {
   "cell_type": "code",
   "execution_count": null,
   "id": "4d9b4005-c9a1-4fee-964e-8139533e74de",
   "metadata": {},
   "outputs": [],
   "source": [
    "from time import sleep\n",
    "\n",
    "class Cat:\n",
    "    def __init__(self, ...):\n",
    "        # the cat would have a name, age, health, stamina and the level of relationship with the player\n",
    "        \n",
    "    def __str__(self):\n",
    "        # your code here\n",
    "    \n",
    "    def __repr__(self):\n",
    "        # your code here\n",
    "        \n",
    "    def speak(self):\n",
    "        # the cat says something (print it)\n",
    "    \n",
    "    def sleep(self):\n",
    "        ''' the cat sleeps and restores its stamina. \n",
    "        You can use module time and its function sleep(seconds) to imitate this. Function sleep makes PC do nothing and wait'''\n",
    "        \n",
    "    def feed(self):\n",
    "        # the player feeds the cat so it restores its health\n",
    "        \n",
    "    def play(self):\n",
    "        # the player plays with the cat and their relationship level grows\n",
    "        \n",
    "    def _grow(self):\n",
    "        # the cat gets older by 1 year. If it is older than 18 years, it dies :( Just print a message about it"
   ]
  }
 ],
 "metadata": {
  "kernelspec": {
   "display_name": "Python 3 (ipykernel)",
   "language": "python",
   "name": "python3"
  },
  "language_info": {
   "codemirror_mode": {
    "name": "ipython",
    "version": 3
   },
   "file_extension": ".py",
   "mimetype": "text/x-python",
   "name": "python",
   "nbconvert_exporter": "python",
   "pygments_lexer": "ipython3",
   "version": "3.9.12"
  }
 },
 "nbformat": 4,
 "nbformat_minor": 5
}
