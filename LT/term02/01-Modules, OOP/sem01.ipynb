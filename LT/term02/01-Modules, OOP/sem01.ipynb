{
 "cells": [
  {
   "cell_type": "markdown",
   "id": "4784db35-f7f7-4248-92f1-07b396488514",
   "metadata": {},
   "source": [
    "*For Razan*:\n",
    "\n",
    "You may want to install Python locally on your laptop if you haven't done it yet. Download the installer from [the official site](https://www.python.org/) and run it. Don't forget to tick the option \"Add to PATH\" when installing, this is *important*. Afterwards I suggest that you install [Visual Studio Code](https://code.visualstudio.com/download). This is a script editor which is useful when you write .py scripts. You will have to install a Python extension in order to be able to use it (when you open some project in it, there is an icon with four squares on the left side, press it and search for Python there). Visual Studio Code can also run .ipynb files if you install jupyter notebook from its extensions (it will also want to install a library on first run). \n",
    "\n",
    "I also advise to learn using the terminal (command prompt) in your operating system: for Windows it is located in Start menu, you can simply type cmd. There is a manual for Windows [here](https://www.makeuseof.com/tag/a-beginners-guide-to-the-windows-command-line/). For MacOS, it is called the terminal and its commands are pretty similar to Windows (*cd* command works as well). We need this to install Python libraries locally. \n",
    "\n",
    "Oh, and you may want to install [git](https://git-scm.com/downloads). You can download our Github repository with its help, just copy the address (`https://github.com/rsuh-python/mag2021.git`) and paste it in your cmd: `git clone https://github.com/rsuh-python/mag2021.git`. It will be downloaded to the path where your cmd is opened (*cd* command serves to change the location on your PC). Afterwards you only need to open your cmd in the folder with the repository and run `git pull` for updates. "
   ]
  },
  {
   "cell_type": "markdown",
   "id": "fec93097-ea72-4f87-ae62-c903f4048542",
   "metadata": {},
   "source": [
    "### Модули (повторение)"
   ]
  },
  {
   "cell_type": "markdown",
   "id": "8d243391-beb8-48a6-a5e7-36b54d71e13a",
   "metadata": {},
   "source": [
    "#### Задача 1. \n",
    "\n",
    "Выполните эту ячейку. :)\n",
    "\n",
    "Run this cell"
   ]
  },
  {
   "cell_type": "code",
   "execution_count": null,
   "id": "9fe39d6c-ea0d-4f67-baa4-b3c38b0c7314",
   "metadata": {},
   "outputs": [],
   "source": [
    "import antigravity"
   ]
  },
  {
   "cell_type": "markdown",
   "id": "fbf927f1-16b1-42ae-9e8a-2a5b4dc0b758",
   "metadata": {},
   "source": [
    "#### Задача 2. \n",
    "\n",
    "Импортируйте библиотеку re (это стандартная библиотека питона). Посмотрите, какие у нее есть функции и переменные. Откройте (с помощью питона) документацию для функции findall.\n",
    "\n",
    "Import re library (it's a standard library of Python). Look up its functions and variables. With the help of Python open the documentation for the 'findall' function."
   ]
  },
  {
   "cell_type": "code",
   "execution_count": null,
   "id": "1675ba10-b282-46b7-b409-639e1f39fd1e",
   "metadata": {},
   "outputs": [],
   "source": [
    "# your code here"
   ]
  },
  {
   "cell_type": "markdown",
   "id": "ceb9c2ea-0134-4801-a6ea-5fa20ae0499d",
   "metadata": {},
   "source": [
    "#### Задача 3. \n",
    "\n",
    "В **отдельном py-скрипте** напишите функцию capitalize_list, которая будет принимать список строк и все строки в нем делать с заглавной буквы, например:\n",
    "\n",
    "    mylst = ['this', 'is', 'my', 'string']\n",
    "    capitalize_list(mylst)\n",
    "    \n",
    "    >>>['This', 'Is', 'My', 'String']\n",
    "    \n",
    "Сохраните скрипт в ту же папку, где находится ваша тетрадка (если вы работаете в колабе, вы можете загрузить его в проводник колаба), импортируйте и запустите его из тетрадки. \n",
    "\n",
    "Create a separate .py script and define a function capitalize_list which would take a list of strings and capitalize all the strings as in example above. Save the script to the folder with your .ipynb notebook (if you work in Colab, you may upload it in Colab explorer on the left side of the window), import your script and run your function."
   ]
  },
  {
   "cell_type": "code",
   "execution_count": null,
   "id": "1e3c3dac-d153-41c0-8c0b-43aa1ce5cef5",
   "metadata": {},
   "outputs": [],
   "source": [
    "# your code here"
   ]
  },
  {
   "cell_type": "markdown",
   "id": "8f584d45-2739-4634-a50d-557e322122aa",
   "metadata": {
    "tags": []
   },
   "source": [
    "#### Задача 4. \n",
    "\n",
    "Установите библиотеку [termcolor](https://pypi.org/project/termcolor/) или [colorama](https://pypi.org/project/colorama/). Попробуйте по документации разобраться, как она работает, и напишите скрипт, который будет открывать файл sentence.conllu, считывать из него разбор предложения и выводить следующим образом:\n",
    "\n",
    "- В файле каждый токен в предложении записан отдельной строчкой, разделенной знаками табуляции \\t. Каждая строчка устроена одинаково, там есть:\n",
    "    1. порядковый номер токена\n",
    "    2. словоформа\n",
    "    3. лемма\n",
    "    4. часть речи UPOS (про этот формат мы с вами еще поговорим)\n",
    "    5. часть речи XPOS (в нашем файле - просто прочерк)\n",
    "    6. грамматические характеристики (фичи)\n",
    "    7. вершина зависимости (циферка)\n",
    "    8. вид синтаксической связи\n",
    "    9. глубинная позиция\n",
    "    10. семантический класс\n",
    "- нужно вывести в таком же виде, как в файле, но раскрасить цветами: 3, 4, 7-10. Цвета выбирайте какие понравятся. \n",
    "\n",
    "Возможно, чтобы было видно цвета, придется перезапустить среду разработки. \n",
    "\n",
    "Install [termcolor](https://pypi.org/project/termcolor/) or [colorama](https://pypi.org/project/colorama/) library. Try to understand how to use it with the help of its documentation, and write a script that will read the file sentence.conllu (it's a simple text file) in this folder and print its contents as follows:\n",
    "\n",
    "- Every token (a word or a punctuation mark) in the sentence is represented by a separate line, its contents is separated by tab spaces (\\t). Each line contains the following:\n",
    "    1. the index of the token\n",
    "    2. the token's form\n",
    "    3. lemma\n",
    "    4. UPOS tag (universal part of speech tag, e.g. VERB)\n",
    "    5. XPOS tag (non-universal PoS-tag, but in our case there are always '\\_' marks in its place\n",
    "    6. grammatical features\n",
    "    7. dependency head (it's a number)\n",
    "    8. dependency category\n",
    "    9. semantic slot\n",
    "    10. semantic class\n",
    "- You should print it as it is in the file, but color its contents: lemma, UPOS, dependency head, dependency category, semantic slot and semantic class should all have different colors. \n",
    "\n",
    "You may need to restart your IDE in order to see the colors (if you work in VSC). "
   ]
  },
  {
   "cell_type": "code",
   "execution_count": null,
   "id": "190825c9-bf12-4b2b-b926-8252037268f3",
   "metadata": {},
   "outputs": [],
   "source": [
    "# your code here"
   ]
  },
  {
   "cell_type": "markdown",
   "id": "90e9eab0-ff2f-46ee-aa6d-a1974467f00d",
   "metadata": {},
   "source": [
    "### Классы"
   ]
  },
  {
   "cell_type": "markdown",
   "id": "1b106404-e1a2-4073-8d02-7d9e6544887a",
   "metadata": {},
   "source": [
    "#### Задача 5. \n",
    "\n",
    "Напишите класс Token, который будет содержать в качестве атрибутов все 10 значений из формата в задаче 4. \n",
    "\n",
    "Define a Token class which should contain all ten parameters from the format in task 4 (id, form, lemma etc). "
   ]
  },
  {
   "cell_type": "code",
   "execution_count": null,
   "id": "4cfe14df-c303-4860-901e-67140af2ee5d",
   "metadata": {},
   "outputs": [],
   "source": [
    "class Token:\n",
    "    def __init__(self, ...):\n",
    "        # your code here\n",
    "    \n",
    "    def __str__(self):\n",
    "        # your code here\n",
    "        \n",
    "    def __repr__(self):\n",
    "        # your code here\n",
    "    \n",
    "    def prettyprint(self):\n",
    "        # use termcolor to print your token with colored attributes"
   ]
  },
  {
   "cell_type": "markdown",
   "id": "872115b5-662c-4beb-8f4c-78351f2e9d83",
   "metadata": {},
   "source": [
    "#### Задача 6. \n",
    "\n",
    "Напишите класс Sentence, который будет содержать список объектов класса Token. \n",
    "\n",
    "Define a Sentence class which should contain a list of Token objects (from task 5)"
   ]
  },
  {
   "cell_type": "code",
   "execution_count": null,
   "id": "2f403f40-b901-4d8d-b6ea-38899e0c74e9",
   "metadata": {},
   "outputs": [],
   "source": [
    "class Sentence:\n",
    "    def __init__(self, ...):\n",
    "        # your code here\n",
    "    \n",
    "    def __str__(self):\n",
    "        # your code here\n",
    "        \n",
    "    def __repr__(self):\n",
    "        # your code here\n",
    "        \n",
    "    def printsentence(self):\n",
    "        # use prettyprint method from Token class to print the whole sentence"
   ]
  },
  {
   "cell_type": "markdown",
   "id": "2a3e8c86-50ad-483f-a5b6-6e3df68f0549",
   "metadata": {},
   "source": [
    "#### Задача 7. \n",
    "\n",
    "Напишите класс Reader, который будет считывать содержимое .conllu файла с форматом разметки, как в нашем файле, и хранить список объектов Sentence. Предложения в файле разметки разделяются пустой строкой.\n",
    "\n",
    "Define a Reader class which should read the contents of a .conllu file with markup format as in our file sentence.conllu and store a list of Sentence objects from it. The sentences in the file are separated by an empty line. "
   ]
  },
  {
   "cell_type": "code",
   "execution_count": null,
   "id": "3c9eff8b-2bdf-4b8f-8d8d-f4a7e74a0fd7",
   "metadata": {},
   "outputs": [],
   "source": [
    "class Reader:\n",
    "    def __init__(self):\n",
    "        # your code here\n",
    "    \n",
    "    def __str__(self):\n",
    "        # your code here\n",
    "        \n",
    "    def __repr__(self):\n",
    "        # your code here\n",
    "        \n",
    "    def read(self, path):\n",
    "        # your code here\n",
    "        \n",
    "    def head(self, n):\n",
    "        # this method should show the first n Sentences from the file. Use printsentence method within."
   ]
  }
 ],
 "metadata": {
  "kernelspec": {
   "display_name": "Python 3 (ipykernel)",
   "language": "python",
   "name": "python3"
  },
  "language_info": {
   "codemirror_mode": {
    "name": "ipython",
    "version": 3
   },
   "file_extension": ".py",
   "mimetype": "text/x-python",
   "name": "python",
   "nbconvert_exporter": "python",
   "pygments_lexer": "ipython3",
   "version": "3.9.12"
  }
 },
 "nbformat": 4,
 "nbformat_minor": 5
}
