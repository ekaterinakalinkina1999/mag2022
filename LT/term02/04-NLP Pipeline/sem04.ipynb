{
 "cells": [
  {
   "cell_type": "markdown",
   "id": "4570e5e1-f5f6-46fd-a36d-6559c271b08d",
   "metadata": {},
   "source": [
    "#### Задача 1. \n",
    "\n",
    "Возьмите любой достаточно сложный русскоязычный текст (лучше не художественный, а, например, из соцсетей). Разделите его по предложениям и токенизируйте известными вам инструментами. Сравните качество. \n",
    "\n",
    "Choose any Russian text (preferably something with smilies). Split the text into sentences and then into tokens using every known tokenizer and sentenizer. Compare the quality of their work. "
   ]
  },
  {
   "cell_type": "code",
   "execution_count": null,
   "id": "1524c2bd-5fe5-4e30-be0e-dd57f36b9616",
   "metadata": {},
   "outputs": [],
   "source": [
    "from ru_sent_tokenize import ru_sent_tokenize
from nltk.tokenize import word_tokenize
import spacy

text = """Все люди разные, и каждый сам выбирает,как проявлять эмоции. Для некоторых отстраненная помощь - это большой шаг на пути к поддержке собеседника. 
Другие готовы пожертвовать своим сном/ жизнью/ комфортом ради помощи близкому :(. Все люди разные, и нельзя обсуждать кого-то за неправильно оказанную помощь. 
Цените то, что имеете и старайтесь как можно больше доброго и хорошего отдавать в мир :), тогда и к вам жизнь будет добра 🤍"""

# NLTK:
all_sentences = ru_sent_tokenize(text)
for sentence in all_sentences:
    # print(word_tokenize(sentence))

# SpaCy - в отличие от NLTK смайлы ":(" и ":)" не распадаются на два, а выводятся целыми токенами:
nlp = spacy.load("ru_core_news_sm")
doc = nlp(text)
for token in doc:
         # print(token)"
   ]
  },
  {
   "cell_type": "markdown",
   "id": "8c2a5dea-5332-4aeb-a022-688e7ce15e7e",
   "metadata": {},
   "source": [
    "#### Задача 2. \n",
    "\n",
    "Возьмите любой большой (можно художественный) текст на русском языке, лучше целое произведение. Посчитайте лексическое разнообразие по леммам по формуле *количество уникальных лемм / общее количество всех слов \\* 100*. \n",
    "\n",
    "Take any large Russian text (a novel or something like that) in a .txt - there are plenty [here](https://royallib.com/genre/proza/). Calculate lexical diversity for the text using the formula *the quantity of unique lemmas / total words count \\* 100*. "
   ]
  },
  {
   "cell_type": "code",
   "execution_count": null,
   "id": "b32f9b73-2975-4a74-b32d-6dc8f427aebf",
   "metadata": {},
   "outputs": [],
   "source": [
    "import spacy

punctuations = ".?!,:;-–—()[]{}<>“”‘/…*&#~\@^|"
txt_no_punc = ""

with open("starik-i-more.txt","r", encoding="utf-8") as file:
        text = file.read().lower().replace('\n', ' ')
        for char in text:
                if char not in punctuations:
                        txt_no_punc += char

        nlp = spacy.load("ru_core_news_sm")
        doc = nlp(txt_no_punc)
        lemmas = []
        for token in doc:
                lemmas.append(token.lemma_)

        unique_lemmas = list()
        for i in lemmas:
                if i not in unique_lemmas:
                        unique_lemmas.append(i)

        number_of_unique_lemmas = len(unique_lemmas)
        number_of_words = len(txt_no_punc.split())

        lexical_diversity = number_of_unique_lemmas / number_of_words * 100

        print(lexical_diversity)
file.close()"
   ]
  },
  {
   "cell_type": "markdown",
   "id": "d070b5c7-c97f-4c6c-a12d-d322565d791f",
   "metadata": {},
   "source": [
    "#### Задача 3. \n",
    "\n",
    "Возьмите текст на любом языке, модель для которого есть в UD. Создайте с помощью их сайта файл .conllu с разбором. С помощью питона посчитайте частотность лемм в этом тексте (т.е. текст вида \"Saat beşi beş geçe\" должен вернуть словарь-счетчик 'saat': 1, 'beş': 2, 'geçe': 1). \n",
    "\n",
    "Choose a large text in any language for which there is a model of UDPipe (there is Arabic). Create a .conllu file with the parsing of this text. With the help of Python count lemma frequency in this text (e.g. a text 'انا اقرأ كتابا. الكتاب شيق' must result in a dictionary-counter \n",
    "\n",
    "    انا: 1, قَرَأ: 1, كِتَاب: 2  شيق: 1"
   ]
  },
  {
   "cell_type": "code",
   "execution_count": null,
   "id": "98be2825-4cb0-444e-9634-fd03413adcdd",
   "metadata": {},
   "outputs": [],
   "source": [
    "from conllu import parse
import collections

with open("processed.conllu", mode="r", encoding="utf-8") as file:
    lines = file.read()
    sentences = parse(lines)

    punctuations = [".", ",", "?", "!", ":", ";", "_"]
    lemmas = []
    for sentence in sentences:
        for token in sentence:
            if str(token) not in punctuations:
                lemmas.append(token["lemma"])
            else:
                break

    frequency = collections.Counter(lemmas)
    dct_frequency = dict(frequency)
    print(dct_frequency)

file.close()
"
   ]
  },
  {
   "cell_type": "markdown",
   "id": "503d77a9-019c-4541-b7a5-ff9247fec8e3",
   "metadata": {},
   "source": [
    "#### Задача 4. \n",
    "\n",
    "Постройте графическое дерево для любого предложения в вашем тексте из задачи 3. Оцените правильность разбора. \n",
    "\n",
    "[Build](https://arborator.ilpga.fr/q.cgi) a graphic dependency tree for any sentence of your text in task 3. Assess the quality of parsing."
 ]
  },
  {
   "cell_type": "code",
   "execution_count": null,
   "id": "45434802-656e-4cc0-b0d3-f32dcde9320c",
   "metadata": {},
   "outputs": [],
   "source": [
    "from conllu import parse_tree
import spacy
from spacy import displacy


# Постройка графического дерева с помощью conllu:
with open("processed.conllu", mode="r", encoding="utf-8") as file:
    lines = file.read()
    sentences = parse_tree(lines)
    root = sentences[0]
    print(root.print_tree())

file.close()

# Постройка графического дерева с помощью spacy:
with open("processed.conllu", mode="r", encoding="utf-8") as file:
    lines = file.read()
    nlp = spacy.load("fr_core_news_sm")
    doc = nlp(lines)
    tree = displacy.render(doc, style="dep")
    print(tree)

file.close()
"
   ]
  }
 ],
 "metadata": {
  "kernelspec": {
   "display_name": "Python 3 (ipykernel)",
   "language": "python",
   "name": "python3"
  },
  "language_info": {
   "codemirror_mode": {
    "name": "ipython",
    "version": 3
   },
   "file_extension": ".py",
   "mimetype": "text/x-python",
   "name": "python",
   "nbconvert_exporter": "python",
   "pygments_lexer": "ipython3",
   "version": "3.9.12"
  }
 },
 "nbformat": 4,
 "nbformat_minor": 5
}
