{
 "cells": [
  {
   "cell_type": "markdown",
   "id": "6641c010-48de-4039-ba50-716afb34e33e",
   "metadata": {},
   "source": [
    "#### Задача 1. \n",
    "\n",
    "Посчитайте, как часто в выбранном вами тексте прилагательное стоит сразу перед существительным, а как часто - наоборот. Достаточно вывести количество вхождений (столько-то раз встретилось прил + сущ, столько-то раз - сущ + прил). Подумайте, насколько можно доверять этим цифрам."
   ]
  },
  {
   "cell_type": "code",
   "execution_count": null,
   "id": "630c356f-723d-4bbc-8b4f-f3d247754c6b",
   "metadata": {},
   "outputs": [],
   "source": [
    "# your code here"
   ]
  },
  {
   "cell_type": "markdown",
   "id": "7e86c048-770f-4f1b-b803-fb6e6d717a9e",
   "metadata": {},
   "source": [
    "#### Задача 2 (3 балла). \n",
    "\n",
    "Некоторые предлоги в русском языке могут управлять разными падежами (например, \"я еду в Лондон\" vs \"я живу в Лондоне\"). Давайте проанализируем эти предлоги и их падежи. Необходимо:\n",
    "\n",
    "- составить список таких предлогов (РГ-80 вам в помощь)\n",
    "- взять достаточно большой текст (можно большое художественное произведение)\n",
    "- сделать морфоразбор этого текста (лучше не pymorphy)\n",
    "- Посчитать, как часто и какие падежи встречаются у слова, идущего после предлога.\n",
    "\n",
    "Примечания: во-первых, имейте в виду, что иногда после предлога могут идти самые неожиданные вещи: \"я что, должен ехать на, черт побери, северный полюс?\". Во-вторых, неплохо бы учитывать отсутствие пунктуации (конечно, в норме, как нам кажется, предлог обязательно требует зависимое, но! \"да иди ты на!\") Эти штуки можно отсеять, если просто учитывать только заранее определенные падежи, а не считать все, какие встретились (так и None можно огрести). \n",
    "\n",
    "Если будете использовать RNNMoprph, возможно, понадобится регулярное выражение и немного терпения. \n",
    "\n",
    "Some prepositions in Russian may govern several cases, e.g. *in* can govern Accusative (*Я еду в Лондон*) or Locative (*Я живу в Лондоне*). Let's analyse these prepositions. You should do:\n",
    "\n",
    "- create a list of such prepositions (you may use [this](http://rusgram.narod.ru/1749-1772.html) - ask questions if you can't translate something)\n",
    "- take a large text (a big novel should do)\n",
    "- parse this text morphologically\n",
    "- count the cases of the words which follow our prepositions\n",
    "\n",
    "Marks: in fact any case may occur after a preposition due to free word order of Russian; a preposition may even occur at the end of the sentence (rarely). To take this into account you may count only pre-defined cases and not every case which occurs after the preposition. If you decide to use RNNMorph, you'll have to write a small regular expression in order to get the case from its tag (it's simple, actually). And beware that RNNMorph is *slow*. "
   ]
  },
  {
   "cell_type": "code",
   "execution_count": null,
   "id": "45434802-656e-4cc0-b0d3-f32dcde9320c",
   "metadata": {},
   "outputs": [],
   "source": [
    "# your code here"
   ]
  }
 ],
 "metadata": {
  "kernelspec": {
   "display_name": "Python 3 (ipykernel)",
   "language": "python",
   "name": "python3"
  },
  "language_info": {
   "codemirror_mode": {
    "name": "ipython",
    "version": 3
   },
   "file_extension": ".py",
   "mimetype": "text/x-python",
   "name": "python",
   "nbconvert_exporter": "python",
   "pygments_lexer": "ipython3",
   "version": "3.9.12"
  }
 },
 "nbformat": 4,
 "nbformat_minor": 5
}
