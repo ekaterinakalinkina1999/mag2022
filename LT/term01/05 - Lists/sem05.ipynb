{
 "cells": [
  {
   "cell_type": "markdown",
   "id": "defcf306-531c-4eb7-9ee1-90cb42bc3adf",
   "metadata": {},
   "source": [
    "#### Задача 1. \n",
    "\n",
    "Пользователь вводит набор действительных чисел (с плавающей точкой) через пробелы. Считайте этот набор в список, посчитайте среднее арифметическое в списке (сумма всех элементов / их количество)."
   ]
  },
  {
   "cell_type": "code",
   "execution_count": null,
   "id": "bff3688e-0698-4efc-9b7f-3760decd7567",
   "metadata": {},
   "outputs": [],
   "source": [
    " # inp_lst = list(map(float, input("Введите  набор действительных чисел (с плавающей точкой) через пробелы: ").split()))
average = sum(inp_lst) / len(inp_lst)
print(average)"
   ]
  },
  {
   "cell_type": "markdown",
   "id": "26f449f4-44ef-4938-b7cf-134f215177e1",
   "metadata": {},
   "source": [
    "#### Задача 2. \n",
    "\n",
    "Создайте список из чисел от 1 до 10 с помощью range(). Программа должна вернуть на основе него список из четных чисел (2, 4...), возведенных в квадрат."
   ]
  },
  {
   "cell_type": "code",
   "execution_count": null,
   "id": "16ead8da-9d8e-43c8-942c-dd176e2d2e8d",
   "metadata": {},
   "outputs": [],
   "source": [
    " # for j in range (10):
   if not j%2:
      print (j**2)"
   ]
  },
  {
   "cell_type": "markdown",
   "id": "0cc388dc-fafa-4f3a-bc88-ee94dffa6f11",
   "metadata": {},
   "source": [
    "#### Задача 3. \n",
    "\n",
    "Пользователь вводит в цикле какие-то слова, пока не введет \"стоп\" в любом регистре. Программа должна вывести: 1. Сколько слов было введено 2. Запросить номер: пользователь вводит номер, и программа выводит слово, которое было введено под этим номером. Слова нужно хранить в списке."
   ]
  },
  {
   "cell_type": "code",
   "execution_count": null,
   "id": "442bfd59-3028-44c7-bc0c-9f85344c34b7",
   "metadata": {},
   "outputs": [],
   "source": [
    " # your code here"
   ]
  },
  {
   "cell_type": "markdown",
   "id": "a04a7b96-5d3b-4801-82c2-a81d49b32fbc",
   "metadata": {},
   "source": [
    "#### Задача 4. \n",
    "\n",
    "а) Есть список чисел (можно создать любым методом). Нужно на его основе с помощью генератора собрать список квадратов этих чисел, упорядоченных задом наперед (н-р, 49 36 25 16...)\n",
    "\n",
    "б) А если то же самое сделать внутри самого списка, не создавая новый? (Циклами и методами)"
   ]
  },
  {
   "cell_type": "code",
   "execution_count": null,
   "id": "a38f0767-9512-4959-9558-11414790e042",
   "metadata": {},
   "outputs": [],
   "source": [
    " # start_list = []
square_list = []

for i in range(20):
   square_list.append(i**2)
square_list.sort(reverse=True)
print(square_list)"
   ]
  },
  {
   "cell_type": "markdown",
   "id": "db5b5b08-08b9-460f-829e-2c0372f8811b",
   "metadata": {},
   "source": [
    "#### Задача 5. \n",
    "\n",
    "Вводится список чисел через пробел. Поменяйте в этом списке самое маленькое и самое большое число местами, н-р, список 4 2 6 3 7 5 должен превратиться в 4 7 6 3 2 5"
   ]
  },
  {
   "cell_type": "code",
   "execution_count": null,
   "id": "839916d8-8ca3-4dac-8d78-241e2921288a",
   "metadata": {},
   "outputs": [],
   "source": [
    " # A = [int(n) for n in input().split()]
Amax = max(A)
Amin = min(A)

Amax = A.index(Amax)
Amin = A.index(Amin)

A[Amax], A[Amin] = A[Amin], A[Amax]

for n in A:
    print(n, end = " ")"
   ]
  },
  {
   "cell_type": "markdown",
   "id": "ee86e90e-3c8c-4f50-98bf-2ceba79ce8e9",
   "metadata": {},
   "source": [
    "#### Задача 6. \n",
    "\n",
    "Дан список. Выведите те его элементы, которые встречаются в списке только один раз. Элементы нужно выводить в том порядке, в котором они встречаются в списке."
   ]
  },
  {
   "cell_type": "code",
   "execution_count": null,
   "id": "d9c4ad3a-8f2a-45e9-96e7-ad3a6ab06021",
   "metadata": {},
   "outputs": [],
   "source": [
    " # a = [int(i) for s in input().split()]
for i in range(len(a)):
    s = a.count(a[i])
    if s == 1:
        print(a[i])"
   ]
  },
  {
   "cell_type": "markdown",
   "id": "8043348a-8e07-427d-b530-680b6587a6ed",
   "metadata": {},
   "source": [
    "#### Задача 7. \n",
    "\n",
    "Напишите функцию, которая будет принимать строчку и возвращать список, состоящий из порядковых номеров в юникоде всех букв из строчки. "
   ]
  },
  {
   "cell_type": "code",
   "execution_count": null,
   "id": "ea8b6f3c-315f-403c-80e7-ba1144059e62",
   "metadata": {},
   "outputs": [],
   "source": [
    " # your code here"
   ]
  },
  {
   "cell_type": "markdown",
   "id": "c7b37e2f-5bcb-4603-8b6d-47d5e356020f",
   "metadata": {},
   "source": [
    "#### Задача 8. \n",
    "\n",
    "Дан список, упорядоченный по неубыванию элементов в нем (то есть, например, 1 1 1 2 2 3 3 3). Определите, сколько в нем различных элементов."
   ]
  },
  {
   "cell_type": "code",
   "execution_count": null,
   "id": "f24e6e41-ed0f-490d-a8bc-cb1a6ecbe5fb",
   "metadata": {},
   "outputs": [],
   "source": [
    " # a = input().split()
c = 0
v = []
b = 0
for i in a:
    if i not in v:
        c += 1
        v.append(i)
    else:
        b += 1
print(c)"
   ]
  },
  {
   "cell_type": "markdown",
   "id": "7202719a-70e2-42be-8210-9716a86f4a00",
   "metadata": {},
   "source": [
    "#### Задача 9. \n",
    "\n",
    "Сортировка с ё: дан список слов, которые нужно отсортировать по алфавиту таким образом, чтобы слова с буквой ё вставали в правильные места. Нужно использовать параметр key и написать свою дополнительную функцию, которую в него передавать. "
   ]
  },
  {
   "cell_type": "code",
   "execution_count": null,
   "id": "c66548d8-be55-4233-9e5d-28a1cacfa9f0",
   "metadata": {},
   "outputs": [],
   "source": [
    " # your code here"
   ]
  },
  {
   "cell_type": "markdown",
   "id": "3e22977f-c47e-4d3a-ac0c-c56eb2d162ec",
   "metadata": {},
   "source": [
    "#### Задача 10. \n",
    "\n",
    "Зализняк: отсортируйте список слов в алфавитном порядке, но с конца, как в словаре Зализняка. Например, слова \"арзуз, вася, мама\" выстроятся как \"мама, арбуз, вася\". "
   ]
  },
  {
   "cell_type": "code",
   "execution_count": null,
   "id": "424bdf5f-f353-441b-b1ee-8ef4872824ae",
   "metadata": {},
   "outputs": [],
   "source": [
    " # def reverse_word(word):
    return word[::-1]

words = str(input("Введите слова: "))
res = sorted(words.split(), key=reverse_word)
print(res)"
   ]
  }
 ],
 "metadata": {
  "kernelspec": {
   "display_name": "Python 3 (ipykernel)",
   "language": "python",
   "name": "python3"
  },
  "language_info": {
   "codemirror_mode": {
    "name": "ipython",
    "version": 3
   },
   "file_extension": ".py",
   "mimetype": "text/x-python",
   "name": "python",
   "nbconvert_exporter": "python",
   "pygments_lexer": "ipython3",
   "version": "3.9.12"
  }
 },
 "nbformat": 4,
 "nbformat_minor": 5
}
