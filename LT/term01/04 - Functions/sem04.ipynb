{
 "cells": [
  {
   "cell_type": "markdown",
   "id": "65236dec-9345-448b-8d0f-753b9e25f7df",
   "metadata": {},
   "source": [
    "#### Задача 1. \n",
    "\n",
    "Напишите функцию, которая принимает два целых числа a и b и возвращает результат возведения в степень a \\*\\* b, только оператором \\*\\* пользоваться нельзя, нужно сделать это в цикле!"
   ]
  },
  {
   "cell_type": "code",
   "execution_count": null,
   "id": "4996ad6b-242f-4d59-b2dc-7cb4770a0978",
   "metadata": {},
   "outputs": [],
   "source": [
    "# your code here"
   ]
  },
  {
   "cell_type": "markdown",
   "id": "8c8327cb-d90a-45ca-ad2f-cb3118ce6942",
   "metadata": {},
   "source": [
    "#### Задача 2. \n",
    "\n",
    "Напишите функцию, которая будет принимать слово и проверять, состоит ли оно только из кириллических букв. Функция должна возвращать объект bool (True/False). "
   ]
  },
  {
   "cell_type": "code",
   "execution_count": null,
   "id": "1ff65ccd-0976-40a2-860c-062e7dab6939",
   "metadata": {},
   "outputs": [],
   "source": [
    "# your code here"
   ]
  },
  {
   "cell_type": "markdown",
   "id": "48c8d47e-0c5f-4b16-b6f3-848cec743b47",
   "metadata": {},
   "source": [
    "#### Задача 3. \n",
    "\n",
    "Немного расширим задачу 2: пользователь вводит строчку, а потом выбирает, хочет ли он проверить, что она является палиндромом или что она кириллическая. В зависимости от выбора пользователя должна вызываться одна из двух функций. "
   ]
  },
  {
   "cell_type": "code",
   "execution_count": null,
   "id": "4ab6aa9e-8f2a-4654-8962-729a0aa122d4",
   "metadata": {},
   "outputs": [],
   "source": [
    "# your code here"
   ]
  },
  {
   "cell_type": "markdown",
   "id": "8ac5efd5-d195-42fb-bc06-e78002bc1a64",
   "metadata": {},
   "source": [
    "#### Задача 4. \n",
    "\n",
    "Напишите функцию sign, которая принимает целое число и возвращает True, если оно положительное, и False, если оно отрицательное. На 0 можно возвращать NoneType (подумайте, как это сделать?)"
   ]
  },
  {
   "cell_type": "code",
   "execution_count": null,
   "id": "b73628bc-cdcf-4a8b-bb96-898430d7ab04",
   "metadata": {},
   "outputs": [],
   "source": [
    "# your code here"
   ]
  },
  {
   "cell_type": "markdown",
   "id": "f29a8776-2310-4685-995d-bfceaa96d140",
   "metadata": {},
   "source": [
    "#### Задача 5. \n",
    "\n",
    "Напишите функцию, которая делает то же, что функция в задаче 1, но используйте рекурсию. "
   ]
  },
  {
   "cell_type": "code",
   "execution_count": null,
   "id": "ecbcd600-5316-414f-ae30-c64d15719aeb",
   "metadata": {},
   "outputs": [],
   "source": [
    "# your code here"
   ]
  },
  {
   "cell_type": "markdown",
   "id": "929452c8-79f4-4818-88cd-cfc397c219dd",
   "metadata": {},
   "source": [
    "#### Задача 6. \n",
    "\n",
    "Напишите функцию, которая выводит таблицу умножения. Отформатируйте вывод таким образом, чтобы образовалась сеточка из чисел:\n",
    "\n",
    "      1 2 3 4  5\n",
    "    1 1 2 3 4  5\n",
    "    2 2 4 6 8 10\n",
    "    ...\n"
   ]
  },
  {
   "cell_type": "code",
   "execution_count": null,
   "id": "7f5f0d48-247b-4dab-ba52-c0ba22b62f1d",
   "metadata": {},
   "outputs": [],
   "source": [
    "# your code here"
   ]
  },
  {
   "cell_type": "markdown",
   "id": "3dbf1650-4515-48bb-9e28-6f9b480a6c7e",
   "metadata": {},
   "source": [
    "#### Задача 7. \n",
    "\n",
    "Напишите функцию, которая будет принимать числа a и b, делить их и выводить ответ в формате a + b = c, при этом число c должно быть округлено до двух знаков после запятой. Если знаете варианты, как это можно сделать, напишите варианты. "
   ]
  },
  {
   "cell_type": "code",
   "execution_count": null,
   "id": "99d28cfb-5c49-41a2-8226-a337a5aad6ee",
   "metadata": {},
   "outputs": [],
   "source": [
    "# your code here"
   ]
  },
  {
   "cell_type": "markdown",
   "id": "8280a1a1-872c-430b-9db2-b390501209f1",
   "metadata": {},
   "source": [
    "#### Задача 8. \n",
    "\n",
    "Напишите функцию для подсчета букв в слове: пользователь вводит какую-то строку, а функция должна в форматированном виде вывести, сколько раз встретилась та или иная буква, например:\n",
    "\n",
    "    >>> 'ABBYY'\n",
    "    'A': 1\n",
    "    'B': 2\n",
    "    'Y': 2"
   ]
  },
  {
   "cell_type": "code",
   "execution_count": null,
   "id": "81d3c01c-dd50-4daf-97c7-92792b12179d",
   "metadata": {},
   "outputs": [],
   "source": [
    "# your code here"
   ]
  }
 ],
 "metadata": {
  "kernelspec": {
   "display_name": "Python 3 (ipykernel)",
   "language": "python",
   "name": "python3"
  },
  "language_info": {
   "codemirror_mode": {
    "name": "ipython",
    "version": 3
   },
   "file_extension": ".py",
   "mimetype": "text/x-python",
   "name": "python",
   "nbconvert_exporter": "python",
   "pygments_lexer": "ipython3",
   "version": "3.9.12"
  }
 },
 "nbformat": 4,
 "nbformat_minor": 5
}
