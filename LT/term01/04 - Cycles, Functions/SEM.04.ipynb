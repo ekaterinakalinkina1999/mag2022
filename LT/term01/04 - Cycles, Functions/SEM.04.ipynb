{
 "cells": [
  {
   "cell_type": "markdown",
   "id": "8a473a53-bd2d-49da-a88c-e5cddfbaa353",
   "metadata": {},
   "source": [
    "### Циклы"
   ]
  },
  {
   "cell_type": "markdown",
   "id": "a5c391ab-ecf4-4eaa-9e50-88bf40e20d53",
   "metadata": {},
   "source": [
    "#### Задача 1.\n",
    "\n",
    "Пользователь вводит что-то с клавиатуры в цикле, предположительно, целые числа. Программа должна возвращать квадраты этих чисел, а если пользователь ввел что-то кроме числа, прекратить работу с сообщением об этом."
   ]
  },
  {
   "cell_type": "code",
   "execution_count": null,
   "id": "812d811a-b1e5-4ac3-991e-0b859b1c1a06",
   "metadata": {},
   "outputs": [],
   "source": [
    "# while 1:
    a = input()
    if a.isdigit():
        a = int(a)
        print(a**2)
    else:
        print("Вы ввели не число")
        break"
   ]
  },
  {
   "cell_type": "markdown",
   "id": "92d5dc73-a25d-4726-bb30-bb47d49d0786",
   "metadata": {},
   "source": [
    "#### Задача 2.\n",
    "\n",
    "Нужно вывести таблицу умножения: на первой строчке выводятся 1 2 3 4 5 6 7 8 9, на второй 2 4 6 8 ...  и так далее. "
   ]
  },
  {
   "cell_type": "code",
   "execution_count": null,
   "id": "c730cbdf-c704-421e-9aa4-0bf83713a959",
   "metadata": {},
   "outputs": [],
   "source": [
    "# for i in range (9):
    for j in range(9):
        print((i+1)*(j+1), end = "")
    print()"
   ]
  },
  {
   "cell_type": "markdown",
   "id": "d1242ab7-ce8d-46a7-a227-2a48c96efdc1",
   "metadata": {},
   "source": [
    "#### Задача 3.\n",
    "\n",
    "Пользователь вводит какие-то строки, которые наша программа должна приводить в \"заголовочный\" вид: все слова в строке с заглавной буквы. Когда пользователь вводит \"стоп\", программа должна завершить работу, причем ей неважно, в каком регистре введен \"стоп\", хоть заборчиком."
   ]
  },
  {
   "cell_type": "code",
   "execution_count": null,
   "id": "54851be7-edde-4e58-a93b-14d0a52dfce5",
   "metadata": {},
   "outputs": [],
   "source": [
    "# your code here"
   ]
  },
  {
   "cell_type": "markdown",
   "id": "304bb92c-2747-477e-87a7-27d02a398622",
   "metadata": {},
   "source": [
    "#### Задача 4.\n",
    "\n",
    "Соберем, кстати, заборчик: пользователь вводит какое-то слово маленькими буквами, а мы должны его собрать таким образом, чтобы каждая вторая буква была заглавной."
   ]
  },
  {
   "cell_type": "code",
   "execution_count": null,
   "id": "f2356913-5cb4-4608-aed7-c87358360536",
   "metadata": {},
   "outputs": [],
   "source": [
    "# your code here"
   ]
  },
  {
   "cell_type": "markdown",
   "id": "00126be2-0cae-4962-bcda-22c7243aa6df",
   "metadata": {},
   "source": [
    "#### Задача 5.\n",
    "\n",
    "Пользователь нашей программы вводит какую-то строку, чтобы проверить, является ли она палиндромом, т.е. одинаково читается задом наперед. В строке, кроме букв и пробелов, ничего нет. Программа должна вывести True или False, причем пробелы влиять не должны (может быть, их следует предварительно удалить?). Примеры палиндромов для проверки: а роза упала на лапу азора, аргентина манит негра. "
   ]
  },
  {
   "cell_type": "code",
   "execution_count": null,
   "id": "04dc8bee-7f97-4279-8a29-dedb1e11f0c0",
   "metadata": {},
   "outputs": [],
   "source": [
    "# your code here"
   ]
  },
  {
   "cell_type": "markdown",
   "id": "448e6c53-74dd-4f6a-83e0-67509aa39dbe",
   "metadata": {},
   "source": [
    "#### Задача 6.\n",
    "\n",
    "Пользователь вводит целое число, в котором заранее мы не знаем, сколько цифр. Программа должна вернуть сумму цифр этого числа. "
   ]
  },
  {
   "cell_type": "code",
   "execution_count": null,
   "id": "59574843-06e8-45f3-a208-bdbd0e83425b",
   "metadata": {},
   "outputs": [],
   "source": [
    "# your code here"
   ]
  },
  {
   "cell_type": "markdown",
   "id": "20d2297c-8821-4eba-a7a4-75d46137a172",
   "metadata": {},
   "source": [
    "#### Задача 7.\n",
    "\n",
    "Пользователь вводит предложение, в котором есть лишние (двойные, тройные) пробелы. В цикле удалите все лишние пробелы."
   ]
  },
  {
   "cell_type": "code",
   "execution_count": null,
   "id": "c3bad4b8-4457-4c12-9856-c9a1889bbdfc",
   "metadata": {},
   "outputs": [],
   "source": [
    "# your code here"
   ]
  },
  {
   "cell_type": "markdown",
   "id": "c9c686b3-6bb9-472f-86ce-0d1ce64c44e5",
   "metadata": {},
   "source": [
    "#### Задача 8.\n",
    "\n",
    "Напишем программу для проверки подобранных рифм: пользователь в цикле вводит два слова, программа должна проверить, что у них совпадает не меньше четырех последних букв (будем наивно считать, что все читается, как пишется). Цикл останавливается, если первое из введенных слов не содержит букв. "
   ]
  },
  {
   "cell_type": "code",
   "execution_count": null,
   "id": "2d28031e-227c-4d51-8ee8-405c598514a4",
   "metadata": {},
   "outputs": [],
   "source": [
    "# while 1:
    a = input()
    if a.isdigit():
        print("Вы ввели число")
        break
    b = input()
    c = a[len(a)-4:]
    if c in b:
        print("Это рифма")
    print()"
   ]
  },
  {
   "cell_type": "markdown",
   "id": "717cdd60-5b6f-442a-8b94-8273c55b74ae",
   "metadata": {},
   "source": [
    "### Функции"
   ]
  },
  {
   "cell_type": "markdown",
   "id": "65236dec-9345-448b-8d0f-753b9e25f7df",
   "metadata": {},
   "source": [
    "#### Задача 1. \n",
    "\n",
    "Напишите функцию, которая принимает два целых числа a и b и возвращает результат возведения в степень a \\*\\* b, только оператором \\*\\* пользоваться нельзя, нужно сделать это в цикле!"
   ]
  },
  {
   "cell_type": "code",
   "execution_count": null,
   "id": "4996ad6b-242f-4d59-b2dc-7cb4770a0978",
   "metadata": {},
   "outputs": [],
   "source": [
    "# a = int(input("Введите число а: ")) 
b = int(input("Введите число b: "))

def stepen(x, y):
    c = 1
    for i in range(b):
        c = c * a
    return(c)
print(stepen(a, b))"
   ]
  },
  {
   "cell_type": "markdown",
   "id": "8c8327cb-d90a-45ca-ad2f-cb3118ce6942",
   "metadata": {},
   "source": [
    "#### Задача 2. \n",
    "\n",
    "Напишите функцию, которая будет принимать слово и проверять, состоит ли оно только из кириллических букв. Функция должна возвращать объект bool (True/False). "
   ]
  },
  {
   "cell_type": "code",
   "execution_count": null,
   "id": "1ff65ccd-0976-40a2-860c-062e7dab6939",
   "metadata": {},
   "outputs": [],
   "source": [
    "# your code here"
   ]
  },
  {
   "cell_type": "markdown",
   "id": "48c8d47e-0c5f-4b16-b6f3-848cec743b47",
   "metadata": {},
   "source": [
    "#### Задача 3. \n",
    "\n",
    "Немного расширим задачу 2: пользователь вводит строчку, а потом выбирает, хочет ли он проверить, что она является палиндромом или что она кириллическая. В зависимости от выбора пользователя должна вызываться одна из двух функций. "
   ]
  },
  {
   "cell_type": "code",
   "execution_count": null,
   "id": "4ab6aa9e-8f2a-4654-8962-729a0aa122d4",
   "metadata": {},
   "outputs": [],
   "source": [
    "# a = str(input("Если хотите проверить является ли строка палиндромом - введите \"палиндром\" или кириллицей - введите \"кириллица\""))

def t(s):
    alphabet = ["а","б","в","г","д","е","ё","ж","з","и","й","к","л","м","н","о", "п","р","с","т","у","ф","х","ц","ч","ш","щ","ъ","ы","ь","э","ю","я"]
    for i in s:
        if i in alphabet:
            return True
    return False

def palindrom(stroka):
    if stroka == stroka[::-1]:
        return True
    else:
        return False


if(a == "палиндром"):
    h = str(input("Введите строку: "))
    print(palindrom(h))
elif(a == "кириллица"):
    g = str(input("Введите строку: "))
    print(t(g))"
   ]
  },
  {
   "cell_type": "markdown",
   "id": "8ac5efd5-d195-42fb-bc06-e78002bc1a64",
   "metadata": {},
   "source": [
    "#### Задача 4. \n",
    "\n",
    "Напишите функцию sign, которая принимает целое число и возвращает True, если оно положительное, и False, если оно отрицательное. На 0 можно возвращать NoneType (подумайте, как это сделать?)"
   ]
  },
  {
   "cell_type": "code",
   "execution_count": null,
   "id": "b73628bc-cdcf-4a8b-bb96-898430d7ab04",
   "metadata": {},
   "outputs": [],
   "source": [
    "# your code here"
   ]
  },
  {
   "cell_type": "markdown",
   "id": "f29a8776-2310-4685-995d-bfceaa96d140",
   "metadata": {},
   "source": [
    "#### Задача 5. \n",
    "\n",
    "Напишите функцию, которая делает то же, что функция в задаче 1, но используйте рекурсию. "
   ]
  },
  {
   "cell_type": "code",
   "execution_count": null,
   "id": "ecbcd600-5316-414f-ae30-c64d15719aeb",
   "metadata": {},
   "outputs": [],
   "source": [
    "# a = int(input())
b = int(input())
c = 1

def stepen(x, y):
    if y == 1:
        return x
    else:
        return x*stepen(x, y-1)
print(stepen(a, b))"
   ]
  },
  {
   "cell_type": "markdown",
   "id": "929452c8-79f4-4818-88cd-cfc397c219dd",
   "metadata": {},
   "source": [
    "#### Задача 6. \n",
    "\n",
    "Напишите функцию, которая выводит таблицу умножения. Отформатируйте вывод таким образом, чтобы образовалась сеточка из чисел:\n",
    "\n",
    "      1 2 3 4  5\n",
    "    1 1 2 3 4  5\n",
    "    2 2 4 6 8 10\n",
    "    ...\n"
   ]
  },
  {
   "cell_type": "code",
   "execution_count": null,
   "id": "7f5f0d48-247b-4dab-ba52-c0ba22b62f1d",
   "metadata": {},
   "outputs": [],
   "source": [
    "# your code here"
   ]
  },
  {
   "cell_type": "markdown",
   "id": "3dbf1650-4515-48bb-9e28-6f9b480a6c7e",
   "metadata": {},
   "source": [
    "#### Задача 7. \n",
    "\n",
    "Напишите функцию, которая будет принимать числа a и b, делить их и выводить ответ в формате a + b = c, при этом число c должно быть округлено до двух знаков после запятой. Если знаете варианты, как это можно сделать, напишите варианты. "
   ]
  },
  {
   "cell_type": "code",
   "execution_count": null,
   "id": "99d28cfb-5c49-41a2-8226-a337a5aad6ee",
   "metadata": {},
   "outputs": [],
   "source": [
    "# def operation (a, b):
    return(round(a / b, 2))

a = int(input("Введите число а: ")) 
b = int(input("Введите число b: ")) 
c = operation(a, b)

print(a, "+", b, "=", c)"
   ]
  },
  {
   "cell_type": "markdown",
   "id": "8280a1a1-872c-430b-9db2-b390501209f1",
   "metadata": {},
   "source": [
    "#### Задача 8. \n",
    "\n",
    "Напишите функцию для подсчета букв в слове: пользователь вводит какую-то строку, а функция должна в форматированном виде вывести, сколько раз встретилась та или иная буква, например:\n",
    "\n",
    "    >>> 'ABBYY'\n",
    "    'A': 1\n",
    "    'B': 2\n",
    "    'Y': 2"
   ]
  },
  {
   "cell_type": "code",
   "execution_count": null,
   "id": "81d3c01c-dd50-4daf-97c7-92792b12179d",
   "metadata": {},
   "outputs": [],
   "source": [
    "# a = input()

def ans(s):
    count = 0
    a = set(s)
    a = list(a)
    a.sort()
    for i in a:
        for j in s:
            if i == j:
                count += 1
        print("'", i, "': ", count)
        count = 0
ans(a)"
   ]
  }
 ],
 "metadata": {
  "kernelspec": {
   "display_name": "Python 3 (ipykernel)",
   "language": "python",
   "name": "python3"
  },
  "language_info": {
   "codemirror_mode": {
    "name": "ipython",
    "version": 3
   },
   "file_extension": ".py",
   "mimetype": "text/x-python",
   "name": "python",
   "nbconvert_exporter": "python",
   "pygments_lexer": "ipython3",
   "version": "3.9.12"
  }
 },
 "nbformat": 4,
 "nbformat_minor": 5
}
