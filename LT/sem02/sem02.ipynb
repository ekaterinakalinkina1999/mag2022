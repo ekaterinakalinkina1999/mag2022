{
 "cells": [
  {
   "cell_type": "markdown",
   "id": "428937a0-1cb6-42cf-9f1a-36864299ae65",
   "metadata": {},
   "source": [
    "### Числовые типы данных, условные выражения, if-elif-else"
   ]
  },
  {
   "cell_type": "markdown",
   "id": "e68b9672-40eb-4ed8-bda9-5de10d1b1db0",
   "metadata": {},
   "source": [
    "#### Задача 1. \n",
    "\n",
    "Пройдемся по арифметическим операциям: напишите програмку, которая будет запрашивать у пользователя два числа (считаем, что целые) и выводить результаты всех известных операций с этими числами. "
   ]
  },
  {
   "cell_type": "code",
   "execution_count": null,
   "id": "d3d361f2-2236-4cad-866b-09a904fe965b",
   "metadata": {},
   "outputs": [],
   "source": [
    "# your code here"
   ]
  },
  {
   "cell_type": "markdown",
   "id": "84c47d97-3d9a-4da8-99b2-7f13be21c172",
   "metadata": {},
   "source": [
    "#### Задача 2. \n",
    "\n",
    "А теперь добавим условные операции: пусть человек введет два числа, а программа выведет ему все результаты сравнения этих чисел между собой. "
   ]
  },
  {
   "cell_type": "code",
   "execution_count": null,
   "id": "dfe9af8f-f3db-4ca2-9be2-3074c9136ca6",
   "metadata": {},
   "outputs": [],
   "source": [
    "# your code here"
   ]
  },
  {
   "cell_type": "markdown",
   "id": "70748601-f5e6-45ec-93c8-93aafa4695e1",
   "metadata": {},
   "source": [
    "#### Задача 3. \n",
    "\n",
    "Попробуем предоставить человеку выбор: добавим в задаче 1 условную инструкцию. Программа после считывания чисел должна будет вывести пронумерованный список доступных операций, нужно, чтобы человек выбрал номер операции, а программа ее выполнила и вернула результат. Пример работы:\n",
    "\n",
    "    > Введите число а:\n",
    "    (вводим 15)\n",
    "    > Введите число b: \n",
    "    (вводим 17)\n",
    "    > 1. Сложение 2. Вычитание. 3. Умножение ...\n",
    "    (вводим 1)\n",
    "    > 32"
   ]
  },
  {
   "cell_type": "code",
   "execution_count": null,
   "id": "b5514591-1c23-4904-a159-183c03f3dff1",
   "metadata": {},
   "outputs": [],
   "source": [
    "# your code here"
   ]
  },
  {
   "cell_type": "markdown",
   "id": "fe66091b-7a71-470f-8da0-9bbe89c3df6e",
   "metadata": {},
   "source": [
    "#### Задача 4. \n",
    "\n",
    "Человек вводит номер года. Программа должна вывести, является ли год високосным или нет. "
   ]
  },
  {
   "cell_type": "code",
   "execution_count": null,
   "id": "2684a1d2-a181-4535-9eef-13080b30401c",
   "metadata": {},
   "outputs": [],
   "source": [
    "# your code here"
   ]
  },
  {
   "cell_type": "markdown",
   "id": "0782069d-b1c9-476e-b67b-542ae5caf627",
   "metadata": {},
   "source": [
    "#### Задача 5. \n",
    "\n",
    "Человек вводит что-то с клавиатуры, вы это считываете и сохраняете в переменную. Проверьте, ввел он что-нибудь или просто нажал Enter. "
   ]
  },
  {
   "cell_type": "code",
   "execution_count": null,
   "id": "a12580f1-7a26-435c-a470-7a8e3cecc03f",
   "metadata": {},
   "outputs": [],
   "source": [
    "# your code here"
   ]
  },
  {
   "cell_type": "markdown",
   "id": "1769773e-2552-4c1b-907e-6b88e198d862",
   "metadata": {},
   "source": [
    "#### Задача 6.\n",
    "\n",
    "Человек вводит число. Проверьте, четное оно или нет. "
   ]
  },
  {
   "cell_type": "code",
   "execution_count": null,
   "id": "eb3f3090-18e0-4757-939d-efe14d87c6a2",
   "metadata": {},
   "outputs": [],
   "source": [
    "# your code here"
   ]
  },
  {
   "cell_type": "markdown",
   "id": "48dada17-816d-4c34-8094-891505317a4b",
   "metadata": {},
   "source": [
    "#### Задача 7. \n",
    "\n",
    "Человек вводит три числа. Выведите значение наименьшего из них. "
   ]
  },
  {
   "cell_type": "code",
   "execution_count": null,
   "id": "8e4216a3-1a34-4298-835a-0936b4d6937e",
   "metadata": {},
   "outputs": [],
   "source": [
    "# your code here"
   ]
  },
  {
   "cell_type": "markdown",
   "id": "a562a0f7-8581-4d8a-9561-46e623d4a6de",
   "metadata": {},
   "source": [
    "#### Задача 8. \n",
    "\n",
    "Заданы две клетки шахматной доски. Если они покрашены в один цвет, то выведите слово YES, а если в разные цвета — то NO. Программа получает на вход четыре числа от 1 до 8 каждое, задающие номер столбца и номер строки сначала для первой клетки, потом для второй клетки."
   ]
  },
  {
   "cell_type": "code",
   "execution_count": null,
   "id": "c06fb165-55b9-414c-ac98-820ab447a240",
   "metadata": {},
   "outputs": [],
   "source": [
    "# your code here"
   ]
  },
  {
   "cell_type": "markdown",
   "id": "a51f585a-349d-44a6-8ac0-67155f4a4c93",
   "metadata": {},
   "source": [
    "#### Задача 9. \n",
    "\n",
    "Шахматная ладья ходит по горизонтали или вертикали. Даны две различные клетки шахматной доски, определите, может ли ладья попасть с первой клетки на вторую одним ходом. Программа получает на вход четыре числа от 1 до 8 каждое, задающие номер столбца и номер строки сначала для первой клетки, потом для второй клетки. Программа должна вывести YES, если из первой клетки ходом ладьи можно попасть во вторую или NO в противном случае."
   ]
  },
  {
   "cell_type": "code",
   "execution_count": null,
   "id": "a32729b4-b66e-4659-92c5-c61ab2a9777c",
   "metadata": {},
   "outputs": [],
   "source": [
    "# your code here"
   ]
  },
  {
   "cell_type": "markdown",
   "id": "ad596586-5166-4cfa-9367-b1a027385bea",
   "metadata": {},
   "source": [
    "#### Задача 10. \n",
    "\n",
    "Шахматный король ходит по горизонтали, вертикали и диагонали, но только на 1 клетку. Даны две различные клетки шахматной доски, определите, может ли король попасть с первой клетки на вторую одним ходом. Программа получает на вход четыре числа от 1 до 8 каждое, задающие номер столбца и номер строки сначала для первой клетки, потом для второй клетки. Программа должна вывести YES, если из первой клетки ходом короля можно попасть во вторую или NO в противном случае."
   ]
  },
  {
   "cell_type": "code",
   "execution_count": null,
   "id": "04cc0a89-92fa-4bc1-98b3-4be303f7d6ef",
   "metadata": {},
   "outputs": [],
   "source": [
    "# your code here"
   ]
  },
  {
   "cell_type": "markdown",
   "id": "f36dcef3-19d5-4606-b939-d1ac94f0b9c3",
   "metadata": {},
   "source": [
    "#### Задача 11. \n",
    "\n",
    "Человек вводит число. Проверьте, делится ли оно на 3. "
   ]
  },
  {
   "cell_type": "code",
   "execution_count": null,
   "id": "67ebc151-2a96-4b0e-b3ce-9c392d968144",
   "metadata": {},
   "outputs": [],
   "source": [
    "# your code here"
   ]
  },
  {
   "cell_type": "markdown",
   "id": "c2473983-5e60-47c0-b381-85dad2ff598b",
   "metadata": {},
   "source": [
    "#### Задача 12. \n",
    "\n",
    "Занудная: приведите написанный ниже код в соответствие с конвенциями. Можете заодно попробовать упростить. "
   ]
  },
  {
   "cell_type": "code",
   "execution_count": null,
   "id": "eee93764-081b-47af-9a89-73d9d7646300",
   "metadata": {},
   "outputs": [],
   "source": [
    "a=input ( )\n",
    "a =int ( a )\n",
    "b=3\n",
    "print((a+b)**2 )"
   ]
  }
 ],
 "metadata": {
  "kernelspec": {
   "display_name": "Python 3 (ipykernel)",
   "language": "python",
   "name": "python3"
  },
  "language_info": {
   "codemirror_mode": {
    "name": "ipython",
    "version": 3
   },
   "file_extension": ".py",
   "mimetype": "text/x-python",
   "name": "python",
   "nbconvert_exporter": "python",
   "pygments_lexer": "ipython3",
   "version": "3.9.12"
  }
 },
 "nbformat": 4,
 "nbformat_minor": 5
}
