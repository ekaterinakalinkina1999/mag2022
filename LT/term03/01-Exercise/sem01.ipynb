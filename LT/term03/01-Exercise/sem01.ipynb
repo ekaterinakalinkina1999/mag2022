{
 "cells": [
  {
   "cell_type": "markdown",
   "id": "eb518bc5-0fb7-4f09-a85e-526084e0cf87",
   "metadata": {},
   "source": [
    "### 1. Повторение основ Python"
   ]
  },
  {
   "cell_type": "markdown",
   "id": "7d2ddca8-fb31-45ca-9c69-6c6319184ca5",
   "metadata": {},
   "source": [
    "#### Задача 1. \n",
    "\n",
    "Маша с математического факультета МГУ сильно заскучала, идя по улице. Она решила придумать себе такое развлечение:\n",
    "\n",
    "Если она видит машину, она проводит арифметические операции с ее номером. Так, если ее номер делится на 3, она возводит результат во 2-ю степень. Если ее номер не делится на 3, она целочисленно делит его на 5.\n",
    "\n",
    "Если она видит магазин, она читает его название наоборот.\n",
    "\n",
    "Если Маша видит группу человек, она умножает количество людей на 8 и возвращает остаток от деления на 6.\n",
    "\n",
    "С помощью input() пользователь вводит либо целое трехзначное число (номер машины), либо строку (название магазина, не короче четырех букв), либо однозначное или двузначное целое число (количество людей)."
   ]
  },
  {
   "cell_type": "code",
   "execution_count": null,
   "id": "ce4eedff-5b36-42e0-999e-e8896ce25078",
   "metadata": {},
   "outputs": [],
   "source": [
    "while True:
    stroka = input('Введите: ')

    if stroka.isdigit():

        if len(stroka) == 1 or len(stroka) == 2:
            if int(stroka) % 3 == 0:
                print(int(stroka) ** 2)  # если номер делится на 3, она возводит результат во 2-ю степень.
            else:
                print(int(stroka) // 5)  # если номер не делится на 3, она целочисленно делит его на 5.

        elif len(stroka) == 3:
            print(int(stroka) * 8 % 6)  # видит группу человек, она умножает количество людей на 8 и возвращает остаток от деления на 6
    else:
        print(stroka[::-1])  # видит магазин, она читает его название наоборот."
   ]
  },
  {
   "cell_type": "markdown",
   "id": "432d265c-50bc-49e4-9bb6-0b689e7eb5a7",
   "metadata": {},
   "source": [
    "#### Задача 2. \n",
    "\n",
    "Оля работает секретарем. Грядет большое собрание, и представители фирм звонят ей один за другим, сообщая, сколько работников от них придут.\n",
    "\n",
    "В цикле с помощью input() пользователь вводит число работников от каждой фирмы. Как только Оле звонит фирма, отказавшаяся от участия (она посылает 0 своих работников), звонки наконец заканчиваются.\n",
    "\n",
    "Помогите Оле посчитать, сколько столов понадобится в большом зале, чтобы уместить всех участников: за один стол могут сесть восемь человек."
   ]
  },
  {
   "cell_type": "code",
   "execution_count": null,
   "id": "1f53cdde-1d33-4511-8bed-21a1ff48589e",
   "metadata": {},
   "outputs": [],
   "source": [
    "# сколько работников:
sum_n = 0
while True:
    num = int(input('Введите число работников от каждой фирмы: '))
    if num == 0:
        break
    sum_n += num

# сколько столов:
if sum_n % 8 == 0:
    print(sum_n // 8)
else:
    print(sum_n // 8 + 1)"
   ]
  },
  {
   "cell_type": "markdown",
   "id": "67b96814-6c6c-4157-b543-5bdbd9da5407",
   "metadata": {},
   "source": [
    "#### Задача 3. \n",
    "\n",
    "Напишите мини-игру про рыбалку с помощью функции.\n",
    "\n",
    "Пользователем вводится число попыток закинуть удочку. Столько раз с помощью функции random выбирается рыба из списка. В зависимости от того, какая это рыба, игроку нужно будет нажать на Enter такое количество раз:\n",
    "\n",
    "Бычок - 2\n",
    "\n",
    "Пескарь - 3\n",
    "\n",
    "Плотва - 4\n",
    "\n",
    "Карп - 5\n",
    "\n",
    "Сом - 6\n",
    "\n",
    "Налим - 7\n",
    "\n",
    "Щука - 8\n",
    "\n",
    "Подсказка: нажатие на Enter - это пустая строка при вводе."
   ]
  },
  {
   "cell_type": "code",
   "execution_count": null,
   "id": "ef406265-1a89-48d3-b78d-48f17a58b95c",
   "metadata": {},
   "outputs": [],
   "source": [
    "import random


def replacer(fish):
    dct = {'Бычок': 2, 'Пескарь': 3, 'Плотва': 4, 'Карп': 5, 'Сом': 6, 'Налим': 7, 'Щука': 8}
    return dct[fish]


lst = ['Бычок', 'Пескарь', 'Плотва', 'Карп', 'Сом', 'Налим', 'Щука']

n = 1
for x in range(int(input('Введите число попыток закинуть удочку: '))):
    rnd = random.choice(lst)
    count = replacer(rnd)
    print('нажмите на Enter следующее количество раз:', count)
    for _ in range(count):
        input()
    print('Рыба поймана!')
    n = n + 1"
   ]
  },
  {
   "cell_type": "markdown",
   "id": "efa92339-40a9-4806-972a-8fb18df8ca07",
   "metadata": {},
   "source": [
    "#### Задача 4. \n",
    "\n",
    "Дашу позвали сразу на несколько тематических вечеринок. Заглянув в свой гардероб, она нашла одежду из приведенного ниже множества. Скажите, на какие из вечеринок сможет пойти Даша, учитывая их дресс-код. Множества дресс-кодов также приведены ниже, но следует помнить, что они могут изменяться.\n",
    "\n",
    "Условия\n",
    "\n",
    "Вечеринка представителей элиты: требуются все элементы одежды.\n",
    "\n",
    "Вечеринка в стиле ретро: если у Даши нет трех или больше элементов одежды для этой вечеринки, то она туда не попадет.\n",
    "\n",
    "Вечеринка панков: если у Даши есть хотя бы два элемента одежды для этой вечеринки, то ее там ждут.\n",
    "\n",
    "Также выведите множество с оставшейся одеждой, чтобы Даша знала, что может надеть до вечеринок."
   ]
  },
  {
   "cell_type": "code",
   "execution_count": null,
   "id": "2f9f2a11-beee-416a-a976-f792a8a4f97c",
   "metadata": {},
   "outputs": [],
   "source": [
    "dasha = {\"платье\", \"туфли\", \"колготки\", \"серьги\", \"ожерелье\", \"джинсы\", \"футболка\", \"кеды\", \"толстовка\", \"перчатки\", \"шорты\", \"майка\"}\n",
    "elite = {\"платье\", \"туфли\", \"колготки\", \"серьги\", \"ожерелье\"}\n",
    "retro = {\"юбка\", \"рубашка\", \"туфли\", \"ободок\", \"серьги\"}\n",
    "punk = {\"джинсы\", \"футболка\", \"кеды\", \"толстовка\", \"перчатки\"}\n",
    "\n",
    "dasha = {"платье", "туфли", "колготки", "серьги", "ожерелье", "джинсы", "футболка", "кеды", "толстовка", "перчатки",
         "шорты", "майка"}

elite = {"платье", "туфли", "колготки", "серьги", "ожерелье"}
retro = {"юбка", "рубашка", "туфли", "ободок", "серьги"}
punk = {"джинсы", "футболка", "кеды", "толстовка", "перчатки"}

inp = input('Введите название вечеринки elite, retro, punk: ').lower()

if inp == 'elite':
    if elite.issubset(dasha):  # требуются все элементы одежды
        print('Даша сможет пойти на вечеринку')
        print("До вечеринки Даша может надеть:", dasha - elite)
    else:
        print('Даша не сможет пойти на вечеринку')

elif inp == 'retro':
    if len(retro & dasha) >= 3:  # требуется три или больше элементов одежды
        print('Даша сможет пойти на вечеринку')
        print(dasha - elite)
    else:
        print('Даша не сможет пойти на вечеринку')

elif inp == 'punk':
    if len(punk & dasha) >= 2:  # требуется хотя бы два элемента одежды
        print('Даша сможет пойти на вечеринку')
        print(dasha - elite)
    else:
        print('Даша не сможет пойти на вечеринку')"
   ]
  },
  {
   "cell_type": "markdown",
   "id": "19a2e307-390b-4023-9900-c7685d119ebd",
   "metadata": {},
   "source": [
    "#### Задача 5. \n",
    "\n",
    "Вася - перфекционист. Когда жена посылает его в магазин, он раскладывает продукты по пакетам в зависимости от их типов. На вход подается словарь (dict), который представляет собой список продуктов с их признаками, который ему написала жена. Известно следующее: мясо и рыба записываются в килограммах, овощи и фрукты - в штуках, а к сладостям обычно приписаны их особенности, чтобы Вася не перепутал.\n",
    "\n",
    "Помогите Васе распределить продукты (только названия) по трем пакетам (пакет с мясом и рыбой, пакет с овощами и фруктами, пакет со сладостями). Для этого используйте словарь, в ключах которого будут пакеты, а в значениях - списки продуктов для них.\n",
    "\n",
    "Напоминание: словарь, который подается на вход, может быть самым разным."
   ]
  },
  {
   "cell_type": "code",
   "execution_count": null,
   "id": "7bf19048-c4ae-4683-bbdd-1a86a093f97a",
   "metadata": {},
   "outputs": [],
   "source": [
    "dct_1 = {\"Куриное филе\": 1.3, \"Хлопья кукурузные\": \"без сахара\", \"Батончик шоколадный\": \"с арахисом\", \"Огурцы\": 4, \"Филе рыбы\": 0.6, \"Лук репчатый\": 5,\n",
    "         \"Рулет сладкий\": \"с маком\", \"Бананы\": 6, \"Ребрышки свиные\": 1.5}\n",
    "\n",
    "dct_products = {"Куриное филе": 1.3, "Хлопья кукурузные": "без сахара", "Батончик шоколадный": "с арахисом",
                "Огурцы": 4, "Филе рыбы": 0.6, "Лук репчатый": 5, "Рулет сладкий": "с маком", "Бананы": 6,
                "Ребрышки свиные": 1.5}

dct_packs = dict()

for key, value in dct_products.items():
    if type(value) == int:
        dct_packs.setdefault('пакет с овощами и фруктами', []).append(key)
    elif type(value) == float:
        dct_packs.setdefault('пакет с мясом и рыбой', []).append(key)
    elif type(value) == str:
        dct_packs.setdefault('пакет со сладостями', []).append(key)
print(dct_packs)"
   ]
  },
  {
   "cell_type": "markdown",
   "id": "c360e342-9990-45e2-8f84-bce3242ef990",
   "metadata": {},
   "source": [
    "#### Задача 6. \n",
    "\n",
    "Катя уже давно играет в игру Кеншин Пимпакт, но никак не может получить своего любимого персонажа Гайден. У нее накопилось количество кристаллов, достаточное для призыва 10 персонажей или оружия (они перемешаны).\n",
    "\n",
    "Персонажи и оружие могут принадлежать разным категориям: от трех (такое себе) звезд до пяти (лучше не бывает) звезд. Оружие для этого призыва может быть только трёхзвёздочным, а персонажи — четырех- или пятизвёздочными.\n",
    "\n",
    "С помощью функции модуля random выберите из списка, приведенного ниже, 9 вариантов и добавьте к ним Гайден (5 звезд). Перемешайте персонажей и оружие и сообщайте о состоянии Кати во время призыва:\n",
    "\n",
    "Как только она получает Гайден, она падает в обморок от счастья (получение персонажей заканчивается). Если ей попадаются два или больше четырёхзвёздочных персонажей до Гайден, Катя расстраивается (они у нее уже есть). Если ей попадаются три или больше элементов оружия, Катя злится (оружие ей не нужно). Если девять объектов подряд не оказались Гайден, Катя плачет (но ненадолго, ведь Гайден оказывается последней!).\n",
    "\n",
    "Важно: Каждый вывод о состоянии Кати должен повторяться только один раз."
   ]
  },
  {
   "cell_type": "code",
   "execution_count": null,
   "id": "e45f69a3-ef1f-435d-ae7e-d12b7825fe2b",
   "metadata": {},
   "outputs": [],
   "source": [
    "pool = [\"Меч из синего железа 3\", \"Странная кисть 3\", \"Рогатина 3\", \"Лук вороны 3\", \"Межреберный нож 3\", \"Предвестник заката 3\", \"Теплое лезвие 3\",\n",
    " \"Парный рубин 3\", \"Лазурный шар 3\", \"Руководство по волшебству 3\", \"Каллен 4\", \"Шиона 4\", \"Камелия 4\",\n",
    " \"Целлюлоза 4\", \"Хан Шин 4\"]"
   ]
  },
  {
   "cell_type": "code",
   "execution_count": null,
   "id": "d36f14bb-fb3e-4e9f-b3bc-b640b0f0baab",
   "metadata": {},
   "outputs": [],
   "source": [
    "pool = ["Меч из синего железа 3", "Странная кисть 3", "Рогатина 3", "Лук вороны 3", "Межреберный нож 3",
        "Предвестник заката 3", "Теплое лезвие 3", "Парный рубин 3", "Лазурный шар 3", "Руководство по волшебству 3",
        "Каллен 4", "Шиона 4", "Камелия 4", "Целлюлоза 4", "Хан Шин 4"]

import random

heroes = random.choices(pool, k=9)
heroes.append('Гайден 5')
random.shuffle(heroes)

dct_state = {3: 0, 4: 0, 9: 0, '3': True, '4': True}
for elem in heroes:
    dct_state[9] += 1
    if 'гайден' in elem.lower():
        print('Катя упала в обморок')
        break
    elif '4' in elem:
        dct_state[4] += 1
    elif '3' in elem:
        dct_state[3] += 1

    if dct_state[4] >= 2 and dct_state['4']:
        print('Катя расстраивается')
        dct_state['4'] = False
    if dct_state[3] >= 3 and dct_state['3']:
        print('Катя злится')
        dct_state['3'] = False
    if dct_state[9] == 9:
        print('Катя плачет')"
   ]
  },
  {
   "cell_type": "markdown",
   "id": "b8212e04-10eb-4e4f-85b8-0837e5a12d04",
   "metadata": {},
   "source": [
    "#### Задача 7. \n",
    "\n",
    "Вова - нейрохудожник. У Вовы не всегда бывают идеи, что он может нарисовать с помощью нейросетей, и обычно об этом он спрашивает ChatGPT. Но сегодня интернет перестал работать, а придумать идеи было необходимо, так как скоро выставка авангардного нейросетевого искусства.\n",
    "\n",
    "Напишите Вове функцию, которая будет составлять из четырех списков идеи для авангардных картин (можете добавить свои списки или элементы для готовых списков)."
   ]
  },
  {
   "cell_type": "code",
   "execution_count": null,
   "id": "5ebaf4c1-3ca7-4883-9e9a-b8b26fd70bb4",
   "metadata": {},
   "outputs": [],
   "source": [
    "colors = [\"blue\", \"red\", \"green\", \"yellow\", \"black\", \"white\", \"pink\", \"purple\"]\n",
    "objects = [\"flowers\", \"tree\", \"cat\", \"dog\", \"elf\", \"demon\", \"orc\", \"sun\", \"clouds\"]\n",
    "action = [\"sleeping\", \"awakening\", \"laughing\", \"dancing\", \"swimming\", \"grinning\", \"smiling\", \"yelling\"]\n",
    "background = [\"in the sky\", \"in the sea\", \"between the mountains\", \"in the room\", \"in the forest\", \"in the city\", \"in the river\", \"in the dark\", \"in the spider web\"]"
   ]
  },
  {
   "cell_type": "code",
   "execution_count": null,
   "id": "a70eee35-d205-4cda-ac7a-cfd5c86da1b1",
   "metadata": {},
   "outputs": [],
   "source": [
    "# решение двумя способами:

colors = ["blue", "red", "green", "yellow", "black", "white", "pink", "purple"]
objects = ["flowers", "tree", "cat", "dog", "elf", "demon", "orc", "sun", "clouds"]
action = ["sleeping", "awakening", "laughing", "dancing", "swimming", "grinning", "smiling", "yelling"]
background = ["in the sky", "in the sea", "between the mountains", "in the room", "in the forest", "in the city",
              "in the river", "in the dark", "in the spider web"]

from random import shuffle, choice

def random_picture():
    # shuffle(colors), shuffle(objects), shuffle(action), shuffle(background)
    # print(*next(zip(colors, objects, action, background)))

    print(choice(colors), choice(objects), choice(action), choice(background))

random_picture()"
   ]
  },
  {
   "cell_type": "markdown",
   "id": "19c13315-7c5a-41d6-a7c3-9885035be1dc",
   "metadata": {},
   "source": [
    "#### Задача 8. \n",
    "\n",
    "Вове было скучно, и он решил поболтать с бесплатным чатботом Сакурой.\n",
    "\n",
    "Напишите класс Sakura, репрезентующий девушку-чатбота. В первом input задается имя юзера, по которому Сакура будет обращаться к своему собеседнику.\n",
    "\n",
    "Как она общается (что задает юзер -> ее ответ):\n",
    "\n",
    "\"Привет\" в любых возможных контекстах -> \"Привет, user.\"\n",
    "\n",
    "\"Как дела?\" -> \"Все хорошо. А твои, user?\"\n",
    "\n",
    "\"Я люблю тебя\" в любых возможных контекстах -> \"Я люблю тебя, user.\"\n",
    "\n",
    "\"Посчитай *x + y*\" -> \"Хорошо. Ответ: решение\"\n",
    "\n",
    "\"Скажи \"фраза\"\" -> \"фраза\"\n",
    "\n",
    "\"Выбери число: [список чисел]\" -> Любое число из списка\n",
    "\n",
    "\"Неизвестная Сакуре команда\" -> \"Я тебя не понимаю.\"\n",
    "\n",
    "\"Пока\" -> \"Пока, user.\" [ввод прерывается]\n",
    "\n",
    "Следует обойтись без eval."
   ]
  },
  {
   "cell_type": "code",
   "execution_count": null,
   "id": "526ff996-79aa-436f-8fea-0e9508c06446",
   "metadata": {},
   "outputs": [],
   "source": [
    "import random
from random import choice
import re

class Sakura:
    greetings = ['привет', 'приветствую', 'здравствуй', 'здравствуйте', 'добрый день', 'доброе утро', 'добрый вечер', 'здрасте', 'здарова', 'дратути', 'приветики', 'приветы', 'приветик', 'салют', 'хэй', 'хай']
    greet_answer = ['привет']
    kak_dela = ['как дела?', 'как ты?']
    say_kak_dela_answer = ['все хорошо. а твои']
    i_love_u = ['я люблю тебя', 'лю', 'лю тя']
    say_love_answer = ['я люблю тебя']
    bye = ['пока', 'прощай', 'бай', 'до свидания', 'салют', 'покеда']
    say_bye_answer = ['пока']


    def __init__(self, user_name):
        self.user = user_name

    def find_phrase(self, phrase):
        if phrase.lower() in self.greetings:
            return self.greet()
        elif phrase.lower() in self.kak_dela:
            return self.say_kak_dela()
        elif phrase.lower() in self.i_love_u:
            return self.say_love()
        elif any(char in phrase for char in '+-/*') or 'посчитай' in phrase.lower():
            return self.counter(*phrase.split()[1:])
        elif 'скажи' or 'повтори' in phrase.lower():
            return self.repeat_phrase()
        elif 'выбери число' in phrase.lower():
            return self.choose_number(*phrase.split()[1:])
        elif phrase.lower() in self.bye:
            return self.say_bye()
        else:
            print("Я тебя не понимаю.")


    def greet(self):
        return f"{choice(self.greet_answer).capitalize()}, {self.user}"

    def say_kak_dela(self):
        return f"{choice(self.say_kak_dela_answer).capitalize()}, {self.user}"

    def say_love(self):
        return f"{choice(self.say_love_answer).capitalize()}, {self.user}"

    def say_bye(self):
        return f"{choice(self.say_bye_answer).capitalize()}, {self.user}"

    def counter(self, x, operation, y):
        if operation == '+':
            return int(x) + int(y)
        elif operation == '-':
            return int(x) - int(y)
        elif operation == '*':
            return int(x) * int(y)
        elif operation == '/':
            return int(x) / int(y)

    def repeat_phrase(self):
        say_phrase_pattern = re.findall(r"(?<=скажи)\s+[^\n]+|(?<=повтори)\s+[^\n]+", user_input, flags=re.IGNORECASE)
        return say_phrase_pattern

    def choose_number(self, element):
        lst_numbers = []
        for element in user_input:
            if element.isdigit():
                if element not in lst_numbers:
                    lst_numbers.append(element)
        return(random.choice(lst_numbers))


name = input("Введите ваше имя ")
sakura = Sakura(name)

while True:
    user_input = input("Пообщайтесь с Сакурой ")
    print(sakura.find_phrase(user_input))"
   ]
  },
  {
   "cell_type": "markdown",
   "id": "e622e8c4-904a-45fa-b541-d060b4f1e4ce",
   "metadata": {},
   "source": [
    "#### Задача 9.\n",
    "\n",
    "Николай выбирает аниме из списка на Шикимори, чтобы посмотреть после работы. Он твердо знает:\n",
    "\n",
    "- что любой тайтл, в названии которого содержатся не меньше двух восклицательных знаков подряд, точно хороший;\n",
    "- что любой тайтл, в названии которого есть слово \"Baka\", стоит посмотреть;\n",
    "- но любой тайтл, в названии которого больше шести слов, он точно смотреть не будет. \n",
    "\n",
    "Если Николай посмотрит больше пяти тайтлов за вечер, он умрет от перенапряжения и переродится в другом мире в виде троллейбусной остановки. \n",
    "Напишите программу, которая принимает список названий аниме, и определит, какова будет у Николая судьба."
   ]
  },
  {
   "cell_type": "code",
   "execution_count": null,
   "id": "8f8cb00c-bd5a-4a76-b4f1-e91e64432e3b",
   "metadata": {},
   "outputs": [],
   "source": [
    "lst_4 = ['Baka no Baka ni Baka to Baka!! Bakayaro', \n",
    "         \"Silk of Baka\", \n",
    "         \"Jojo's Bizarre Adventure\", \n",
    "         \"Sister!!!!!!!\", \n",
    "         \"He and his sobaka\", \n",
    "         \"Not so fast!\", \n",
    "         \"Higurashi no Naku Koro Ni Kai\",\n",
    "         \"Hopeless Simps!! Attack\",\n",
    "         \"I was a looser but became even worse in a fantasy world: useless profession of a plumber\",\n",
    "         \"Baka Monogatari\",\n",
    "         \"!Mahou Shoujo Nicola Tesla!\"]\n",
    "\n",
    "lst_4 = ['Baka no Baka ni Baka to Baka!! Bakayaro',
         "Silk of Baka",
         "Jojo's Bizarre Adventure",
         "Sister!!!!!!!",
         "He and his sobaka",
         "Not so fast!",
         "Higurashi no Naku Koro Ni Kai",
         "Hopeless Simps!! Attack",
         "I was a looser but became even worse in a fantasy world: useless profession of a plumber",
         "Baka Monogatari",
         "!Mahou Shoujo Nicola Tesla!"]

print('умер от перенапряжения и переродился в другом мире в виде троллейбусной остановки'
      if len(list(filter(lambda x: x.count('!') >= 2 or 'baka' in x.lower(), lst_4))) > 5
      else 'остался в живых')"
   ]
  },
  {
   "cell_type": "markdown",
   "id": "1a3fb8a6-50bf-4b7a-a167-fa53ebed66f5",
   "metadata": {},
   "source": [
    "#### Задача 10.\n",
    "\n",
    "Дан список с элементами разных типов (потенциально любых). Напишите программу, которая возвращает словарь, в котором ключами являются типы данных (их названия в виде строк), а значениями - количества элементов такого типа в исходном списке."
   ]
  },
  {
   "cell_type": "code",
   "execution_count": null,
   "id": "55781b34-819e-4556-a9c3-5d3ef7896098",
   "metadata": {},
   "outputs": [],
   "source": [
    "lst_1 = ['good', 4, ('foo', 'bar'), 'sooooq', 6.4, -1, {}, lambda x: x + 1, 16, 24]\n",
    "\n",
    "lst_1 = ['good', 4, ('foo', 'bar'), 'sooooq', 6.4, -1, {}, lambda x: x + 1, 16, 24]

dct = {}
for elem in lst_1:
    key = elem.__class__.__name__
    # if key not in dct:
    #     dct[key] = 0
    # dct[key] += 1
    dct[key] = dct.get(key, 0) + 1
print(dct)"
   ]
  },
  {
   "cell_type": "markdown",
   "id": "8779f492-5088-4e05-80b0-2ffc771653ea",
   "metadata": {},
   "source": [
    "#### Задача 11.\n",
    "\n",
    "Даны два списка чисел, с повторами элементов внутри них. Составьте общий список из этих двух списков. Каждый элемент должен присутствовать наименьшее ненулевое число раз, исходя из его присутствия в исходных списках. Т.е. если число \"5\" присутствует в первом списке 3 раза, а во втором списке - 5 раз, значит, в конечном списке оно должно присутствовать 3 раза."
   ]
  },
  {
   "cell_type": "code",
   "execution_count": null,
   "id": "4bdb8763-ddb2-4527-8388-b0a8fa81bb72",
   "metadata": {},
   "outputs": [],
   "source": [
    "lst_2_1 = [1, 2, 2, 2, 3, 5, 5, 5, 5, 5, 6, 6, 6]\n",
    "lst_2_2 = [1, 1, 1, 2, 4, 4, 5, 5, 6, 6, 6, 6, 6, 6, 7]\n",
    "\n",
    "lst_2_1 = [1, 2, 2, 2, 3, 5, 5, 5, 5, 5, 6, 6, 6]
lst_2_2 = [1, 1, 1, 2, 4, 4, 5, 5, 6, 6, 6, 6, 6, 6, 7]

# Два способа решения:

# dct = {}
# for elem in set(lst_2_1 + lst_2_2):
#     dct[elem] = [lst_2_1.count(elem), lst_2_2.count(elem)]
#
# new_dct = dict(map(lambda x: (x[0], min(x[1])) if 0 not in x[1] else (x[0], max(x[1])), dct.items()))
#
# s = ''
# for key, value in new_dct.items():
#     s += str(key) * value
# print(list(map(int, s)))

res_lst = []
for elem in set(lst_2_1 + lst_2_2):
    curr_lst = [lst_2_1.count(elem), lst_2_2.count(elem)]
    val = min(curr_lst) if 0 not in curr_lst else max(curr_lst)
    res_lst.extend([elem] * val)
print(res_lst)"
   ]
  },
  {
   "cell_type": "markdown",
   "id": "412b9ff3-210f-4e37-bce8-06b61ca2bc6c",
   "metadata": {},
   "source": [
    "#### Задача 12. \n",
    "\n",
    "Дан неупорядоченный список чисел. Предполагая, что его элементы - значения масс, найдите индекс списка, наиболее близкий к координате его центра масс.\n",
    "\n",
    "(Гуглить про центр масс не воспрещается)"
   ]
  },
  {
   "cell_type": "code",
   "execution_count": null,
   "id": "e0da1a8b-0b60-41de-bc73-16ac9dafe647",
   "metadata": {},
   "outputs": [],
   "source": [
    "lst_3 = [10, 20, 5, 50, 150, 10, 25, 100, 70, 30]\n",
    "\n",
    "lst_3 = [10, 20, 5, 50, 150, 10, 25, 100, 70, 30]
aver = sum(lst_3) / len(lst_3)
dct = {elem: abs(elem - aver) for elem in lst_3}
print(lst_3.index(min(dct, key=dct.get)))"
   ]
  }
 ],
 "metadata": {
  "kernelspec": {
   "display_name": "Python 3 (ipykernel)",
   "language": "python",
   "name": "python3"
  },
  "language_info": {
   "codemirror_mode": {
    "name": "ipython",
    "version": 3
   },
   "file_extension": ".py",
   "mimetype": "text/x-python",
   "name": "python",
   "nbconvert_exporter": "python",
   "pygments_lexer": "ipython3",
   "version": "3.9.12"
  }
 },
 "nbformat": 4,
 "nbformat_minor": 5
}
