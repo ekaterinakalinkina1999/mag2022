{
 "cells": [
  {
   "cell_type": "markdown",
   "id": "2fd7d71f-d770-4e9c-8f56-6e8ffb978e0d",
   "metadata": {},
   "source": [
    "#### Задача 1 (15 баллов). \n",
    "\n",
    "Давайте сделаем примитивного голосового помощника, задача которого - помогать пользователю изучать выбранный язык. Такая программа должна уметь следующие вещи: \n",
    "\n",
    "- разговаривать с пользователем голосом (и распознавать его речь)\n",
    "- знать команды \"переведи\" и \"зачитай вслух\". Обе команды заставляют программу предложить пользователю ввести текст, который потом переводится и/или зачитывается программой. \n",
    "- знать команду \"практика\": программа предлагает пользователю небольшой текст, выбранный случайным образом из базы данных программы. Пользователь должен зачитать текст вслух, а программа должна сравнить распознанный голос пользователя с исходным текстом и сообщить, если не совпало. \n",
    "- опционально можно добавить функцию для ручного пополнения базы данных. \n",
    "\n",
    "Язык выбираете какой угодно (из поддерживаемых библиотеками, конечно). "
   ]
  },
  {
   "cell_type": "code",
   "execution_count": null,
   "id": "45ce2387-c040-4dab-9058-22b8384cfb4c",
   "metadata": {},
   "outputs": [],
   "source": [
    "import speech_recognition as sr
from time import sleep


def micro(text=''):
    with sr.Microphone() as source:
        if text:
            print(text)
        audio = r.listen(source, 5, 30)
    return audio


def translate(st: str, source_lang='auto', target_lang='en') -> str:
    import deep_translator
    try:
        translated = deep_translator.GoogleTranslator(source=source_lang, target=target_lang).translate(st)
        return translated if translated != st else 'Просим прощения, не смогли перевести'
    except deep_translator.exceptions.LanguageNotSupportedException as e:
        return e


def read_aloud():
    from playsound import playsound
    import langcodes
    from gtts import gTTS

    language_inp = input('Введите полное название языка на английском: ')
    txt = input('Введите текст: ')
    try:
        language = langcodes.find(language_inp)
    except Exception as e:
        return e
    filename = "welcome.mp3"
    tts = gTTS(text=txt, lang=str(language))
    tts.save(filename)

    fullpath = filename  # важно: playsound не может проиграть файл по относительному пути
    playsound(fullpath)


def practice(rd=None):
    from random import randint
    lst = [('Привет', 'ru'), ('London is the capital of GB', 'en')]
    if not rd:
        rd = randint(0, len(lst) - 1)
    print(lst[rd][0], 'Зачитайте данный текст!', sep='\n')

    res = micro()
    if res:
        text = r.recognize_google(res, language=lst[rd][1])
        print(123, text)
        if text == lst[rd][0]:
            print('Все верно!')
        else:
            print('К сожаление, было сказано неверно, попробуйте снова')
            practice(rd=rd)
    else:
        print('Ничего не было сказано, попробуйте снова когда на экране будет фраза "Я вас слушаю!"')


while True:
    r = sr.Recognizer()
    audio = micro("""Я вас слушаю! Возможные команды: 
1) Переведи
2) Зачитай вслух
3) Практика
""")

    # в audio окажется записанный (но не сохраненный) звук с микрофона
    if audio:
        try:
            text = r.recognize_google(audio, language='ru').split()
            if text and text[0].lower() == 'переведи':
                # if len(text) > 4 and text[1].lower() == 'с' and text[3].lower() == 'на':
                #     print(translate(text[5:], source_lang=text[2], target_lang=text[4]))
                # elif len(text) > 3 and text[1].lower() == 'на':
                #     print(translate(text[5:], target_lang=text[2]))
                # else:
                print(translate(' '.join(text[1:])))
            elif text and ' '.join(text[:2]).lower() == 'зачитай вслух':
                read_aloud()
            elif text and text[0].lower() == 'практика':
                practice()
            else:
                print('Не удалось понять команду, попробуйте снова')
            print(text)
        except sr.UnknownValueError:
            print("Google Speech Recognition не справился")
        except sr.RequestError as e:
            print(f"Ошибка запроса: {e}")
    else:
        print('Ничего не было сказано, попробуйте снова когда на экране будет фраза "Я вас слушаю!"')
    sleep(5)"
   ]
  }
 ],
 "metadata": {
  "kernelspec": {
   "display_name": "Python 3 (ipykernel)",
   "language": "python",
   "name": "python3"
  },
  "language_info": {
   "codemirror_mode": {
    "name": "ipython",
    "version": 3
   },
   "file_extension": ".py",
   "mimetype": "text/x-python",
   "name": "python",
   "nbconvert_exporter": "python",
   "pygments_lexer": "ipython3",
   "version": "3.9.12"
  }
 },
 "nbformat": 4,
 "nbformat_minor": 5
}
