{
 "cells": [
  {
   "cell_type": "markdown",
   "id": "0b5d5d70-a889-4b3b-a829-a3fc9e490d0a",
   "metadata": {},
   "source": [
    "#### Задача 1. \n",
    "\n",
    "Напишите скрипт, который будет запрашивать у пользователя язык и текст и возвращать аудиофайл с этим текстом в озвучке. Пользователь пишет полное название языка!"
   ]
  },
  {
   "cell_type": "code",
   "execution_count": null,
   "id": "be9073f0-674f-443c-ab7b-b1370d14907d",
   "metadata": {},
   "outputs": [],
   "source": [
    "from gtts import gTTS
import langcodes

language_inp = input('Введите полное название языка на английском: ')
txt = input('Введите текст: ')

language = langcodes.find(language_inp)

filename = "welcome.mp3"

tts = gTTS(text=txt, lang=str(language))

tts.save(filename)"
   ]
  },
  {
   "cell_type": "markdown",
   "id": "287d41f8-d5b0-4c08-8543-94d79e5563ec",
   "metadata": {},
   "source": [
    "#### Задача 2. \n",
    "\n",
    "Напишите программу, которая будет просить у пользователя аудиофайлы, язык и пытаться распознать текст. В колабе можно использовать такую библиотеку:\n",
    "\n",
    "    from google.colab import files\n",
    "    \n",
    "    files.upload()\n",
    "    \n",
    "Аудиофайлы могут быть в разных форматах: mp3, wav, flac, aiff."
   ]
  },
  {
   "cell_type": "code",
   "execution_count": null,
   "id": "b100e689-e107-4d90-a7ed-9347af7b6ecb",
   "metadata": {},
   "outputs": [],
   "source": [
    "import langcodes
from pydub import AudioSegment
import speech_recognition as sr

#########
language_inp = input('Введите полное название языка на английском: ')
language = langcodes.find(language_inp)
########

r = sr.Recognizer()

# open mp3_file (Speech Recognition не поддерживает, поэтому  конвертируем в wav)
src = 'audio_input.mp3'
dst = 'audio_input.wav'
sound = AudioSegment.from_mp3(src)
sound.export(dst, format="wav")

with sr.AudioFile('audio_input.wav') as source_file:
    audio_file = r.record(source_file)
try:
    print(r.recognize_google(audio_file, language=str(language)))
except sr.UnknownValueError:
    print("Google Speech Recognition не справился")
except sr.RequestError as e:
    print(f"Ошибка запроса: {e}")

# open wav_file (Speech Recognition поддерживает)
with sr.AudioFile('audio_inputt.wav') as source_wav_file:
    audio_wav_file = r.record(source_wav_file)
try:
    print(r.recognize_google(audio_wav_file, language=str(language)))
except sr.UnknownValueError:
    print("Google Speech Recognition не справился")
except sr.RequestError as e:
    print(f"Ошибка запроса: {e}")

# open flac_file (Speech Recognition поддерживает)
with sr.AudioFile('audio_inputtt.flac') as source_flac_file:
    audio_flac_file = r.record(source_flac_file)
try:
    print(r.recognize_google(audio_flac_file, language=str(language)))
except sr.UnknownValueError:
    print("Google Speech Recognition не справился")
except sr.RequestError as e:
    print(f"Ошибка запроса: {e}")

# open aiff_file (Speech Recognition поддерживает)
with sr.AudioFile('audio_inputttt.aiff') as source_aiff_file:
    audio_aiff_file = r.record(source_aiff_file)
try:
    print(r.recognize_google(audio_aiff_file, language=str(language)))
except sr.UnknownValueError:
    print("Google Speech Recognition не справился")
except sr.RequestError as e:
    print(f"Ошибка запроса: {e}")"
   ]
  },
  {
   "cell_type": "markdown",
   "id": "c2ad1798-ccaa-497e-baaa-889ddc93c4a3",
   "metadata": {},
   "source": [
    "#### Задача 3.\n",
    "\n",
    "Выберите любой файл .eaf. Посмотрите, сколько в этом файле уровней разметки (tiers) и какие слова размечены на этих уровнях. Соберите разметку с разных уровней таким образом, чтобы при выводе образовалось два столбца, синхронизированных по времени. Конвертируйте файл в textGrid."
   ]
  },
  {
   "cell_type": "code",
   "execution_count": null,
   "id": "1e4a118c-be79-42b4-a77a-ffeb333a04ef",
   "metadata": {},
   "outputs": [],
   "source": [
    "# your code here"
   ]
  },
  {
   "cell_type": "markdown",
   "id": "26741d78-8e4e-45f7-b64b-c6d5c2df4eb2",
   "metadata": {
    "tags": []
   },
   "source": [
    "#### Задача 4. \n",
    "\n",
    "Возьмите любой из файлов .textGrid. Разберитесь, что в нем хранится, какие у него есть уровни разметки, что на них содержится. "
   ]
  },
  {
   "cell_type": "code",
   "execution_count": null,
   "id": "4f29bfdc-9b4f-459e-8330-de61b75ff16a",
   "metadata": {},
   "outputs": [],
   "source": [
    "# your code here"
   ]
  }
 ],
 "metadata": {
  "kernelspec": {
   "display_name": "Python 3 (ipykernel)",
   "language": "python",
   "name": "python3"
  },
  "language_info": {
   "codemirror_mode": {
    "name": "ipython",
    "version": 3
   },
   "file_extension": ".py",
   "mimetype": "text/x-python",
   "name": "python",
   "nbconvert_exporter": "python",
   "pygments_lexer": "ipython3",
   "version": "3.9.12"
  }
 },
 "nbformat": 4,
 "nbformat_minor": 5
}
