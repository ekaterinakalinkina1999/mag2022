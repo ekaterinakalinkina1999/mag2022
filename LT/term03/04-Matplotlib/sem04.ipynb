{
 "cells": [
  {
   "cell_type": "markdown",
   "id": "ddcc200a-ce0e-4461-8bf0-5c85c93f5330",
   "metadata": {},
   "source": [
    "#### Задача 1.\n",
    "\n",
    "Возьмите любой текст. Разбейте его на слова с помощью регулярных выражений либо любого токенизатора, какой знаете, посчитайте относительные частоты слов (частота слова / общее количество слов). Для первых 10 слов постройте график их частот. Это может быть просто линия (можете использовать перечень доступных параметров настройки [в документации](https://matplotlib.org/stable/api/_as_gen/matplotlib.pyplot.plot.html)), а может быть гистограмма или диаграмма, как вам больше нравится. "
   ]
  },
  {
   "cell_type": "code",
   "execution_count": null,
   "id": "7476aca9-6d4d-4d61-9ee3-3b93f665f7f7",
   "metadata": {},
   "outputs": [],
   "source": [
    "from nltk import pos_tag, word_tokenize
from nltk.probability import FreqDist

punctuations = ".?!,:;’-–—”()[]{}<>“/…*&#~\@^|"
txt_no_punc = ""

txt = """Все люди разные, и каждый сам выбирает, как проявлять эмоции. Для некоторых отстраненная помощь - это большой шаг на пути к поддержке собеседника. 
Другие готовы пожертвовать своим сном/ жизнью/ комфортом ради помощи близкому :(. Все люди разные, и нельзя обсуждать кого-то за неправильно оказанную помощь. 
Цените то, что имеете и старайтесь как можно больше доброго и хорошего отдавать в мир :), тогда и к вам жизнь будет добра"""


text = txt.lower().replace('\n', ' ')
for char in text:
    if char not in punctuations:
        txt_no_punc += char

number_of_words = len(txt_no_punc.split())

text_tokens = word_tokenize(txt_no_punc)
fq = FreqDist(token for token in text_tokens)

filtered_word_freq = dict((word, freq) for word, freq in fq.items() if not word.isdigit())

for item in fq:
    print(filtered_word_freq.get(item) / number_of_words)

print(fq.plot(10, cumulative=False))"
   ]
  },
  {
   "cell_type": "markdown",
   "id": "27618107-d02f-4741-84f7-49edc7e3da10",
   "metadata": {},
   "source": [
    "#### Задача 2.\n",
    "\n",
    "Представим себе, что у нас есть какие-нибудь данные по годам с 2000 по 2020 (можете просто сгенерировать случайные числа). Нам нужно разделить эти данные по пятилетиям и отобразить эти пятилетки на отдельных графиках. Постройте 4 графика в одном. "
   ]
  },
  {
   "cell_type": "code",
   "execution_count": null,
   "id": "27911a87-1405-4542-a9b2-4bc7f5f43359",
   "metadata": {},
   "outputs": [],
   "source": [
    "import matplotlib.pyplot as plt
import numpy as np


data = np.random.rand(21)

fig, axes = plt.subplots(2, 2, figsize=(12, 8))

for i, ax in enumerate(axes.flat):
    start_year = 2000 + i * 5
    end_year = start_year + 4
    subset_data = data[i*5:(i+1)*5]
    ax.plot(range(start_year, end_year+1), subset_data)
    ax.set_title(f'{start_year}-{end_year}')

plt.show()"
   ]
  },
  {
   "cell_type": "markdown",
   "id": "6c5224c5-15e7-4f61-8e2c-2afc596811de",
   "metadata": {},
   "source": [
    "#### Задача 3.\n",
    "\n",
    "Напишите функцию, которая будет строить график-гистограмму с помощью seaborn. Функция принимает два числа: x и n и генерирует n случайных значений от 0 до x. Таким образом, на оси X у нас числа от 1 до n, а на оси Y - сгенерированные значения. Выберите понравившуюся цветовую гамму. "
   ]
  },
  {
   "cell_type": "code",
   "execution_count": null,
   "id": "f1a54b5d-b951-4441-857a-64900b399594",
   "metadata": {},
   "outputs": [],
   "source": [
    "import matplotlib.pyplot as plt
import seaborn as sns
import numpy as np

def plot_histogram(x, n):
    # Генерируем n случайных значений от 0 до x
    values = np.random.randint(0, x, n)
    print(values)
    # Создаем график-гистограмму с помощью seaborn
    sns.barplot(x=list(range(1, n+1)), y=values, color='skyblue')

    # Настраиваем оси и заголовок графика
    plt.xlabel('X')
    plt.ylabel('Count')
    plt.title('Histogram')

    # Отображаем график
    plt.show()


plot_histogram(100, 10)"
   ]
  },
  {
   "cell_type": "markdown",
   "id": "10ce8ceb-779b-4b6c-ac17-cf5ec81060c3",
   "metadata": {},
   "source": [
    "#### Задача 4. \n",
    "\n",
    "Сделайте график из задачи 3 интерактивным. "
   ]
  },
  {
   "cell_type": "code",
   "execution_count": null,
   "id": "b2d67544-d565-4287-86db-1fcf6274b15e",
   "metadata": {},
   "outputs": [],
   "source": [
    "import plotly.graph_objects as go
import numpy as np

def plot_histogram(x, n):
    # Генерируем n случайных значений от 0 до x
    values = np.random.randint(0, x, n)

    # Создаем гистограмму с помощью plotly
    fig = go.Figure(data=[go.Bar(x=list(range(1, n+1)), y=values)])

    # Настраиваем оси и заголовок графика
    fig.update_layout(
        xaxis_title='X',
        yaxis_title='Count',
        title='Histogram'
    )

    # Отображаем график
    fig.show()
plot_histogram(100, 10)"
   ]
  }
 ],
 "metadata": {
  "kernelspec": {
   "display_name": "Python 3 (ipykernel)",
   "language": "python",
   "name": "python3"
  },
  "language_info": {
   "codemirror_mode": {
    "name": "ipython",
    "version": 3
   },
   "file_extension": ".py",
   "mimetype": "text/x-python",
   "name": "python",
   "nbconvert_exporter": "python",
   "pygments_lexer": "ipython3",
   "version": "3.8.10"
  }
 },
 "nbformat": 4,
 "nbformat_minor": 5
}
