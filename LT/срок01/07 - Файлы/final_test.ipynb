{
 "cells": [
  {
   "cell_type": "markdown",
   "id": "196c1726-e23d-4515-baba-d278b22abf63",
   "metadata": {},
   "source": [
    "#### Задача 1. \n",
    "\n",
    "Напишите программу, которая считает объем шара. Запрашивается радиус (не обязательно целое число), выводится объем. Формулу для расчета можно, естественно, нагуглить. "
   ]
  },
  {
   "cell_type": "code",
   "execution_count": null,
   "id": "19d9a0f0-ab27-4339-b149-1591936a8434",
   "metadata": {},
   "outputs": [],
   "source": [
    "import math\n",
    "\n",
    "def volume(r):\n",
    "    #your code here\n",
    "    \n",
    "import math
def volume(r):
    res = 4/3 * math.pi * r**3
    return res


radius = float(input("Введите радиус: "))
print(volume(radius)) "
   ]
  },
  {
   "cell_type": "markdown",
   "id": "7b0111ce-4de9-46b5-b03f-c5c55b8b30d3",
   "metadata": {},
   "source": [
    "#### Задача 2. \n",
    "\n",
    "Вводится две строки. Посчитайте, сколько процентов от длины первой строки составляет длина второй строки. "
   ]
  },
  {
   "cell_type": "code",
   "execution_count": null,
   "id": "ec0ee4a7-8e3a-42b5-bba4-2833d9f27c2f",
   "metadata": {},
   "outputs": [],
   "source": [
    "def percent(s1, s2):\n",
    " def percent(s1, s2):
    return (len(s2) / len(s1)) * 100

s1 = input("Введите первую строку: ")
s2 = input("Введите вторую строку: ")

print(percent(s1, s2)) "
   ]
  },
  {
   "cell_type": "markdown",
   "id": "5d9713ad-6994-4ab6-8874-bbea97ae76df",
   "metadata": {},
   "source": [
    "#### Задача 3. \n",
    "\n",
    "Вводится список. Если список упорядочен по возрастанию, выведите \"по возрастанию\", если по убыванию - то \"по убыванию\", а если не упорядочен - то \"не упорядочен\". "
   ]
  },
  {
   "cell_type": "code",
   "execution_count": null,
   "id": "38eb6472-a74f-497a-92b1-e0bbbc359b58",
   "metadata": {},
   "outputs": [],
   "source": [
    "def checker(lst):\n",
    " lst = input("Введите список для проверки: ").split()

def checker(lst):
    if lst == sorted(lst):
        return "по возр"
    elif lst == sorted(lst, reverse=True):
        return "по убыв"
    return "не упорядочен"

print(checker(lst)) "
   ]
  },
  {
   "cell_type": "markdown",
   "id": "4872d93e-17a8-4ce4-8195-d9576d7361e9",
   "metadata": {},
   "source": [
    "#### Задача 4. \n",
    "\n",
    "Дано N слов: сначала вводится число N, затем вводится ровно N слов английского языка (без пробелов, но могут быть с большой буквы). Подсчитайте количество артиклей \"the\" среди введенных слов и выведите это количество."
   ]
  },
  {
   "cell_type": "code",
   "execution_count": null,
   "id": "939216f2-68cd-456d-a058-8a2b9db15b19",
   "metadata": {},
   "outputs": [],
   "source": [
    "def the_counter(n):\n",
    " def the_counter(n):
    counter = 0
    for _ in range(n):
        words = input("Введите N слов английского языка без пробелов: ").lower()
        if words.startswith("the"):
            counter += 1
    return counter


n = int(input("Введите число N: ")) #количество слов
print(the_counter(n)) "
   ]
  },
  {
   "cell_type": "markdown",
   "id": "a5a38aec-09b6-484f-b7c1-f45ca0353e47",
   "metadata": {},
   "source": [
    "#### Задача 5. \n",
    "\n",
    "Сначала с экрана водится натуральное число X. Далее пользователь вводит последовательность чисел: числа вводятся последовательно по одному (списки с числами через пробел использовать нельзя!), последовательность завершается числом 0. Если в последовательности в какой-то момент встречается число X, программа должна прервать процесс и напечатать, каким по счёту в последовательности было это число. Если же число X не встретилось и последовательность закончилась, следует напечатать: \"Число X не встретилось\" (вместо 'X' должно быть его значение)."
   ]
  },
  {
   "cell_type": "code",
   "execution_count": null,
   "id": "bbb7fb5b-644b-4c38-b840-2c33ad52332e",
   "metadata": {},
   "outputs": [],
   "source": [
    " x = int(input("Введите натуральное число X: "))
num = int(input("Введите новое число: "))
counter = 1

while num != 0:
    if num == x:
        print("Число встретилось в последовательности под номером", counter)
        break
    num = int(input("Введите новое число: ")) 
    counter += 1
else:
    print(f"Число {x} не встретилось") "
   ]
  },
  {
   "cell_type": "markdown",
   "id": "fc79811a-c8ff-4897-8369-1b3392935626",
   "metadata": {},
   "source": [
    "#### Задача 6. \n",
    "\n",
    "Последовательность вводится с экрана и состоит из слов русского языка и завершается пустой строкой. Выведите длины и индексы всех слов, состоящих из нечётного количества букв в формате: \n",
    "\n",
    "    <слово1> (<длина1>) - <индекс1> \n",
    "    <слово2> (<длина2>) - <индекс2> \n",
    "    ... \n",
    "\n",
    "Например, если на 7-ом месте встретилось слово 'я', надо вывести: 'я (7) - 1'. Если таких слов нет, выведите на экран \"Все слова чётной длины\". Также требуется вывести на экран, сколько встретилось слов чётной длины. "
   ]
  },
  {
   "cell_type": "code",
   "execution_count": null,
   "id": "e45c67a9-f089-4c12-841a-395c4fda1bc2",
   "metadata": {},
   "outputs": [],
   "source": [
    " dct = {}
words = input("Введите последовательность слов, завершая пустой строчкой: ")
index = 1

while words != " ":
    if len(words) % 2 == 1:
        dct[index] = words
    words = input("Введите последовательность слов, завершая пустой строчкой: ")
    index += 1  
if dct:
    for key, value in dct.items():
        print(f"{value} ({len(value)}) - {key}")
else:
    print("Слова четной длины", index - 1) "
   ]
  },
  {
   "cell_type": "markdown",
   "id": "6dc8e330-dd0d-4a2b-b938-40bccc46214f",
   "metadata": {},
   "source": [
    "#### Задача 7. \n",
    "\n",
    "Напишите функцию, которая проверяет, что введенная строка - палиндром (пробелы учитываться не должны). Функция должна быть **рекурсивной**. "
   ]
  },
  {
   "cell_type": "code",
   "execution_count": null,
   "id": "af4f7c25-6d69-4320-b0ef-d2149b3fd23e",
   "metadata": {},
   "outputs": [],
   "source": [
    "def palindrome(s):\n",
    " st = input("Введите строку: ").replace(" ", "").lower()


def palindrome(s):
    if len(s) < 2:
        return True
    if s[0] != s[-1]:
        return False
    else:
        return palindrome(s[1:-1])


if palindrome(st):
    print('Строка является палиндромом')
else:
    print('Строка не является палиндромом') "
   ]
  },
  {
   "cell_type": "markdown",
   "id": "76097462-af9e-4ede-a218-ba90a39805dd",
   "metadata": {},
   "source": [
    "#### Задача 8. \n",
    "\n",
    "Каждый из некоторого множества школьников некоторой школы знает некоторое количество языков. Нужно определить сколько языков знают все школьники, и сколько языков знает хотя бы один из школьников.\n",
    "\n",
    "Сперва задается количество школьников. Для каждого из школьников сперва указывается количество языков, которое он знает, а затем - названия языков, по одному в строке.\n",
    "\n",
    "В первой строке выведите количество языков, которые знают все школьники. Начиная со второй строки - список таких языков. Затем - количество языков, которые знает хотя бы один школьник, на следующих строках - список таких языков. Языки нужно выводить в лексикографическом порядке, по одному на строке."
   ]
  },
  {
   "cell_type": "code",
   "execution_count": null,
   "id": "c495b8f6-e746-4774-a5a4-7741e80561f4",
   "metadata": {},
   "outputs": [],
   "source": [
    " all_languages = set()
lg = set()

all_pupils = int(input("Введите количество всех школьников: "))

for _ in range(all_pupils):
    amount_languages = int(input("Введите количество языков одного школьника: "))
    current_lg = set()

    for _ in range(amount_languages):
        language = input("Введите все языки по одному в строке: ")
        lg.add(language)
        current_lg.add(language)

    if all_languages:
        all_languages.intersection_update(current_lg)
    else:
        all_languages.update(current_lg)

print(len(lg))
print("\n".join(lg))

print(len(all_languages))
print("\n".join(sorted(all_languages))) "
   ]
  },
  {
   "cell_type": "markdown",
   "id": "faf4eaa8-99c4-482c-b1ff-8a287f2664ab",
   "metadata": {},
   "source": [
    "#### Задача 9. \n",
    "\n",
    "Напишите свою собственную простейшую функцию токенизации, которая оставляет только список слов (без пунктуации и всего остального). Подумайте про слова с дефисами. "
   ]
  },
  {
   "cell_type": "code",
   "execution_count": null,
   "id": "0561f18d-8366-4e31-9db0-ef24122e36aa",
   "metadata": {},
   "outputs": [],
   "source": [
    "def wordization(string) -> list:\n",
    " import string

txt = "The First sentence is about Python. The Second: about Django. You can learn Python, " \
      "Django and Data Ananlysis here."


def wordization(string) -> list:
    punctuation = """!"#$\\%&'()*+,-./:;<=>?@[]^_`{|}~»«"""
    word_list = []

    for word in string.split():
        clear_word = word.strip(punctuation)
        if clear_word:
            word_list.append(clear_word)

    return word_list "
   ]
  },
  {
   "cell_type": "markdown",
   "id": "602948f7-c3cd-4d26-8413-7be00714aaa5",
   "metadata": {},
   "source": [
    "#### Задача 10. \n",
    "\n",
    "Зализняк-2. Дан любой русскоязычный текст: текст должен быть достаточно большим (можно взять какое-нибудь произведение) и лежать в текстовом файле. Составьте на его основе словарь Зализняка по следующим принципам:\n",
    "\n",
    "- Все уникальные слова исходного текста должны быть отсортированы в обратном лексикографическом порядке с учетом буквы ё;\n",
    "- Программа должна проверять, существует ли папка dictionary, и если не существует, то создавать таковую;\n",
    "- В папке dictionary должны лежать (предположительно) 33 текстовых файла с названиями вида А.txt, Б.txt и так далее, в каждом файле - отсортированные слова, заканчивающиеся на данную букву;\n",
    "- для получения списка слов можно использовать свою функцию из задачи 9. "
   ]
  },
  {
   "cell_type": "code",
   "execution_count": null,
   "id": "b4f661f5-1a57-419e-9e61-0d5d40734c9e",
   "metadata": {},
   "outputs": [],
   "source": [
    "def yo(string):\n",
    "    # сортировка с учетом ё\n",
    "    \n",
    "def dict_creator(path):\n",
    " import os
from task_09 import wordization


def get_key(word):
    return list(map(right_alhabet.index, word))


right_alhabet = 'абвгдеёжзийклмнопрстуфхцчшщъыьэюя'

files = os.listdir(os.getcwd())

if 'dictionary' not in files:
    os.mkdir('dictionary')

dct = {}

with open('vot_chto_interesno.txt', 'r', encoding='utf-8') as infile:
    unique_words = wordization(infile.read().lower())


unique_words = ['африка', "ёжик", "мадагаскар", "банан", 'ёлка', 'яблоко', "ежевика"]
sorted_unique_words = sorted(unique_words, key=get_key, reverse=True)

for word in sorted_unique_words:
    if word[-1] not in dct:
        dct[word[-1]] = []
    dct[word[-1]] += [word]


for key in right_alhabet:
    with open(f"dictionary/{key.upper()}", 'w', encoding='utf-8') as outfile:
        if key in dct:
            print(*dct.get(key), sep='\n', file=outfile)


def sorted_words(set_words):
     lst_words = list(set_words)
     for i in range(len(lst_words) - 1):
         for j in range(len(lst_words) - i - 1):
             current_word = lst_words[j]
             next_word = lst_words[j + 1]
             for k in range(len(current_word) if len(current_word) < len(next_word) else len(next_word)):
                 current_word_symbol = current_word[k]
                 next_word_symbol = next_word[k]
                 if right_alhabet[current_word_symbol] > right_alhabet[next_word_symbol]:
                     lst_words[j], lst_words[j + 1] = lst_words[j + 1], lst_words[j]
                     break
                 elif right_alhabet[current_word_symbol] == right_alhabet[next_word_symbol]:
                     continue
                 else:
                     break
     return lst_words "
   ]
  },
  {
   "cell_type": "markdown",
   "id": "8ffdc494-1ab4-445b-9d95-1041a6f0ef79",
   "metadata": {},
   "source": [
    "#### Задача 11. \n",
    "\n",
    "Дан текст преимущественно русскоязычного художественного произведения, лежащий в текстовом файле (возьмите любой, какой захотите). Программа должна посчитать количество слов, которые написаны в латинице, и вывести самые частотные 10 из них. "
   ]
  },
  {
   "cell_type": "code",
   "execution_count": null,
   "id": "fc1f9e4e-f8fc-418b-b064-1d5a3ba99525",
   "metadata": {},
   "outputs": [],
   "source": [
    " import string


def all_en(word):
    for symb in word:
        if symb not in string.ascii_letters:
            return False
    return True


with open("Lev_i_sobaka.txt") as infile:

    word_dct = {}

    for word in infile.read().split():

        clear_word = word.strip(string.punctuation)

        if all_en(clear_word):
            if clear_word not in word_dct:
                word_dct[clear_word] = 1
            else:
                word_dct[clear_word] += 1

    result = sorted(word_dct, key=word_dct.get, reverse=True)

    print(result[0:10]) "
   ]
  },
  {
   "cell_type": "markdown",
   "id": "75f72ac3-54a8-428f-bfd4-5145f9bf8b4f",
   "metadata": {},
   "source": [
    "#### Задача 12. \n",
    "\n",
    "Дан текст, в котором выравнивание производилось вручную (таких текстов полно [здесь](http://www.lib.ru/), например), то есть, переносы на новую строку встречаются в середине предложения и при изменении шрифта выровнять текст автоматически невозможно. Напишите функцию, которая будет автоматически удалять лишние переносы на новую строку (считаем, что они лишние, если перед ними не идет точка или двоеточие). "
   ]
  },
  {
   "cell_type": "code",
   "execution_count": null,
   "id": "4e305647-ff28-46f8-b382-00c742730cb8",
   "metadata": {},
   "outputs": [],
   "source": [
    "def anti_eol(text):\n",
    " def anti_eol(text):
    new_text = text[0]

    for i in range(1, len(text)):
        if text[i] == '\n' and text[i - 1] not in '.:':
            continue
        else:
            new_text += text[i]

    return new_text


print(anti_eol('123\n456.\n789')) "
   ]
  },
  {
   "cell_type": "markdown",
   "id": "ce36c3c3-7123-499d-b2e3-b9bd00cc68bc",
   "metadata": {},
   "source": [
    "#### Задача 13. \n",
    "\n",
    "Гадалка. Пользователь вводит общий вопрос на русском языке (на который можно ответить да/нет). Программа, конечно, может гадать рандомом, но интереснее хоть как-то привязать ответ к самому вопросу; давайте это сделаем при помощи количества букв в словах. Таким образом, в первую строчку записываем числа: \n",
    "\n",
    "    <количество слов в вопросе> <длина 1 слова> <длина 2 слова> ... \n",
    "    \n",
    "После чего складываем числа по парам: первое со вторым, второе с третьим и так далее, чтобы получилась строчка на 1 элемент короче. Если результат сложения >= 10, вычитаем столько девяток, чтобы получилось однозначное число (9 годится, 10 - нет). Таким же образом обрабатываем вторую получившуюся строку и делаем так, пока не останется одно-единственное число. Если оно четное, ответ \"да\", если нечетное - ответ \"нет\". Таким образом, ответ на \"получу ли я зачет по программированию\" должен быть \"да\". Считаем, что знаков препинания в вопросе нет (или можно использовать свою функцию токенизации из задачи 9). "
   ]
  },
  {
   "cell_type": "code",
   "execution_count": null,
   "id": "e3e951ff-4012-479c-a8ca-858a790656b9",
   "metadata": {},
   "outputs": [],
   "source": [
    "def soothsayer():\n",
    " import task_09


def soothsayer(question):
    question_without_punctuation = task_09.wordization(question)
    lst = [len(question_without_punctuation)]
    for word in question_without_punctuation:
        lst.append(len(word))

    while len(lst) > 1:
        for i in range(1, len(lst)):
            res = lst[i] + lst[i - 1]
            if res > 9:
                lst[i - 1] = res % 9
            else:
                lst[i - 1] = res
        lst.pop()

    if lst[0] % 2 == 0:
        print('да')
    else:
        print('нет')


soothsayer('получу ли я зачет по программированию') "
   ]
  },
  {
   "cell_type": "markdown",
   "id": "64202197-dbf1-49b4-8a6b-6858000acb2f",
   "metadata": {},
   "source": [
    "#### Задача 14. \n",
    "\n",
    "Игра в столицы. \n",
    "\n",
    "Напишем игру, в которой пользователю предлагается угадывать столицу по названию страны. Нам для этого понадобится составить файл со списком стран, их столиц и населения (википедия в помощь); можно просто в текстовом файле записывать данные в формате:\n",
    "\n",
    "    страна\\tстолица\\tнаселение\n",
    "    \n",
    "Либо распарсить такой файл и перезаписать json или pickle. При запуске игры игроку предлагается выбор из следующих опций:\n",
    "\n",
    "1. Показать список стран и их столиц\n",
    "2. Вывести столицу страны по ее названию\n",
    "3. Настроить параметры: количество предлагаемых вариантов для выбора (от 2 до 8) и количество раундов. \n",
    "4. Собственно играть. \n",
    "5. Выход. \n",
    "\n",
    "При выборе 4 опции программа n раз (сколько у нас раундов) выводит название страны и m (сколько выбрано вариантов) вариантов ее столицы. Если игрок угадал правильно, ему должны начисляться баллы по формуле log(100 000 000 / население страны), функция log есть в модуле math. В конце игры, когда завершатся все раунды, нужно будет вывести итоговые баллы. "
   ]
  },
  {
   "cell_type": "code",
   "execution_count": null,
   "id": "87f6efdd-30bf-4ced-a11f-a237d39bba9d",
   "metadata": {},
   "outputs": [],
   "source": [
    "from random import choice, sample, shuffle # почитайте про эти функции модуля random: они вам очень пригодятся\n",
    "from math import log\n",
    "\n",
    "def load():\n",
    "    # функция, которая будет проверять существование файла с данными и загружать его в игру\n",
    "    \n",
    "def showlist():\n",
    "    # функция, которая будет показывать список стран со столицами. Отформатируйте его красиво!\n",
    "    \n",
    "def play(n, m):\n",
    "    # сама игра\n",
    "    \n",
    "data = load() \n",
    "'''вы можете завести один словарь со словарями: \n",
    "{'Russia': {'capital': 'Moscow', 'population': '147182123'}}, => data['Russia']['capital'] вернет название столицы\n",
    "либо два словаря, либо словарь с кортежами, как вам будет удобно\n",
    "'''\n",
    "total_points = 0 # общее количество баллов игрока\n",
    "n = 4 # количество раундов по умолчанию\n",
    "m = 4 # количество предлагаемых вариантов по умолчанию\n",
    "while True:\n",
    "    # вывести описание доступных опций\n",
    "    c = input()\n",
    "    if c == '5':\n",
    "        break\n",
    "    # обработка остальных опций\n",
    " #my code here
from random import choice, sample, shuffle
from math import log


def load():
    information = {}
    try:
        infile = open('information.txt', "r", encoding='utf-8')
        for line in infile:
            country, capital, population = line.strip().split()
            information[country] = {'capital': capital, 'population': int(population)}
    except FileNotFoundError:
        print(f"Ошибка! Файла не существует")
    return information


def showlist():
    print("Страны и их столицы: ")
    for index, key in enumerate(data, 1):
        print(f"{index}. {key} - {data[key]['capital']}")


# функция, которая будет показывать список стран со столицами. Отформатируйте его красиво!

def play(n, m):
    counties = list(data.keys())
    global total_points
    for _ in range(n):
        country = choice(counties)

        right_capital = data[country]['capital']
        capitlals = [data[key]['capital'] for key in sample(counties, k=m - 1)]

        while right_capital in capitlals:
            capitlals = [data[key]['capital'] for key in sample(counties, k=m - 1)]

        capitlals.append(right_capital)
        shuffle(capitlals)
        print(f"Выберите правильную столицу {country}: ")
        for i in range(1, len(capitlals) + 1):
            print(f"{i}) {capitlals[i - 1]}", end=' ')
        print()
        user_answer = int(input('Выберите число: '))
        ind_right_capital = capitlals.index(right_capital) + 1
        if user_answer == ind_right_capital:
            print("Совершенно верно!")
            total_points += log(100000000 / data[country]['population'])
        else:
            print(f"К сожалению, неверно. Правильный ответ: Столица {country} - {right_capital}")
        del data[country]
        counties.remove(country)

data = load()
'''вы можете завести один словарь со словарями: 
{'Russia': {'capital': 'Moscow', 'population': '147182123'}}, => data['Russia']['capital'] вернет название столицы
либо два словаря, либо словарь с кортежами, как вам будет удобно
'''
total_points = 0  # общее количество баллов игрока
n = 4  # количество раундов по умолчанию
m = 4  # количество предлагаемых вариантов по умолчанию
while True:
    print("""Выберите число:    
1) Показать список стран и их столиц
2) Вывести столицу страны по ее названию
3) Настроить параметры: количество предлагаемых вариантов для выбора (от 2 до 8) и количество раундов.
4) Собственно играть.
5) Выход.""")
    print()
    c = input("Введите число: ")
    if c == '5':
        break
    elif c == '1':
        showlist()
        print()
    elif c == '2':
        name_country = input("Введите название страну, чью столицу Вы хотите узнать: ")
        if name_country in data:
            print(f"Столица {name_country} - {data[name_country]['capital']}")
            print()
        else:
            print('К сожалению, такая страна неизвестна')
            print()
    elif c == '3':
        n = int(input("Введите желаемое количество вариантов для выбора (от 2 до 8): "))
        m = int(input("Введите желаемое количество раундов: "))
        print()
    elif c == '4':
        print()
        play(n, m)
        print()
        print("Игра закончилась!")
        print(f'Количество набранных Вами баллов: {total_points}. Поздравляем!!!')
        break
 "
   ]
  },
  {
   "cell_type": "markdown",
   "id": "0a637adf-3c79-4451-a6fd-ae3fa961b931",
   "metadata": {},
   "source": [
    "#### Задача 15. \n",
    "\n",
    "Дан текст (в текстовом файле). Со знаками пунктуации и проч. Сделайте частотный анализ словоформ: для каждой словоформы выведите, сколько раз она встретилась в тексте, и её IPM (посчитанный на этом тексте). Вывод должен отсортирован по убыванию частоты, и по алфавиту в случае одинаковых частот (подумайте, как это сделать с помощью lambda). Постарайтесь сделать это красиво."
   ]
  },
  {
   "cell_type": "code",
   "execution_count": null,
   "id": "8990f04a-ab2f-4e66-b89b-8d8d57b87bea",
   "metadata": {},
   "outputs": [],
   "source": [
    "def analysis(text):\n",
    "    # your code here"
   ]
  }
 ],
 "metadata": {
  "kernelspec": {
   "display_name": "Python 3 (ipykernel)",
   "language": "python",
   "name": "python3"
  },
  "language_info": {
   "codemirror_mode": {
    "name": "ipython",
    "version": 3
   },
   "file_extension": ".py",
   "mimetype": "text/x-python",
   "name": "python",
   "nbconvert_exporter": "python",
   "pygments_lexer": "ipython3",
   "version": "3.9.12"
  }
 },
 "nbformat": 4,
 "nbformat_minor": 5
}
